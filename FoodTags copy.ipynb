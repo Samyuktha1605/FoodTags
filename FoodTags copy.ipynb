{
 "cells": [
  {
   "cell_type": "markdown",
   "metadata": {},
   "source": [
    "#### Imports"
   ]
  },
  {
   "cell_type": "code",
   "execution_count": 1,
   "metadata": {},
   "outputs": [
    {
     "name": "stdout",
     "output_type": "stream",
     "text": [
      "Defaulting to user installation because normal site-packages is not writeable\n",
      "Requirement already satisfied: transformers in /Users/anu/Library/Python/3.9/lib/python/site-packages (4.38.2)\n",
      "Requirement already satisfied: filelock in /Users/anu/Library/Python/3.9/lib/python/site-packages (from transformers) (3.13.1)\n",
      "Requirement already satisfied: huggingface-hub<1.0,>=0.19.3 in /Users/anu/Library/Python/3.9/lib/python/site-packages (from transformers) (0.21.2)\n",
      "Requirement already satisfied: numpy>=1.17 in /Users/anu/Library/Python/3.9/lib/python/site-packages (from transformers) (1.26.3)\n",
      "Requirement already satisfied: packaging>=20.0 in /Users/anu/Library/Python/3.9/lib/python/site-packages (from transformers) (23.2)\n",
      "Requirement already satisfied: pyyaml>=5.1 in /Users/anu/Library/Python/3.9/lib/python/site-packages (from transformers) (6.0.1)\n",
      "Requirement already satisfied: regex!=2019.12.17 in /Users/anu/Library/Python/3.9/lib/python/site-packages (from transformers) (2023.12.25)\n",
      "Requirement already satisfied: requests in /Users/anu/Library/Python/3.9/lib/python/site-packages (from transformers) (2.31.0)\n",
      "Requirement already satisfied: tokenizers<0.19,>=0.14 in /Users/anu/Library/Python/3.9/lib/python/site-packages (from transformers) (0.15.2)\n",
      "Requirement already satisfied: safetensors>=0.4.1 in /Users/anu/Library/Python/3.9/lib/python/site-packages (from transformers) (0.4.2)\n",
      "Requirement already satisfied: tqdm>=4.27 in /Users/anu/Library/Python/3.9/lib/python/site-packages (from transformers) (4.66.1)\n",
      "Requirement already satisfied: fsspec>=2023.5.0 in /Users/anu/Library/Python/3.9/lib/python/site-packages (from huggingface-hub<1.0,>=0.19.3->transformers) (2024.2.0)\n",
      "Requirement already satisfied: typing-extensions>=3.7.4.3 in /Users/anu/Library/Python/3.9/lib/python/site-packages (from huggingface-hub<1.0,>=0.19.3->transformers) (4.9.0)\n",
      "Requirement already satisfied: charset-normalizer<4,>=2 in /Users/anu/Library/Python/3.9/lib/python/site-packages (from requests->transformers) (3.3.2)\n",
      "Requirement already satisfied: idna<4,>=2.5 in /Users/anu/Library/Python/3.9/lib/python/site-packages (from requests->transformers) (3.6)\n",
      "Requirement already satisfied: urllib3<3,>=1.21.1 in /Users/anu/Library/Python/3.9/lib/python/site-packages (from requests->transformers) (2.2.1)\n",
      "Requirement already satisfied: certifi>=2017.4.17 in /Users/anu/Library/Python/3.9/lib/python/site-packages (from requests->transformers) (2024.2.2)\n",
      "Defaulting to user installation because normal site-packages is not writeable\n",
      "Requirement already satisfied: scikit-learn in /Users/anu/Library/Python/3.9/lib/python/site-packages (1.3.2)\n",
      "Requirement already satisfied: numpy<2.0,>=1.17.3 in /Users/anu/Library/Python/3.9/lib/python/site-packages (from scikit-learn) (1.26.3)\n",
      "Requirement already satisfied: scipy>=1.5.0 in /Users/anu/Library/Python/3.9/lib/python/site-packages (from scikit-learn) (1.11.4)\n",
      "Requirement already satisfied: joblib>=1.1.1 in /Users/anu/Library/Python/3.9/lib/python/site-packages (from scikit-learn) (1.3.2)\n",
      "Requirement already satisfied: threadpoolctl>=2.0.0 in /Users/anu/Library/Python/3.9/lib/python/site-packages (from scikit-learn) (3.2.0)\n",
      "Defaulting to user installation because normal site-packages is not writeable\n",
      "Requirement already satisfied: datasets in /Users/anu/Library/Python/3.9/lib/python/site-packages (2.18.0)\n",
      "Requirement already satisfied: filelock in /Users/anu/Library/Python/3.9/lib/python/site-packages (from datasets) (3.13.1)\n",
      "Requirement already satisfied: numpy>=1.17 in /Users/anu/Library/Python/3.9/lib/python/site-packages (from datasets) (1.26.3)\n",
      "Requirement already satisfied: pyarrow>=12.0.0 in /Users/anu/Library/Python/3.9/lib/python/site-packages (from datasets) (15.0.1)\n",
      "Requirement already satisfied: pyarrow-hotfix in /Users/anu/Library/Python/3.9/lib/python/site-packages (from datasets) (0.6)\n",
      "Requirement already satisfied: dill<0.3.9,>=0.3.0 in /Users/anu/Library/Python/3.9/lib/python/site-packages (from datasets) (0.3.8)\n",
      "Requirement already satisfied: pandas in /Users/anu/Library/Python/3.9/lib/python/site-packages (from datasets) (2.1.4)\n",
      "Requirement already satisfied: requests>=2.19.0 in /Users/anu/Library/Python/3.9/lib/python/site-packages (from datasets) (2.31.0)\n",
      "Requirement already satisfied: tqdm>=4.62.1 in /Users/anu/Library/Python/3.9/lib/python/site-packages (from datasets) (4.66.1)\n",
      "Requirement already satisfied: xxhash in /Users/anu/Library/Python/3.9/lib/python/site-packages (from datasets) (3.4.1)\n",
      "Requirement already satisfied: multiprocess in /Users/anu/Library/Python/3.9/lib/python/site-packages (from datasets) (0.70.16)\n",
      "Requirement already satisfied: fsspec<=2024.2.0,>=2023.1.0 in /Users/anu/Library/Python/3.9/lib/python/site-packages (from fsspec[http]<=2024.2.0,>=2023.1.0->datasets) (2024.2.0)\n",
      "Requirement already satisfied: aiohttp in /Users/anu/Library/Python/3.9/lib/python/site-packages (from datasets) (3.9.3)\n",
      "Requirement already satisfied: huggingface-hub>=0.19.4 in /Users/anu/Library/Python/3.9/lib/python/site-packages (from datasets) (0.21.2)\n",
      "Requirement already satisfied: packaging in /Users/anu/Library/Python/3.9/lib/python/site-packages (from datasets) (23.2)\n",
      "Requirement already satisfied: pyyaml>=5.1 in /Users/anu/Library/Python/3.9/lib/python/site-packages (from datasets) (6.0.1)\n",
      "Requirement already satisfied: aiosignal>=1.1.2 in /Users/anu/Library/Python/3.9/lib/python/site-packages (from aiohttp->datasets) (1.3.1)\n",
      "Requirement already satisfied: attrs>=17.3.0 in /Users/anu/Library/Python/3.9/lib/python/site-packages (from aiohttp->datasets) (23.2.0)\n",
      "Requirement already satisfied: frozenlist>=1.1.1 in /Users/anu/Library/Python/3.9/lib/python/site-packages (from aiohttp->datasets) (1.4.1)\n",
      "Requirement already satisfied: multidict<7.0,>=4.5 in /Users/anu/Library/Python/3.9/lib/python/site-packages (from aiohttp->datasets) (6.0.5)\n",
      "Requirement already satisfied: yarl<2.0,>=1.0 in /Users/anu/Library/Python/3.9/lib/python/site-packages (from aiohttp->datasets) (1.9.4)\n",
      "Requirement already satisfied: async-timeout<5.0,>=4.0 in /Users/anu/Library/Python/3.9/lib/python/site-packages (from aiohttp->datasets) (4.0.3)\n",
      "Requirement already satisfied: typing-extensions>=3.7.4.3 in /Users/anu/Library/Python/3.9/lib/python/site-packages (from huggingface-hub>=0.19.4->datasets) (4.9.0)\n",
      "Requirement already satisfied: charset-normalizer<4,>=2 in /Users/anu/Library/Python/3.9/lib/python/site-packages (from requests>=2.19.0->datasets) (3.3.2)\n",
      "Requirement already satisfied: idna<4,>=2.5 in /Users/anu/Library/Python/3.9/lib/python/site-packages (from requests>=2.19.0->datasets) (3.6)\n",
      "Requirement already satisfied: urllib3<3,>=1.21.1 in /Users/anu/Library/Python/3.9/lib/python/site-packages (from requests>=2.19.0->datasets) (2.2.1)\n",
      "Requirement already satisfied: certifi>=2017.4.17 in /Users/anu/Library/Python/3.9/lib/python/site-packages (from requests>=2.19.0->datasets) (2024.2.2)\n",
      "Requirement already satisfied: python-dateutil>=2.8.2 in /Users/anu/Library/Python/3.9/lib/python/site-packages (from pandas->datasets) (2.8.2)\n",
      "Requirement already satisfied: pytz>=2020.1 in /Users/anu/Library/Python/3.9/lib/python/site-packages (from pandas->datasets) (2023.3.post1)\n",
      "Requirement already satisfied: tzdata>=2022.1 in /Users/anu/Library/Python/3.9/lib/python/site-packages (from pandas->datasets) (2023.4)\n",
      "Requirement already satisfied: six>=1.5 in /Library/Developer/CommandLineTools/Library/Frameworks/Python3.framework/Versions/3.9/lib/python3.9/site-packages (from python-dateutil>=2.8.2->pandas->datasets) (1.15.0)\n",
      "Defaulting to user installation because normal site-packages is not writeable\n",
      "Requirement already satisfied: torch in /Users/anu/Library/Python/3.9/lib/python/site-packages (2.2.1)\n",
      "Requirement already satisfied: filelock in /Users/anu/Library/Python/3.9/lib/python/site-packages (from torch) (3.13.1)\n",
      "Requirement already satisfied: typing-extensions>=4.8.0 in /Users/anu/Library/Python/3.9/lib/python/site-packages (from torch) (4.9.0)\n",
      "Requirement already satisfied: sympy in /Users/anu/Library/Python/3.9/lib/python/site-packages (from torch) (1.12)\n",
      "Requirement already satisfied: networkx in /Users/anu/Library/Python/3.9/lib/python/site-packages (from torch) (3.2.1)\n",
      "Requirement already satisfied: jinja2 in /Users/anu/Library/Python/3.9/lib/python/site-packages (from torch) (3.1.3)\n",
      "Requirement already satisfied: fsspec in /Users/anu/Library/Python/3.9/lib/python/site-packages (from torch) (2024.2.0)\n",
      "Requirement already satisfied: MarkupSafe>=2.0 in /Users/anu/Library/Python/3.9/lib/python/site-packages (from jinja2->torch) (2.1.5)\n",
      "Requirement already satisfied: mpmath>=0.19 in /Users/anu/Library/Python/3.9/lib/python/site-packages (from sympy->torch) (1.3.0)\n",
      "Defaulting to user installation because normal site-packages is not writeable\n",
      "Requirement already satisfied: accelerate in /Users/anu/Library/Python/3.9/lib/python/site-packages (0.28.0)\n",
      "Requirement already satisfied: numpy>=1.17 in /Users/anu/Library/Python/3.9/lib/python/site-packages (from accelerate) (1.26.3)\n",
      "Requirement already satisfied: packaging>=20.0 in /Users/anu/Library/Python/3.9/lib/python/site-packages (from accelerate) (23.2)\n",
      "Requirement already satisfied: psutil in /Users/anu/Library/Python/3.9/lib/python/site-packages (from accelerate) (5.9.7)\n",
      "Requirement already satisfied: pyyaml in /Users/anu/Library/Python/3.9/lib/python/site-packages (from accelerate) (6.0.1)\n",
      "Requirement already satisfied: torch>=1.10.0 in /Users/anu/Library/Python/3.9/lib/python/site-packages (from accelerate) (2.2.1)\n",
      "Requirement already satisfied: huggingface-hub in /Users/anu/Library/Python/3.9/lib/python/site-packages (from accelerate) (0.21.2)\n",
      "Requirement already satisfied: safetensors>=0.3.1 in /Users/anu/Library/Python/3.9/lib/python/site-packages (from accelerate) (0.4.2)\n",
      "Requirement already satisfied: filelock in /Users/anu/Library/Python/3.9/lib/python/site-packages (from torch>=1.10.0->accelerate) (3.13.1)\n",
      "Requirement already satisfied: typing-extensions>=4.8.0 in /Users/anu/Library/Python/3.9/lib/python/site-packages (from torch>=1.10.0->accelerate) (4.9.0)\n",
      "Requirement already satisfied: sympy in /Users/anu/Library/Python/3.9/lib/python/site-packages (from torch>=1.10.0->accelerate) (1.12)\n",
      "Requirement already satisfied: networkx in /Users/anu/Library/Python/3.9/lib/python/site-packages (from torch>=1.10.0->accelerate) (3.2.1)\n",
      "Requirement already satisfied: jinja2 in /Users/anu/Library/Python/3.9/lib/python/site-packages (from torch>=1.10.0->accelerate) (3.1.3)\n",
      "Requirement already satisfied: fsspec in /Users/anu/Library/Python/3.9/lib/python/site-packages (from torch>=1.10.0->accelerate) (2024.2.0)\n",
      "Requirement already satisfied: requests in /Users/anu/Library/Python/3.9/lib/python/site-packages (from huggingface-hub->accelerate) (2.31.0)\n",
      "Requirement already satisfied: tqdm>=4.42.1 in /Users/anu/Library/Python/3.9/lib/python/site-packages (from huggingface-hub->accelerate) (4.66.1)\n",
      "Requirement already satisfied: MarkupSafe>=2.0 in /Users/anu/Library/Python/3.9/lib/python/site-packages (from jinja2->torch>=1.10.0->accelerate) (2.1.5)\n",
      "Requirement already satisfied: charset-normalizer<4,>=2 in /Users/anu/Library/Python/3.9/lib/python/site-packages (from requests->huggingface-hub->accelerate) (3.3.2)\n",
      "Requirement already satisfied: idna<4,>=2.5 in /Users/anu/Library/Python/3.9/lib/python/site-packages (from requests->huggingface-hub->accelerate) (3.6)\n",
      "Requirement already satisfied: urllib3<3,>=1.21.1 in /Users/anu/Library/Python/3.9/lib/python/site-packages (from requests->huggingface-hub->accelerate) (2.2.1)\n",
      "Requirement already satisfied: certifi>=2017.4.17 in /Users/anu/Library/Python/3.9/lib/python/site-packages (from requests->huggingface-hub->accelerate) (2024.2.2)\n",
      "Requirement already satisfied: mpmath>=0.19 in /Users/anu/Library/Python/3.9/lib/python/site-packages (from sympy->torch>=1.10.0->accelerate) (1.3.0)\n"
     ]
    }
   ],
   "source": [
    "!pip install transformers\n",
    "!pip install scikit-learn\n",
    "!pip install datasets\n",
    "!pip install torch\n",
    "!pip install accelerate -U"
   ]
  },
  {
   "cell_type": "code",
   "execution_count": null,
   "metadata": {},
   "outputs": [
    {
     "name": "stderr",
     "output_type": "stream",
     "text": [
      "huggingface/tokenizers: The current process just got forked, after parallelism has already been used. Disabling parallelism to avoid deadlocks...\n",
      "To disable this warning, you can either:\n",
      "\t- Avoid using `tokenizers` before the fork if possible\n",
      "\t- Explicitly set the environment variable TOKENIZERS_PARALLELISM=(true | false)\n"
     ]
    },
    {
     "name": "stdout",
     "output_type": "stream",
     "text": [
      "Defaulting to user installation because normal site-packages is not writeable\n",
      "Requirement already satisfied: pip in /Users/anu/Library/Python/3.9/lib/python/site-packages (24.0)\n",
      "Requirement already satisfied: install in /Users/anu/Library/Python/3.9/lib/python/site-packages (1.3.5)\n",
      "Requirement already satisfied: confplot in /Users/anu/Library/Python/3.9/lib/python/site-packages (0.1.1)\n",
      "Requirement already satisfied: numpy>=1.16.0 in /Users/anu/Library/Python/3.9/lib/python/site-packages (from confplot) (1.26.3)\n",
      "Requirement already satisfied: matplotlib>=3.0.0 in /Users/anu/Library/Python/3.9/lib/python/site-packages (from confplot) (3.8.2)\n",
      "Requirement already satisfied: scikit-learn>=0.22.2 in /Users/anu/Library/Python/3.9/lib/python/site-packages (from confplot) (1.3.2)\n",
      "Requirement already satisfied: pandas>=1.0.0 in /Users/anu/Library/Python/3.9/lib/python/site-packages (from confplot) (2.1.4)\n",
      "Requirement already satisfied: seaborn>=0.10.1 in /Users/anu/Library/Python/3.9/lib/python/site-packages (from confplot) (0.13.1)\n",
      "Requirement already satisfied: contourpy>=1.0.1 in /Users/anu/Library/Python/3.9/lib/python/site-packages (from matplotlib>=3.0.0->confplot) (1.2.0)\n",
      "Requirement already satisfied: cycler>=0.10 in /Users/anu/Library/Python/3.9/lib/python/site-packages (from matplotlib>=3.0.0->confplot) (0.12.1)\n",
      "Requirement already satisfied: fonttools>=4.22.0 in /Users/anu/Library/Python/3.9/lib/python/site-packages (from matplotlib>=3.0.0->confplot) (4.47.0)\n",
      "Requirement already satisfied: kiwisolver>=1.3.1 in /Users/anu/Library/Python/3.9/lib/python/site-packages (from matplotlib>=3.0.0->confplot) (1.4.5)\n",
      "Requirement already satisfied: packaging>=20.0 in /Users/anu/Library/Python/3.9/lib/python/site-packages (from matplotlib>=3.0.0->confplot) (23.2)\n",
      "Requirement already satisfied: pillow>=8 in /Users/anu/Library/Python/3.9/lib/python/site-packages (from matplotlib>=3.0.0->confplot) (10.2.0)\n",
      "Requirement already satisfied: pyparsing>=2.3.1 in /Users/anu/Library/Python/3.9/lib/python/site-packages (from matplotlib>=3.0.0->confplot) (3.1.1)\n",
      "Requirement already satisfied: python-dateutil>=2.7 in /Users/anu/Library/Python/3.9/lib/python/site-packages (from matplotlib>=3.0.0->confplot) (2.8.2)\n",
      "Requirement already satisfied: importlib-resources>=3.2.0 in /Users/anu/Library/Python/3.9/lib/python/site-packages (from matplotlib>=3.0.0->confplot) (6.1.1)\n",
      "Requirement already satisfied: pytz>=2020.1 in /Users/anu/Library/Python/3.9/lib/python/site-packages (from pandas>=1.0.0->confplot) (2023.3.post1)\n",
      "Requirement already satisfied: tzdata>=2022.1 in /Users/anu/Library/Python/3.9/lib/python/site-packages (from pandas>=1.0.0->confplot) (2023.4)\n",
      "Requirement already satisfied: scipy>=1.5.0 in /Users/anu/Library/Python/3.9/lib/python/site-packages (from scikit-learn>=0.22.2->confplot) (1.11.4)\n",
      "Requirement already satisfied: joblib>=1.1.1 in /Users/anu/Library/Python/3.9/lib/python/site-packages (from scikit-learn>=0.22.2->confplot) (1.3.2)\n",
      "Requirement already satisfied: threadpoolctl>=2.0.0 in /Users/anu/Library/Python/3.9/lib/python/site-packages (from scikit-learn>=0.22.2->confplot) (3.2.0)\n",
      "Requirement already satisfied: zipp>=3.1.0 in /Users/anu/Library/Python/3.9/lib/python/site-packages (from importlib-resources>=3.2.0->matplotlib>=3.0.0->confplot) (3.17.0)\n",
      "Requirement already satisfied: six>=1.5 in /Library/Developer/CommandLineTools/Library/Frameworks/Python3.framework/Versions/3.9/lib/python3.9/site-packages (from python-dateutil>=2.7->matplotlib>=3.0.0->confplot) (1.15.0)\n"
     ]
    }
   ],
   "source": [
    "!pip install pip install confplot"
   ]
  },
  {
   "cell_type": "code",
   "execution_count": 3,
   "metadata": {},
   "outputs": [
    {
     "name": "stderr",
     "output_type": "stream",
     "text": [
      "/Users/anu/Library/Python/3.9/lib/python/site-packages/urllib3/__init__.py:35: NotOpenSSLWarning: urllib3 v2 only supports OpenSSL 1.1.1+, currently the 'ssl' module is compiled with 'LibreSSL 2.8.3'. See: https://github.com/urllib3/urllib3/issues/3020\n",
      "  warnings.warn(\n"
     ]
    }
   ],
   "source": [
    "%reload_ext autoreload\n",
    "%autoreload 2\n",
    "\n",
    "import os\n",
    "import json\n",
    "import time\n",
    "import glob\n",
    "import random\n",
    "import numpy as np\n",
    "import pandas as pd\n",
    "import seaborn as sns\n",
    "from tqdm.notebook import tqdm\n",
    "import matplotlib.pylab as plt\n",
    "\n",
    "from datasets import load_metric, Dataset\n",
    "from sklearn.preprocessing import LabelEncoder\n",
    "from transformers import DistilBertTokenizerFast, DataCollatorWithPadding, pipeline\n",
    "from transformers import Trainer, TrainingArguments, DistilBertForSequenceClassification"
   ]
  },
  {
   "cell_type": "markdown",
   "metadata": {},
   "source": [
    "#### Load dataframe"
   ]
  },
  {
   "cell_type": "code",
   "execution_count": 4,
   "metadata": {},
   "outputs": [
    {
     "data": {
      "text/html": [
       "<div>\n",
       "<style scoped>\n",
       "    .dataframe tbody tr th:only-of-type {\n",
       "        vertical-align: middle;\n",
       "    }\n",
       "\n",
       "    .dataframe tbody tr th {\n",
       "        vertical-align: top;\n",
       "    }\n",
       "\n",
       "    .dataframe thead th {\n",
       "        text-align: right;\n",
       "    }\n",
       "</style>\n",
       "<table border=\"1\" class=\"dataframe\">\n",
       "  <thead>\n",
       "    <tr style=\"text-align: right;\">\n",
       "      <th></th>\n",
       "      <th>DishName</th>\n",
       "      <th>Ingredients</th>\n",
       "      <th>Description</th>\n",
       "      <th>SpiceLevel</th>\n",
       "      <th>CookingMethod</th>\n",
       "      <th>PrepTime</th>\n",
       "      <th>HasAllergens</th>\n",
       "      <th>Cuisine</th>\n",
       "      <th>DietaryPreference</th>\n",
       "      <th>Protein-Rich</th>\n",
       "      <th>Pregnancy-Safe</th>\n",
       "      <th>Diabetic-Friendly</th>\n",
       "    </tr>\n",
       "  </thead>\n",
       "  <tbody>\n",
       "  </tbody>\n",
       "</table>\n",
       "</div>"
      ],
      "text/plain": [
       "Empty DataFrame\n",
       "Columns: [DishName, Ingredients, Description, SpiceLevel, CookingMethod, PrepTime, HasAllergens, Cuisine, DietaryPreference, Protein-Rich, Pregnancy-Safe, Diabetic-Friendly]\n",
       "Index: []"
      ]
     },
     "execution_count": 4,
     "metadata": {},
     "output_type": "execute_result"
    }
   ],
   "source": [
    "df=pd.DataFrame(columns=['DishName','Ingredients','Description','SpiceLevel','CookingMethod','PrepTime','HasAllergens','Cuisine','DietaryPreference','Protein-Rich','Pregnancy-Safe','Diabetic-Friendly'])\n",
    "df"
   ]
  },
  {
   "cell_type": "code",
   "execution_count": 5,
   "metadata": {},
   "outputs": [],
   "source": [
    "def process_json(filename):\n",
    "    row={}\n",
    "    path='FoodData/'+filename\n",
    "    with open(path,'r') as f:\n",
    "        dish_det=json.load(f)\n",
    "        \n",
    "        row['DishName']=os.path.splitext(filename)[0]\n",
    "        row['Ingredients']=[i.strip() for i in dish_det['InputCols']['List of Main Ingredients'].split(\",\")]\n",
    "        row['Description']=dish_det['InputCols']['Description']\n",
    "        row['SpiceLevel']=dish_det['InputCols']['Spice Level']\n",
    "        row['CookingMethod']=dish_det['InputCols']['Cooking Method']\n",
    "        row['PrepTime']=dish_det['InputCols']['Preparation Time']\n",
    "        row['HasAllergens']=dish_det['InputCols']['Contains Allergens']\n",
    "        row['Cuisine']=dish_det['OutputCols']['Cuisine Type']\n",
    "        row['DietaryPreference']=dish_det['OutputCols']['Dietary Preference']\n",
    "        row['Protein-Rich']=dish_det['OutputCols']['Protein Rich']\n",
    "        row['Pregnancy-Safe']=dish_det['OutputCols']['Pregnancy Safe']\n",
    "        row['Diabetic-Friendly']=dish_det['OutputCols']['Diabetic Friendly']\n",
    "\n",
    "    return row"
   ]
  },
  {
   "cell_type": "code",
   "execution_count": 6,
   "metadata": {},
   "outputs": [],
   "source": [
    "a=[]\n",
    "directory_path = '/Users/anu/Documents/NLP_Project_Food/FoodData/'\n",
    "for filename in os.listdir(directory_path):\n",
    "    name , file_extension = os.path.splitext(filename)\n",
    "    \n",
    "    if file_extension.lower()=='.json' and os.path.isfile(os.path.join(directory_path, filename)):\n",
    "        a.append(name)"
   ]
  },
  {
   "cell_type": "code",
   "execution_count": 7,
   "metadata": {},
   "outputs": [
    {
     "data": {
      "text/plain": [
       "409"
      ]
     },
     "execution_count": 7,
     "metadata": {},
     "output_type": "execute_result"
    }
   ],
   "source": [
    "len(a)"
   ]
  },
  {
   "cell_type": "code",
   "execution_count": 8,
   "metadata": {},
   "outputs": [
    {
     "data": {
      "application/vnd.jupyter.widget-view+json": {
       "model_id": "663ee257c135454b8bf1d5d91ed25240",
       "version_major": 2,
       "version_minor": 0
      },
      "text/plain": [
       "processing:   0%|          | 0/409 [00:00<?, ?item/s]"
      ]
     },
     "metadata": {},
     "output_type": "display_data"
    }
   ],
   "source": [
    "for dish in tqdm(a,desc='processing',unit='item'):\n",
    "    df.loc[len(df)]=process_json(dish+'.json')"
   ]
  },
  {
   "cell_type": "code",
   "execution_count": 9,
   "metadata": {},
   "outputs": [
    {
     "data": {
      "text/html": [
       "<div>\n",
       "<style scoped>\n",
       "    .dataframe tbody tr th:only-of-type {\n",
       "        vertical-align: middle;\n",
       "    }\n",
       "\n",
       "    .dataframe tbody tr th {\n",
       "        vertical-align: top;\n",
       "    }\n",
       "\n",
       "    .dataframe thead th {\n",
       "        text-align: right;\n",
       "    }\n",
       "</style>\n",
       "<table border=\"1\" class=\"dataframe\">\n",
       "  <thead>\n",
       "    <tr style=\"text-align: right;\">\n",
       "      <th></th>\n",
       "      <th>DishName</th>\n",
       "      <th>Ingredients</th>\n",
       "      <th>Description</th>\n",
       "      <th>SpiceLevel</th>\n",
       "      <th>CookingMethod</th>\n",
       "      <th>PrepTime</th>\n",
       "      <th>HasAllergens</th>\n",
       "      <th>Cuisine</th>\n",
       "      <th>DietaryPreference</th>\n",
       "      <th>Protein-Rich</th>\n",
       "      <th>Pregnancy-Safe</th>\n",
       "      <th>Diabetic-Friendly</th>\n",
       "    </tr>\n",
       "  </thead>\n",
       "  <tbody>\n",
       "    <tr>\n",
       "      <th>0</th>\n",
       "      <td>Ven Pongal</td>\n",
       "      <td>[Rice, Lentils, Ghee, Cumin seeds, Black peppe...</td>\n",
       "      <td>Ven Pongal is a traditional South Indian break...</td>\n",
       "      <td>3</td>\n",
       "      <td>Boiling and tempering</td>\n",
       "      <td>40</td>\n",
       "      <td>False</td>\n",
       "      <td>South Indian</td>\n",
       "      <td>Veg</td>\n",
       "      <td>True</td>\n",
       "      <td>True</td>\n",
       "      <td>True</td>\n",
       "    </tr>\n",
       "    <tr>\n",
       "      <th>1</th>\n",
       "      <td>Tom Yum Soup</td>\n",
       "      <td>[lemongrass, galangal, kaffir lime leaves, chi...</td>\n",
       "      <td>Tom Yum Soup is a bold and aromatic Thai soup ...</td>\n",
       "      <td>8</td>\n",
       "      <td>Boiling</td>\n",
       "      <td>30</td>\n",
       "      <td>False</td>\n",
       "      <td>Thai</td>\n",
       "      <td>Non-Veg</td>\n",
       "      <td>True</td>\n",
       "      <td>True</td>\n",
       "      <td>False</td>\n",
       "    </tr>\n",
       "    <tr>\n",
       "      <th>2</th>\n",
       "      <td>Inji Puli</td>\n",
       "      <td>[Tamarind, Ginger, Jaggery, Red Chili, Mustard...</td>\n",
       "      <td>Inji Puli is a traditional South Indian dish f...</td>\n",
       "      <td>6</td>\n",
       "      <td>Stovetop</td>\n",
       "      <td>30</td>\n",
       "      <td>False</td>\n",
       "      <td>South Indian</td>\n",
       "      <td>Veg</td>\n",
       "      <td>False</td>\n",
       "      <td>True</td>\n",
       "      <td>False</td>\n",
       "    </tr>\n",
       "    <tr>\n",
       "      <th>3</th>\n",
       "      <td>Pancakes</td>\n",
       "      <td>[Flour, Milk, Eggs, Baking Powder, Sugar, Salt]</td>\n",
       "      <td>Pancakes are a popular breakfast dish made fro...</td>\n",
       "      <td>2</td>\n",
       "      <td>Griddling</td>\n",
       "      <td>20</td>\n",
       "      <td>True</td>\n",
       "      <td>American</td>\n",
       "      <td>Vegetarian</td>\n",
       "      <td>False</td>\n",
       "      <td>True</td>\n",
       "      <td>False</td>\n",
       "    </tr>\n",
       "    <tr>\n",
       "      <th>4</th>\n",
       "      <td>Ossobuco alla Milanese</td>\n",
       "      <td>[Veal shanks, Onion, Carrot, Celery, White win...</td>\n",
       "      <td>Ossobuco alla Milanese is a traditional Italia...</td>\n",
       "      <td>3</td>\n",
       "      <td>Braising</td>\n",
       "      <td>180</td>\n",
       "      <td>False</td>\n",
       "      <td>Italian</td>\n",
       "      <td>Non-Veg</td>\n",
       "      <td>True</td>\n",
       "      <td>False</td>\n",
       "      <td>False</td>\n",
       "    </tr>\n",
       "    <tr>\n",
       "      <th>...</th>\n",
       "      <td>...</td>\n",
       "      <td>...</td>\n",
       "      <td>...</td>\n",
       "      <td>...</td>\n",
       "      <td>...</td>\n",
       "      <td>...</td>\n",
       "      <td>...</td>\n",
       "      <td>...</td>\n",
       "      <td>...</td>\n",
       "      <td>...</td>\n",
       "      <td>...</td>\n",
       "      <td>...</td>\n",
       "    </tr>\n",
       "    <tr>\n",
       "      <th>404</th>\n",
       "      <td>Kara Kuzhambu</td>\n",
       "      <td>[Tamarind, vegetables (like brinjal, drumstick...</td>\n",
       "      <td>Kara Kuzhambu is a spicy and tangy South India...</td>\n",
       "      <td>8</td>\n",
       "      <td>Stovetop cooking</td>\n",
       "      <td>40</td>\n",
       "      <td>False</td>\n",
       "      <td>South Indian</td>\n",
       "      <td>Veg</td>\n",
       "      <td>False</td>\n",
       "      <td>True</td>\n",
       "      <td>True</td>\n",
       "    </tr>\n",
       "    <tr>\n",
       "      <th>405</th>\n",
       "      <td>Tortellini in Brodo</td>\n",
       "      <td>[Pasta, Meat, Broth, Parmesan Cheese]</td>\n",
       "      <td>Tortellini in Brodo is a classic Italian dish ...</td>\n",
       "      <td>2</td>\n",
       "      <td>Boiling</td>\n",
       "      <td>30</td>\n",
       "      <td>True</td>\n",
       "      <td>Italian</td>\n",
       "      <td>Non-Veg</td>\n",
       "      <td>True</td>\n",
       "      <td>False</td>\n",
       "      <td>False</td>\n",
       "    </tr>\n",
       "    <tr>\n",
       "      <th>406</th>\n",
       "      <td>Egg Masala</td>\n",
       "      <td>[Eggs, tomatoes, onions, garlic, ginger, spices]</td>\n",
       "      <td>Egg Masala is a flavorful Indian dish made wit...</td>\n",
       "      <td>7</td>\n",
       "      <td>Stovetop</td>\n",
       "      <td>30</td>\n",
       "      <td>False</td>\n",
       "      <td>Indian</td>\n",
       "      <td>Non-Veg</td>\n",
       "      <td>True</td>\n",
       "      <td>True</td>\n",
       "      <td>False</td>\n",
       "    </tr>\n",
       "    <tr>\n",
       "      <th>407</th>\n",
       "      <td>French Toast</td>\n",
       "      <td>[Bread, Eggs, Milk, Cinnamon, Vanilla extract]</td>\n",
       "      <td>French toast is a classic breakfast dish made ...</td>\n",
       "      <td>2</td>\n",
       "      <td>Pan-Frying</td>\n",
       "      <td>20</td>\n",
       "      <td>True</td>\n",
       "      <td>French</td>\n",
       "      <td>Non-Veg</td>\n",
       "      <td>False</td>\n",
       "      <td>True</td>\n",
       "      <td>False</td>\n",
       "    </tr>\n",
       "    <tr>\n",
       "      <th>408</th>\n",
       "      <td>Kozhukattai</td>\n",
       "      <td>[Rice flour, Jaggery, Coconut]</td>\n",
       "      <td>Kozhukattai is a traditional South Indian dump...</td>\n",
       "      <td>1</td>\n",
       "      <td>Steaming</td>\n",
       "      <td>45</td>\n",
       "      <td>False</td>\n",
       "      <td>South Indian</td>\n",
       "      <td>Vegan</td>\n",
       "      <td>False</td>\n",
       "      <td>True</td>\n",
       "      <td>False</td>\n",
       "    </tr>\n",
       "  </tbody>\n",
       "</table>\n",
       "<p>409 rows × 12 columns</p>\n",
       "</div>"
      ],
      "text/plain": [
       "                   DishName  \\\n",
       "0                Ven Pongal   \n",
       "1              Tom Yum Soup   \n",
       "2                 Inji Puli   \n",
       "3                  Pancakes   \n",
       "4    Ossobuco alla Milanese   \n",
       "..                      ...   \n",
       "404           Kara Kuzhambu   \n",
       "405     Tortellini in Brodo   \n",
       "406              Egg Masala   \n",
       "407            French Toast   \n",
       "408             Kozhukattai   \n",
       "\n",
       "                                           Ingredients  \\\n",
       "0    [Rice, Lentils, Ghee, Cumin seeds, Black peppe...   \n",
       "1    [lemongrass, galangal, kaffir lime leaves, chi...   \n",
       "2    [Tamarind, Ginger, Jaggery, Red Chili, Mustard...   \n",
       "3      [Flour, Milk, Eggs, Baking Powder, Sugar, Salt]   \n",
       "4    [Veal shanks, Onion, Carrot, Celery, White win...   \n",
       "..                                                 ...   \n",
       "404  [Tamarind, vegetables (like brinjal, drumstick...   \n",
       "405              [Pasta, Meat, Broth, Parmesan Cheese]   \n",
       "406   [Eggs, tomatoes, onions, garlic, ginger, spices]   \n",
       "407     [Bread, Eggs, Milk, Cinnamon, Vanilla extract]   \n",
       "408                     [Rice flour, Jaggery, Coconut]   \n",
       "\n",
       "                                           Description  SpiceLevel  \\\n",
       "0    Ven Pongal is a traditional South Indian break...           3   \n",
       "1    Tom Yum Soup is a bold and aromatic Thai soup ...           8   \n",
       "2    Inji Puli is a traditional South Indian dish f...           6   \n",
       "3    Pancakes are a popular breakfast dish made fro...           2   \n",
       "4    Ossobuco alla Milanese is a traditional Italia...           3   \n",
       "..                                                 ...         ...   \n",
       "404  Kara Kuzhambu is a spicy and tangy South India...           8   \n",
       "405  Tortellini in Brodo is a classic Italian dish ...           2   \n",
       "406  Egg Masala is a flavorful Indian dish made wit...           7   \n",
       "407  French toast is a classic breakfast dish made ...           2   \n",
       "408  Kozhukattai is a traditional South Indian dump...           1   \n",
       "\n",
       "             CookingMethod  PrepTime  HasAllergens       Cuisine  \\\n",
       "0    Boiling and tempering        40         False  South Indian   \n",
       "1                  Boiling        30         False          Thai   \n",
       "2                 Stovetop        30         False  South Indian   \n",
       "3                Griddling        20          True      American   \n",
       "4                 Braising       180         False       Italian   \n",
       "..                     ...       ...           ...           ...   \n",
       "404       Stovetop cooking        40         False  South Indian   \n",
       "405                Boiling        30          True       Italian   \n",
       "406               Stovetop        30         False        Indian   \n",
       "407             Pan-Frying        20          True        French   \n",
       "408               Steaming        45         False  South Indian   \n",
       "\n",
       "    DietaryPreference  Protein-Rich  Pregnancy-Safe  Diabetic-Friendly  \n",
       "0                 Veg          True            True               True  \n",
       "1             Non-Veg          True            True              False  \n",
       "2                 Veg         False            True              False  \n",
       "3          Vegetarian         False            True              False  \n",
       "4             Non-Veg          True           False              False  \n",
       "..                ...           ...             ...                ...  \n",
       "404               Veg         False            True               True  \n",
       "405           Non-Veg          True           False              False  \n",
       "406           Non-Veg          True            True              False  \n",
       "407           Non-Veg         False            True              False  \n",
       "408             Vegan         False            True              False  \n",
       "\n",
       "[409 rows x 12 columns]"
      ]
     },
     "execution_count": 9,
     "metadata": {},
     "output_type": "execute_result"
    }
   ],
   "source": [
    "df"
   ]
  },
  {
   "cell_type": "markdown",
   "metadata": {},
   "source": [
    "### EDA"
   ]
  },
  {
   "cell_type": "code",
   "execution_count": 10,
   "metadata": {},
   "outputs": [
    {
     "data": {
      "text/plain": [
       "DishName             object\n",
       "Ingredients          object\n",
       "Description          object\n",
       "SpiceLevel            int64\n",
       "CookingMethod        object\n",
       "PrepTime              int64\n",
       "HasAllergens           bool\n",
       "Cuisine              object\n",
       "DietaryPreference    object\n",
       "Protein-Rich           bool\n",
       "Pregnancy-Safe         bool\n",
       "Diabetic-Friendly      bool\n",
       "dtype: object"
      ]
     },
     "execution_count": 10,
     "metadata": {},
     "output_type": "execute_result"
    }
   ],
   "source": [
    "df.dtypes"
   ]
  },
  {
   "cell_type": "code",
   "execution_count": 11,
   "metadata": {},
   "outputs": [
    {
     "name": "stdout",
     "output_type": "stream",
     "text": [
      "<class 'pandas.core.frame.DataFrame'>\n",
      "Index: 409 entries, 0 to 408\n",
      "Data columns (total 12 columns):\n",
      " #   Column             Non-Null Count  Dtype \n",
      "---  ------             --------------  ----- \n",
      " 0   DishName           409 non-null    object\n",
      " 1   Ingredients        409 non-null    object\n",
      " 2   Description        409 non-null    object\n",
      " 3   SpiceLevel         409 non-null    int64 \n",
      " 4   CookingMethod      409 non-null    object\n",
      " 5   PrepTime           409 non-null    int64 \n",
      " 6   HasAllergens       409 non-null    bool  \n",
      " 7   Cuisine            409 non-null    object\n",
      " 8   DietaryPreference  409 non-null    object\n",
      " 9   Protein-Rich       409 non-null    bool  \n",
      " 10  Pregnancy-Safe     409 non-null    bool  \n",
      " 11  Diabetic-Friendly  409 non-null    bool  \n",
      "dtypes: bool(4), int64(2), object(6)\n",
      "memory usage: 30.4+ KB\n"
     ]
    }
   ],
   "source": [
    "df.info()"
   ]
  },
  {
   "cell_type": "code",
   "execution_count": 12,
   "metadata": {},
   "outputs": [
    {
     "data": {
      "text/html": [
       "<div>\n",
       "<style scoped>\n",
       "    .dataframe tbody tr th:only-of-type {\n",
       "        vertical-align: middle;\n",
       "    }\n",
       "\n",
       "    .dataframe tbody tr th {\n",
       "        vertical-align: top;\n",
       "    }\n",
       "\n",
       "    .dataframe thead th {\n",
       "        text-align: right;\n",
       "    }\n",
       "</style>\n",
       "<table border=\"1\" class=\"dataframe\">\n",
       "  <thead>\n",
       "    <tr style=\"text-align: right;\">\n",
       "      <th></th>\n",
       "      <th>SpiceLevel</th>\n",
       "      <th>PrepTime</th>\n",
       "    </tr>\n",
       "  </thead>\n",
       "  <tbody>\n",
       "    <tr>\n",
       "      <th>count</th>\n",
       "      <td>409.000000</td>\n",
       "      <td>409.000000</td>\n",
       "    </tr>\n",
       "    <tr>\n",
       "      <th>mean</th>\n",
       "      <td>4.425428</td>\n",
       "      <td>51.161369</td>\n",
       "    </tr>\n",
       "    <tr>\n",
       "      <th>std</th>\n",
       "      <td>2.289134</td>\n",
       "      <td>47.921846</td>\n",
       "    </tr>\n",
       "    <tr>\n",
       "      <th>min</th>\n",
       "      <td>0.000000</td>\n",
       "      <td>0.000000</td>\n",
       "    </tr>\n",
       "    <tr>\n",
       "      <th>25%</th>\n",
       "      <td>2.000000</td>\n",
       "      <td>30.000000</td>\n",
       "    </tr>\n",
       "    <tr>\n",
       "      <th>50%</th>\n",
       "      <td>4.000000</td>\n",
       "      <td>40.000000</td>\n",
       "    </tr>\n",
       "    <tr>\n",
       "      <th>75%</th>\n",
       "      <td>7.000000</td>\n",
       "      <td>60.000000</td>\n",
       "    </tr>\n",
       "    <tr>\n",
       "      <th>max</th>\n",
       "      <td>8.000000</td>\n",
       "      <td>480.000000</td>\n",
       "    </tr>\n",
       "  </tbody>\n",
       "</table>\n",
       "</div>"
      ],
      "text/plain": [
       "       SpiceLevel    PrepTime\n",
       "count  409.000000  409.000000\n",
       "mean     4.425428   51.161369\n",
       "std      2.289134   47.921846\n",
       "min      0.000000    0.000000\n",
       "25%      2.000000   30.000000\n",
       "50%      4.000000   40.000000\n",
       "75%      7.000000   60.000000\n",
       "max      8.000000  480.000000"
      ]
     },
     "execution_count": 12,
     "metadata": {},
     "output_type": "execute_result"
    }
   ],
   "source": [
    "df.describe()"
   ]
  },
  {
   "cell_type": "code",
   "execution_count": 13,
   "metadata": {},
   "outputs": [
    {
     "name": "stdout",
     "output_type": "stream",
     "text": [
      "SpiceLevel\n",
      "2    88\n",
      "7    75\n",
      "3    66\n",
      "5    44\n",
      "8    41\n",
      "4    35\n",
      "6    34\n",
      "1    19\n",
      "0     7\n",
      "Name: count, dtype: int64\n"
     ]
    },
    {
     "data": {
      "text/plain": [
       "<Axes: xlabel='SpiceLevel', ylabel='count'>"
      ]
     },
     "execution_count": 13,
     "metadata": {},
     "output_type": "execute_result"
    },
    {
     "data": {
      "image/png": "[encoded data removed]",
      "text/plain": [
       "<Figure size 640x480 with 1 Axes>"
      ]
     },
     "metadata": {},
     "output_type": "display_data"
    }
   ],
   "source": [
    "print(df['SpiceLevel'].value_counts())\n",
    "sns.countplot(df,x='SpiceLevel',color='pink')"
   ]
  },
  {
   "cell_type": "code",
   "execution_count": 14,
   "metadata": {},
   "outputs": [
    {
     "data": {
      "text/plain": [
       "<Axes: xlabel='HasAllergens', ylabel='count'>"
      ]
     },
     "execution_count": 14,
     "metadata": {},
     "output_type": "execute_result"
    },
    {
     "data": {
      "image/png": "[encoded data removed]",
      "text/plain": [
       "<Figure size 300x300 with 1 Axes>"
      ]
     },
     "metadata": {},
     "output_type": "display_data"
    }
   ],
   "source": [
    "plt.figure(figsize=(3,3))\n",
    "df['HasAllergens'].value_counts()\n",
    "sns.countplot(data=df,x='HasAllergens',color='pink')"
   ]
  },
  {
   "cell_type": "code",
   "execution_count": 15,
   "metadata": {},
   "outputs": [
    {
     "data": {
      "text/plain": [
       "Cuisine\n",
       "Indian                          141\n",
       "South Indian                     66\n",
       "American                         42\n",
       "Italian                          35\n",
       "Chinese                          26\n",
       "South Asian                      19\n",
       "Dessert                           8\n",
       "Asian                             7\n",
       "French                            7\n",
       "Japanese                          5\n",
       "Mexican                           4\n",
       "Mediterranean                     4\n",
       "Chinese-American                  4\n",
       "Thai                              3\n",
       "Latin American                    3\n",
       "Italian-American                  3\n",
       "Korean                            2\n",
       "Middle Eastern                    2\n",
       "Pakistani                         2\n",
       "Indo-Chinese                      2\n",
       "Maharashtrian                     2\n",
       "British                           2\n",
       "East Asian                        1\n",
       "Multi-Cuisine                     1\n",
       "Plant-based                       1\n",
       "Beverage                          1\n",
       "Vietnamese                        1\n",
       "Punjabi                           1\n",
       "Spanish                           1\n",
       "Middle Eastern/North African      1\n",
       "Caribbean                         1\n",
       "Hungarian                         1\n",
       "Hong Kong                         1\n",
       "Parsi                             1\n",
       "Louisiana Creole                  1\n",
       "North Indian                      1\n",
       "International                     1\n",
       "Modern                            1\n",
       "Turkish                           1\n",
       "Mixed                             1\n",
       "Russian                           1\n",
       "Irish                             1\n",
       "Name: count, dtype: int64"
      ]
     },
     "execution_count": 15,
     "metadata": {},
     "output_type": "execute_result"
    }
   ],
   "source": [
    "df['Cuisine'].value_counts()"
   ]
  },
  {
   "cell_type": "code",
   "execution_count": 16,
   "metadata": {},
   "outputs": [],
   "source": [
    "cuisine_mapping={'South Asian': 'Asian', 'Plant-based':'Asian', 'Japanese': 'Asian', 'Hong Kong':'Asian', 'Thai': 'Asian', 'Korean': 'Asian','Pakistani': 'Asian', 'East Asian': 'Asian', 'Vegetarian': 'Asian' , 'Vietnamese': 'Asian', 'Parsi': 'Asian', 'Mexican': 'American','Mediterranean': 'Continental', 'Hungarian': 'Continental', 'Latin American': 'Continental', 'Dessert' : 'Continental', 'British' : 'Continental', 'Russian' : 'Continental', 'Middle Eastern': 'Continental' , 'Spanish' : 'Continental', 'Beverage': 'Continental' , 'Turkish': 'Continental' , 'Middle Eastern/North African': 'Continental', 'Irish': 'Continental', 'Greek': 'Continental', 'Caribbean': 'Continental', 'Louisiana Creole': 'Continental',\n",
    "'Chinese-American': 'Fusion', 'French':'Continental', 'Fusion':'Continental','Italian-American': 'Fusion', 'International':'Continental','Multi-Cuisine': 'Fusion', 'Modern': 'Fusion', 'Mixed': 'Fusion' , 'Indo-Chinese' : 'Fusion', 'Maharashtrian': 'Indian' , 'North Indian': 'Indian', 'Kashmiri': 'Indian' , 'Punjabi' : 'Indian', }"
   ]
  },
  {
   "cell_type": "code",
   "execution_count": 17,
   "metadata": {},
   "outputs": [
    {
     "data": {
      "text/plain": [
       "Cuisine\n",
       "Indian          145\n",
       "South Indian     66\n",
       "American         46\n",
       "Asian            43\n",
       "Continental      36\n",
       "Italian          35\n",
       "Chinese          26\n",
       "Fusion           12\n",
       "Name: count, dtype: int64"
      ]
     },
     "execution_count": 17,
     "metadata": {},
     "output_type": "execute_result"
    }
   ],
   "source": [
    "df['Cuisine'].replace(cuisine_mapping,inplace=True)\n",
    "df['Cuisine'].value_counts()"
   ]
  },
  {
   "cell_type": "code",
   "execution_count": 18,
   "metadata": {},
   "outputs": [
    {
     "data": {
      "text/plain": [
       "<Axes: xlabel='Cuisine', ylabel='count'>"
      ]
     },
     "execution_count": 18,
     "metadata": {},
     "output_type": "execute_result"
    },
    {
     "data": {
      "image/png": "[encoded data removed]",
      "text/plain": [
       "<Figure size 640x480 with 1 Axes>"
      ]
     },
     "metadata": {},
     "output_type": "display_data"
    }
   ],
   "source": [
    "sns.countplot(x='Cuisine',data=df,color='pink')"
   ]
  },
  {
   "cell_type": "code",
   "execution_count": 19,
   "metadata": {},
   "outputs": [
    {
     "data": {
      "text/plain": [
       "DietaryPreference\n",
       "Non-Veg       206\n",
       "Veg           123\n",
       "Vegetarian     63\n",
       "Vegan          17\n",
       "Name: count, dtype: int64"
      ]
     },
     "execution_count": 19,
     "metadata": {},
     "output_type": "execute_result"
    }
   ],
   "source": [
    "df['DietaryPreference'].value_counts()"
   ]
  },
  {
   "cell_type": "code",
   "execution_count": 20,
   "metadata": {},
   "outputs": [
    {
     "data": {
      "text/plain": [
       "<Axes: xlabel='DietaryPreference', ylabel='count'>"
      ]
     },
     "execution_count": 20,
     "metadata": {},
     "output_type": "execute_result"
    },
    {
     "data": {
      "image/png": "[encoded data removed]",
      "text/plain": [
       "<Figure size 640x480 with 1 Axes>"
      ]
     },
     "metadata": {},
     "output_type": "display_data"
    }
   ],
   "source": [
    "df['DietaryPreference'].replace({'Vegetarian':'Veg','Vegan':'Veg'},inplace=True)\n",
    "sns.countplot(df,x='DietaryPreference',color='pink')"
   ]
  },
  {
   "cell_type": "code",
   "execution_count": 21,
   "metadata": {},
   "outputs": [
    {
     "data": {
      "text/plain": [
       "DietaryPreference\n",
       "Non-Veg    206\n",
       "Veg        203\n",
       "Name: count, dtype: int64"
      ]
     },
     "execution_count": 21,
     "metadata": {},
     "output_type": "execute_result"
    }
   ],
   "source": [
    "df['DietaryPreference'].value_counts()"
   ]
  },
  {
   "cell_type": "code",
   "execution_count": 22,
   "metadata": {},
   "outputs": [
    {
     "data": {
      "text/plain": [
       "Diabetic-Friendly\n",
       "False    290\n",
       "True     119\n",
       "Name: count, dtype: int64"
      ]
     },
     "execution_count": 22,
     "metadata": {},
     "output_type": "execute_result"
    }
   ],
   "source": [
    "df['Diabetic-Friendly'].value_counts()"
   ]
  },
  {
   "cell_type": "code",
   "execution_count": 23,
   "metadata": {},
   "outputs": [
    {
     "data": {
      "text/plain": [
       "Pregnancy-Safe\n",
       "True     256\n",
       "False    153\n",
       "Name: count, dtype: int64"
      ]
     },
     "execution_count": 23,
     "metadata": {},
     "output_type": "execute_result"
    }
   ],
   "source": [
    "df['Pregnancy-Safe'].value_counts()"
   ]
  },
  {
   "cell_type": "code",
   "execution_count": 24,
   "metadata": {},
   "outputs": [
    {
     "data": {
      "text/plain": [
       "Protein-Rich\n",
       "True     249\n",
       "False    160\n",
       "Name: count, dtype: int64"
      ]
     },
     "execution_count": 24,
     "metadata": {},
     "output_type": "execute_result"
    }
   ],
   "source": [
    "df['Protein-Rich'].value_counts()"
   ]
  },
  {
   "cell_type": "markdown",
   "metadata": {},
   "source": [
    "### Train BERT classifier on dietary preference"
   ]
  },
  {
   "cell_type": "code",
   "execution_count": 25,
   "metadata": {},
   "outputs": [
    {
     "name": "stdout",
     "output_type": "stream",
     "text": [
      "409 409\n"
     ]
    }
   ],
   "source": [
    "utterances = df['Description'].to_list()\n",
    "seq_labels = df[\"DietaryPreference\"].to_list()\n",
    "print(len(utterances), len(seq_labels))\n"
   ]
  },
  {
   "cell_type": "code",
   "execution_count": 26,
   "metadata": {},
   "outputs": [
    {
     "name": "stdout",
     "output_type": "stream",
     "text": [
      "['Veg', 'Non-Veg']\n"
     ]
    }
   ],
   "source": [
    "unique_seq_labels = list(df[\"DietaryPreference\"].unique())\n",
    "print(unique_seq_labels)"
   ]
  },
  {
   "cell_type": "code",
   "execution_count": 27,
   "metadata": {},
   "outputs": [],
   "source": [
    "seq_id = [unique_seq_labels.index(l) for l in seq_labels]\n"
   ]
  },
  {
   "cell_type": "code",
   "execution_count": 28,
   "metadata": {},
   "outputs": [],
   "source": [
    "from transformers import AutoTokenizer, DistilBertForSequenceClassification\n",
    "\n",
    "tokenizer = DistilBertTokenizerFast.from_pretrained('distilbert-base-cased')"
   ]
  },
  {
   "cell_type": "code",
   "execution_count": 29,
   "metadata": {},
   "outputs": [
    {
     "data": {
      "application/vnd.jupyter.widget-view+json": {
       "model_id": "fdf3e3c3b79d430aaf87b07e1c0ca5bf",
       "version_major": 2,
       "version_minor": 0
      },
      "text/plain": [
       "  0%|          | 0/409 [00:00<?, ?it/s]"
      ]
     },
     "metadata": {},
     "output_type": "display_data"
    }
   ],
   "source": [
    "tokenized_utterances = []\n",
    "attention_masks = []\n",
    "for utt in tqdm(utterances) :\n",
    "    try :\n",
    "        it = tokenizer(utt, truncation=True, max_length=32)\n",
    "        tokenized_utterances.append(it['input_ids'])\n",
    "        attention_masks.append(it['attention_mask'])\n",
    "    except :\n",
    "        print(utt)"
   ]
  },
  {
   "cell_type": "code",
   "execution_count": 30,
   "metadata": {},
   "outputs": [
    {
     "data": {
      "application/vnd.jupyter.widget-view+json": {
       "model_id": "6023ce8553184e748d5eec97a8d0e90f",
       "version_major": 2,
       "version_minor": 0
      },
      "text/plain": [
       "Stringifying the column:   0%|          | 0/409 [00:00<?, ? examples/s]"
      ]
     },
     "metadata": {},
     "output_type": "display_data"
    },
    {
     "data": {
      "application/vnd.jupyter.widget-view+json": {
       "model_id": "c38ed97426284e0eba0e36a0ec3ea35f",
       "version_major": 2,
       "version_minor": 0
      },
      "text/plain": [
       "Casting to class labels:   0%|          | 0/409 [00:00<?, ? examples/s]"
      ]
     },
     "metadata": {},
     "output_type": "display_data"
    }
   ],
   "source": [
    "myData = Dataset.from_dict(dict(utterance=utterances,\n",
    "                                input_ids=tokenized_utterances,\n",
    "                                attention_mask=attention_masks,\n",
    "                                label_txt=seq_labels,\n",
    "                                label=seq_id)\n",
    "                          )\n",
    "# column we want to stratify with respect to\n",
    "stratify_column_name = \"label\"\n",
    "\n",
    "# create class label column and stratify\n",
    "np.random.seed(5)\n",
    "myData= myData.class_encode_column(stratify_column_name).train_test_split(test_size=0.2, stratify_by_column=stratify_column_name)"
   ]
  },
  {
   "cell_type": "code",
   "execution_count": 31,
   "metadata": {},
   "outputs": [
    {
     "data": {
      "text/plain": [
       "DatasetDict({\n",
       "    train: Dataset({\n",
       "        features: ['utterance', 'input_ids', 'attention_mask', 'label_txt', 'label'],\n",
       "        num_rows: 327\n",
       "    })\n",
       "    test: Dataset({\n",
       "        features: ['utterance', 'input_ids', 'attention_mask', 'label_txt', 'label'],\n",
       "        num_rows: 82\n",
       "    })\n",
       "})"
      ]
     },
     "execution_count": 31,
     "metadata": {},
     "output_type": "execute_result"
    }
   ],
   "source": [
    "myData"
   ]
  },
  {
   "cell_type": "code",
   "execution_count": 32,
   "metadata": {},
   "outputs": [
    {
     "data": {
      "text/plain": [
       "{'utterance': 'Masoor Dal is a popular Indian lentil dish made with red lentils cooked with aromatic spices like turmeric, cumin, and garlic. It is a comforting, nutritious dish often served with rice or bread.',\n",
       " 'input_ids': [101,\n",
       "  7085,\n",
       "  7301,\n",
       "  1766,\n",
       "  25938,\n",
       "  1110,\n",
       "  170,\n",
       "  1927,\n",
       "  1890,\n",
       "  20283,\n",
       "  2723,\n",
       "  10478,\n",
       "  1189,\n",
       "  1114,\n",
       "  1894,\n",
       "  20283,\n",
       "  8825,\n",
       "  13446,\n",
       "  1114,\n",
       "  170,\n",
       "  16341,\n",
       "  25133,\n",
       "  1176,\n",
       "  189,\n",
       "  2149,\n",
       "  4027,\n",
       "  1596,\n",
       "  117,\n",
       "  16040,\n",
       "  1394,\n",
       "  117,\n",
       "  102],\n",
       " 'attention_mask': [1,\n",
       "  1,\n",
       "  1,\n",
       "  1,\n",
       "  1,\n",
       "  1,\n",
       "  1,\n",
       "  1,\n",
       "  1,\n",
       "  1,\n",
       "  1,\n",
       "  1,\n",
       "  1,\n",
       "  1,\n",
       "  1,\n",
       "  1,\n",
       "  1,\n",
       "  1,\n",
       "  1,\n",
       "  1,\n",
       "  1,\n",
       "  1,\n",
       "  1,\n",
       "  1,\n",
       "  1,\n",
       "  1,\n",
       "  1,\n",
       "  1,\n",
       "  1,\n",
       "  1,\n",
       "  1,\n",
       "  1],\n",
       " 'label_txt': 'Veg',\n",
       " 'label': 0}"
      ]
     },
     "execution_count": 32,
     "metadata": {},
     "output_type": "execute_result"
    }
   ],
   "source": [
    "myData['train'][0]"
   ]
  },
  {
   "cell_type": "code",
   "execution_count": 33,
   "metadata": {},
   "outputs": [],
   "source": [
    "data_collator = DataCollatorWithPadding(tokenizer=tokenizer)"
   ]
  },
  {
   "cell_type": "code",
   "execution_count": 34,
   "metadata": {},
   "outputs": [
    {
     "name": "stderr",
     "output_type": "stream",
     "text": [
      "Some weights of DistilBertForSequenceClassification were not initialized from the model checkpoint at distilbert-base-uncased and are newly initialized: ['classifier.bias', 'classifier.weight', 'pre_classifier.bias', 'pre_classifier.weight']\n",
      "You should probably TRAIN this model on a down-stream task to be able to use it for predictions and inference.\n"
     ]
    }
   ],
   "source": [
    "# Initialize the model using from_pretrained\n",
    "seq_clf_mdl = DistilBertForSequenceClassification.from_pretrained('distilbert-base-uncased')"
   ]
  },
  {
   "cell_type": "code",
   "execution_count": 35,
   "metadata": {},
   "outputs": [],
   "source": [
    "seq_clf_mdl.config.id2label = {i: l for i, l in enumerate(unique_seq_labels)}\n"
   ]
  },
  {
   "cell_type": "code",
   "execution_count": 36,
   "metadata": {},
   "outputs": [
    {
     "name": "stderr",
     "output_type": "stream",
     "text": [
      "/var/folders/2p/d_5l4xlj7ygbv8ldw505sjnr0000gn/T/ipykernel_10422/754301748.py:1: FutureWarning: load_metric is deprecated and will be removed in the next major version of datasets. Use 'evaluate.load' instead, from the new library 🤗 Evaluate: https://huggingface.co/docs/evaluate\n",
      "  metric = load_metric(\"accuracy\")\n",
      "/Users/anu/Library/Python/3.9/lib/python/site-packages/datasets/load.py:756: FutureWarning: The repository for accuracy contains custom code which must be executed to correctly load the metric. You can inspect the repository content at https://raw.githubusercontent.com/huggingface/datasets/2.18.0/metrics/accuracy/accuracy.py\n",
      "You can avoid this message in future by passing the argument `trust_remote_code=True`.\n",
      "Passing `trust_remote_code=True` will be mandatory to load this metric from the next major release of `datasets`.\n",
      "  warnings.warn(\n"
     ]
    }
   ],
   "source": [
    "metric = load_metric(\"accuracy\")\n",
    "\n",
    "def compute_metrics(eval_pred):\n",
    "    logits, labels = eval_pred\n",
    "    predictions = np.argmax(logits, axis=-1)\n",
    "    return metric.compute(predictions=predictions, references=labels)\n"
   ]
  },
  {
   "cell_type": "code",
   "execution_count": 37,
   "metadata": {},
   "outputs": [
    {
     "name": "stderr",
     "output_type": "stream",
     "text": [
      "/Users/anu/Library/Python/3.9/lib/python/site-packages/accelerate/accelerator.py:432: FutureWarning: Passing the following arguments to `Accelerator` is deprecated and will be removed in version 1.0 of Accelerate: dict_keys(['dispatch_batches', 'split_batches', 'even_batches', 'use_seedable_sampler']). Please pass an `accelerate.DataLoaderConfiguration` instead: \n",
      "dataloader_config = DataLoaderConfiguration(dispatch_batches=None, split_batches=False, even_batches=True, use_seedable_sampler=True)\n",
      "  warnings.warn(\n"
     ]
    }
   ],
   "source": [
    "epochs = 30\n",
    "\n",
    "training_args = TrainingArguments(\n",
    "    output_dir=\"./new_distilbert_clf_dietary/results\",\n",
    "    num_train_epochs=epochs,\n",
    "    per_device_train_batch_size=1024,\n",
    "    per_device_eval_batch_size=1024,\n",
    "    load_best_model_at_end=True,\n",
    "    logging_steps=1,\n",
    "    log_level='info',\n",
    "    evaluation_strategy='epoch',\n",
    "    eval_steps=5000,\n",
    "    save_strategy='epoch',\n",
    ")\n",
    "\n",
    "# Define the trainer:\n",
    "trainer = Trainer(\n",
    "    model=seq_clf_mdl,\n",
    "    args=training_args,\n",
    "    train_dataset=myData['train'],\n",
    "    eval_dataset=myData['test'],\n",
    "    compute_metrics=compute_metrics,\n",
    "    data_collator=data_collator\n",
    ")\n"
   ]
  },
  {
   "cell_type": "code",
   "execution_count": 38,
   "metadata": {},
   "outputs": [
    {
     "name": "stderr",
     "output_type": "stream",
     "text": [
      "The following columns in the evaluation set don't have a corresponding argument in `DistilBertForSequenceClassification.forward` and have been ignored: utterance, label_txt. If utterance, label_txt are not expected by `DistilBertForSequenceClassification.forward`,  you can safely ignore this message.\n",
      "***** Running Evaluation *****\n",
      "  Num examples = 82\n",
      "  Batch size = 1024\n"
     ]
    },
    {
     "data": {
      "application/vnd.jupyter.widget-view+json": {
       "model_id": "b8524356b78649ac9f3bb5a22ed591e6",
       "version_major": 2,
       "version_minor": 0
      },
      "text/plain": [
       "  0%|          | 0/1 [00:00<?, ?it/s]"
      ]
     },
     "metadata": {},
     "output_type": "display_data"
    },
    {
     "data": {
      "text/plain": [
       "{'eval_loss': 0.6942044496536255,\n",
       " 'eval_accuracy': 0.5,\n",
       " 'eval_runtime': 1.2403,\n",
       " 'eval_samples_per_second': 66.115,\n",
       " 'eval_steps_per_second': 0.806}"
      ]
     },
     "execution_count": 38,
     "metadata": {},
     "output_type": "execute_result"
    }
   ],
   "source": [
    "trainer.evaluate()\n"
   ]
  },
  {
   "cell_type": "code",
   "execution_count": 38,
   "metadata": {},
   "outputs": [
    {
     "name": "stderr",
     "output_type": "stream",
     "text": [
      "The following columns in the training set don't have a corresponding argument in `DistilBertForSequenceClassification.forward` and have been ignored: label_txt, utterance. If label_txt, utterance are not expected by `DistilBertForSequenceClassification.forward`,  you can safely ignore this message.\n",
      "***** Running training *****\n",
      "  Num examples = 327\n",
      "  Num Epochs = 30\n",
      "  Instantaneous batch size per device = 1,024\n",
      "  Total train batch size (w. parallel, distributed & accumulation) = 1,024\n",
      "  Gradient Accumulation steps = 1\n",
      "  Total optimization steps = 30\n",
      "  Number of trainable parameters = 66,955,010\n"
     ]
    },
    {
     "data": {
      "application/vnd.jupyter.widget-view+json": {
       "model_id": "ecd9812835cd45288ee06e0cab9b1fec",
       "version_major": 2,
       "version_minor": 0
      },
      "text/plain": [
       "  0%|          | 0/30 [00:00<?, ?it/s]"
      ]
     },
     "metadata": {},
     "output_type": "display_data"
    },
    {
     "name": "stderr",
     "output_type": "stream",
     "text": [
      "The following columns in the evaluation set don't have a corresponding argument in `DistilBertForSequenceClassification.forward` and have been ignored: label_txt, utterance. If label_txt, utterance are not expected by `DistilBertForSequenceClassification.forward`,  you can safely ignore this message.\n",
      "***** Running Evaluation *****\n",
      "  Num examples = 82\n",
      "  Batch size = 1024\n"
     ]
    },
    {
     "name": "stdout",
     "output_type": "stream",
     "text": [
      "{'loss': 0.6966, 'grad_norm': 0.33312034606933594, 'learning_rate': 4.8333333333333334e-05, 'epoch': 1.0}\n"
     ]
    },
    {
     "data": {
      "application/vnd.jupyter.widget-view+json": {
       "model_id": "5d3ac05cc4b046449992897185c7cee6",
       "version_major": 2,
       "version_minor": 0
      },
      "text/plain": [
       "  0%|          | 0/1 [00:00<?, ?it/s]"
      ]
     },
     "metadata": {},
     "output_type": "display_data"
    },
    {
     "name": "stderr",
     "output_type": "stream",
     "text": [
      "Saving model checkpoint to ./new_distilbert_clf_dietary/results/tmp-checkpoint-1\n",
      "Configuration saved in ./new_distilbert_clf_dietary/results/tmp-checkpoint-1/config.json\n"
     ]
    },
    {
     "name": "stdout",
     "output_type": "stream",
     "text": [
      "{'eval_loss': 0.6843011379241943, 'eval_accuracy': 0.5487804878048781, 'eval_runtime': 0.2126, 'eval_samples_per_second': 385.652, 'eval_steps_per_second': 4.703, 'epoch': 1.0}\n"
     ]
    },
    {
     "name": "stderr",
     "output_type": "stream",
     "text": [
      "Model weights saved in ./new_distilbert_clf_dietary/results/tmp-checkpoint-1/model.safetensors\n",
      "The following columns in the evaluation set don't have a corresponding argument in `DistilBertForSequenceClassification.forward` and have been ignored: label_txt, utterance. If label_txt, utterance are not expected by `DistilBertForSequenceClassification.forward`,  you can safely ignore this message.\n",
      "***** Running Evaluation *****\n",
      "  Num examples = 82\n",
      "  Batch size = 1024\n"
     ]
    },
    {
     "name": "stdout",
     "output_type": "stream",
     "text": [
      "{'loss': 0.6868, 'grad_norm': 0.354769229888916, 'learning_rate': 4.666666666666667e-05, 'epoch': 2.0}\n"
     ]
    },
    {
     "data": {
      "application/vnd.jupyter.widget-view+json": {
       "model_id": "f54480c56f2b47e98d9236ba982b7028",
       "version_major": 2,
       "version_minor": 0
      },
      "text/plain": [
       "  0%|          | 0/1 [00:00<?, ?it/s]"
      ]
     },
     "metadata": {},
     "output_type": "display_data"
    },
    {
     "name": "stderr",
     "output_type": "stream",
     "text": [
      "Saving model checkpoint to ./new_distilbert_clf_dietary/results/tmp-checkpoint-2\n",
      "Configuration saved in ./new_distilbert_clf_dietary/results/tmp-checkpoint-2/config.json\n"
     ]
    },
    {
     "name": "stdout",
     "output_type": "stream",
     "text": [
      "{'eval_loss': 0.6778129935264587, 'eval_accuracy': 0.6219512195121951, 'eval_runtime': 0.1039, 'eval_samples_per_second': 789.25, 'eval_steps_per_second': 9.625, 'epoch': 2.0}\n"
     ]
    },
    {
     "name": "stderr",
     "output_type": "stream",
     "text": [
      "Model weights saved in ./new_distilbert_clf_dietary/results/tmp-checkpoint-2/model.safetensors\n",
      "The following columns in the evaluation set don't have a corresponding argument in `DistilBertForSequenceClassification.forward` and have been ignored: label_txt, utterance. If label_txt, utterance are not expected by `DistilBertForSequenceClassification.forward`,  you can safely ignore this message.\n",
      "***** Running Evaluation *****\n",
      "  Num examples = 82\n",
      "  Batch size = 1024\n"
     ]
    },
    {
     "name": "stdout",
     "output_type": "stream",
     "text": [
      "{'loss': 0.6798, 'grad_norm': 0.4912261366844177, 'learning_rate': 4.5e-05, 'epoch': 3.0}\n"
     ]
    },
    {
     "data": {
      "application/vnd.jupyter.widget-view+json": {
       "model_id": "8e977af5de184338afe5189b34013767",
       "version_major": 2,
       "version_minor": 0
      },
      "text/plain": [
       "  0%|          | 0/1 [00:00<?, ?it/s]"
      ]
     },
     "metadata": {},
     "output_type": "display_data"
    },
    {
     "name": "stderr",
     "output_type": "stream",
     "text": [
      "Saving model checkpoint to ./new_distilbert_clf_dietary/results/tmp-checkpoint-3\n",
      "Configuration saved in ./new_distilbert_clf_dietary/results/tmp-checkpoint-3/config.json\n"
     ]
    },
    {
     "name": "stdout",
     "output_type": "stream",
     "text": [
      "{'eval_loss': 0.652193546295166, 'eval_accuracy': 0.7439024390243902, 'eval_runtime': 0.1087, 'eval_samples_per_second': 754.641, 'eval_steps_per_second': 9.203, 'epoch': 3.0}\n"
     ]
    },
    {
     "name": "stderr",
     "output_type": "stream",
     "text": [
      "Model weights saved in ./new_distilbert_clf_dietary/results/tmp-checkpoint-3/model.safetensors\n",
      "The following columns in the evaluation set don't have a corresponding argument in `DistilBertForSequenceClassification.forward` and have been ignored: label_txt, utterance. If label_txt, utterance are not expected by `DistilBertForSequenceClassification.forward`,  you can safely ignore this message.\n",
      "***** Running Evaluation *****\n",
      "  Num examples = 82\n",
      "  Batch size = 1024\n"
     ]
    },
    {
     "name": "stdout",
     "output_type": "stream",
     "text": [
      "{'loss': 0.6588, 'grad_norm': 0.6021853685379028, 'learning_rate': 4.3333333333333334e-05, 'epoch': 4.0}\n"
     ]
    },
    {
     "data": {
      "application/vnd.jupyter.widget-view+json": {
       "model_id": "ac5fd98801974daf8735dc46d7a98d64",
       "version_major": 2,
       "version_minor": 0
      },
      "text/plain": [
       "  0%|          | 0/1 [00:00<?, ?it/s]"
      ]
     },
     "metadata": {},
     "output_type": "display_data"
    },
    {
     "name": "stderr",
     "output_type": "stream",
     "text": [
      "Saving model checkpoint to ./new_distilbert_clf_dietary/results/tmp-checkpoint-4\n",
      "Configuration saved in ./new_distilbert_clf_dietary/results/tmp-checkpoint-4/config.json\n"
     ]
    },
    {
     "name": "stdout",
     "output_type": "stream",
     "text": [
      "{'eval_loss': 0.6275544762611389, 'eval_accuracy': 0.6951219512195121, 'eval_runtime': 0.1009, 'eval_samples_per_second': 812.846, 'eval_steps_per_second': 9.913, 'epoch': 4.0}\n"
     ]
    },
    {
     "name": "stderr",
     "output_type": "stream",
     "text": [
      "Model weights saved in ./new_distilbert_clf_dietary/results/tmp-checkpoint-4/model.safetensors\n",
      "The following columns in the evaluation set don't have a corresponding argument in `DistilBertForSequenceClassification.forward` and have been ignored: label_txt, utterance. If label_txt, utterance are not expected by `DistilBertForSequenceClassification.forward`,  you can safely ignore this message.\n",
      "***** Running Evaluation *****\n",
      "  Num examples = 82\n",
      "  Batch size = 1024\n"
     ]
    },
    {
     "name": "stdout",
     "output_type": "stream",
     "text": [
      "{'loss': 0.6352, 'grad_norm': 1.391676902770996, 'learning_rate': 4.166666666666667e-05, 'epoch': 5.0}\n"
     ]
    },
    {
     "data": {
      "application/vnd.jupyter.widget-view+json": {
       "model_id": "fa02ad5a1327470490bf1ac589633298",
       "version_major": 2,
       "version_minor": 0
      },
      "text/plain": [
       "  0%|          | 0/1 [00:00<?, ?it/s]"
      ]
     },
     "metadata": {},
     "output_type": "display_data"
    },
    {
     "name": "stderr",
     "output_type": "stream",
     "text": [
      "Saving model checkpoint to ./new_distilbert_clf_dietary/results/tmp-checkpoint-5\n",
      "Configuration saved in ./new_distilbert_clf_dietary/results/tmp-checkpoint-5/config.json\n"
     ]
    },
    {
     "name": "stdout",
     "output_type": "stream",
     "text": [
      "{'eval_loss': 0.6085324287414551, 'eval_accuracy': 0.7195121951219512, 'eval_runtime': 0.1132, 'eval_samples_per_second': 724.286, 'eval_steps_per_second': 8.833, 'epoch': 5.0}\n"
     ]
    },
    {
     "name": "stderr",
     "output_type": "stream",
     "text": [
      "Model weights saved in ./new_distilbert_clf_dietary/results/tmp-checkpoint-5/model.safetensors\n",
      "The following columns in the evaluation set don't have a corresponding argument in `DistilBertForSequenceClassification.forward` and have been ignored: label_txt, utterance. If label_txt, utterance are not expected by `DistilBertForSequenceClassification.forward`,  you can safely ignore this message.\n",
      "***** Running Evaluation *****\n",
      "  Num examples = 82\n",
      "  Batch size = 1024\n"
     ]
    },
    {
     "name": "stdout",
     "output_type": "stream",
     "text": [
      "{'loss': 0.6114, 'grad_norm': 2.8053159713745117, 'learning_rate': 4e-05, 'epoch': 6.0}\n"
     ]
    },
    {
     "data": {
      "application/vnd.jupyter.widget-view+json": {
       "model_id": "f9e45d16f2f1427999715b264cef4ee3",
       "version_major": 2,
       "version_minor": 0
      },
      "text/plain": [
       "  0%|          | 0/1 [00:00<?, ?it/s]"
      ]
     },
     "metadata": {},
     "output_type": "display_data"
    },
    {
     "name": "stderr",
     "output_type": "stream",
     "text": [
      "Saving model checkpoint to ./new_distilbert_clf_dietary/results/tmp-checkpoint-6\n",
      "Configuration saved in ./new_distilbert_clf_dietary/results/tmp-checkpoint-6/config.json\n"
     ]
    },
    {
     "name": "stdout",
     "output_type": "stream",
     "text": [
      "{'eval_loss': 0.5688818693161011, 'eval_accuracy': 0.7439024390243902, 'eval_runtime': 0.1056, 'eval_samples_per_second': 776.229, 'eval_steps_per_second': 9.466, 'epoch': 6.0}\n"
     ]
    },
    {
     "name": "stderr",
     "output_type": "stream",
     "text": [
      "Model weights saved in ./new_distilbert_clf_dietary/results/tmp-checkpoint-6/model.safetensors\n",
      "The following columns in the evaluation set don't have a corresponding argument in `DistilBertForSequenceClassification.forward` and have been ignored: label_txt, utterance. If label_txt, utterance are not expected by `DistilBertForSequenceClassification.forward`,  you can safely ignore this message.\n",
      "***** Running Evaluation *****\n",
      "  Num examples = 82\n",
      "  Batch size = 1024\n"
     ]
    },
    {
     "name": "stdout",
     "output_type": "stream",
     "text": [
      "{'loss': 0.5546, 'grad_norm': 2.1060116291046143, 'learning_rate': 3.8333333333333334e-05, 'epoch': 7.0}\n"
     ]
    },
    {
     "data": {
      "application/vnd.jupyter.widget-view+json": {
       "model_id": "35e74add99714ded9a37e9bc33f753eb",
       "version_major": 2,
       "version_minor": 0
      },
      "text/plain": [
       "  0%|          | 0/1 [00:00<?, ?it/s]"
      ]
     },
     "metadata": {},
     "output_type": "display_data"
    },
    {
     "name": "stderr",
     "output_type": "stream",
     "text": [
      "Saving model checkpoint to ./new_distilbert_clf_dietary/results/tmp-checkpoint-7\n",
      "Configuration saved in ./new_distilbert_clf_dietary/results/tmp-checkpoint-7/config.json\n"
     ]
    },
    {
     "name": "stdout",
     "output_type": "stream",
     "text": [
      "{'eval_loss': 0.5875203013420105, 'eval_accuracy': 0.7317073170731707, 'eval_runtime': 0.1252, 'eval_samples_per_second': 654.857, 'eval_steps_per_second': 7.986, 'epoch': 7.0}\n"
     ]
    },
    {
     "name": "stderr",
     "output_type": "stream",
     "text": [
      "Model weights saved in ./new_distilbert_clf_dietary/results/tmp-checkpoint-7/model.safetensors\n",
      "The following columns in the evaluation set don't have a corresponding argument in `DistilBertForSequenceClassification.forward` and have been ignored: label_txt, utterance. If label_txt, utterance are not expected by `DistilBertForSequenceClassification.forward`,  you can safely ignore this message.\n",
      "***** Running Evaluation *****\n",
      "  Num examples = 82\n",
      "  Batch size = 1024\n"
     ]
    },
    {
     "name": "stdout",
     "output_type": "stream",
     "text": [
      "{'loss': 0.5505, 'grad_norm': 5.850667476654053, 'learning_rate': 3.6666666666666666e-05, 'epoch': 8.0}\n"
     ]
    },
    {
     "data": {
      "application/vnd.jupyter.widget-view+json": {
       "model_id": "36fd6ecd457d4f61bbe3a0fcbed0a7bf",
       "version_major": 2,
       "version_minor": 0
      },
      "text/plain": [
       "  0%|          | 0/1 [00:00<?, ?it/s]"
      ]
     },
     "metadata": {},
     "output_type": "display_data"
    },
    {
     "name": "stderr",
     "output_type": "stream",
     "text": [
      "Saving model checkpoint to ./new_distilbert_clf_dietary/results/tmp-checkpoint-8\n",
      "Configuration saved in ./new_distilbert_clf_dietary/results/tmp-checkpoint-8/config.json\n"
     ]
    },
    {
     "name": "stdout",
     "output_type": "stream",
     "text": [
      "{'eval_loss': 0.569604754447937, 'eval_accuracy': 0.7317073170731707, 'eval_runtime': 0.1097, 'eval_samples_per_second': 747.329, 'eval_steps_per_second': 9.114, 'epoch': 8.0}\n"
     ]
    },
    {
     "name": "stderr",
     "output_type": "stream",
     "text": [
      "Model weights saved in ./new_distilbert_clf_dietary/results/tmp-checkpoint-8/model.safetensors\n",
      "The following columns in the evaluation set don't have a corresponding argument in `DistilBertForSequenceClassification.forward` and have been ignored: label_txt, utterance. If label_txt, utterance are not expected by `DistilBertForSequenceClassification.forward`,  you can safely ignore this message.\n",
      "***** Running Evaluation *****\n",
      "  Num examples = 82\n",
      "  Batch size = 1024\n"
     ]
    },
    {
     "name": "stdout",
     "output_type": "stream",
     "text": [
      "{'loss': 0.5154, 'grad_norm': 5.29116153717041, 'learning_rate': 3.5e-05, 'epoch': 9.0}\n"
     ]
    },
    {
     "data": {
      "application/vnd.jupyter.widget-view+json": {
       "model_id": "c68e8d49d6e14ff996a3b7f1fb3781d6",
       "version_major": 2,
       "version_minor": 0
      },
      "text/plain": [
       "  0%|          | 0/1 [00:00<?, ?it/s]"
      ]
     },
     "metadata": {},
     "output_type": "display_data"
    },
    {
     "name": "stderr",
     "output_type": "stream",
     "text": [
      "Saving model checkpoint to ./new_distilbert_clf_dietary/results/tmp-checkpoint-9\n",
      "Configuration saved in ./new_distilbert_clf_dietary/results/tmp-checkpoint-9/config.json\n"
     ]
    },
    {
     "name": "stdout",
     "output_type": "stream",
     "text": [
      "{'eval_loss': 0.5220125913619995, 'eval_accuracy': 0.7560975609756098, 'eval_runtime': 0.1054, 'eval_samples_per_second': 777.694, 'eval_steps_per_second': 9.484, 'epoch': 9.0}\n"
     ]
    },
    {
     "name": "stderr",
     "output_type": "stream",
     "text": [
      "Model weights saved in ./new_distilbert_clf_dietary/results/tmp-checkpoint-9/model.safetensors\n",
      "The following columns in the evaluation set don't have a corresponding argument in `DistilBertForSequenceClassification.forward` and have been ignored: label_txt, utterance. If label_txt, utterance are not expected by `DistilBertForSequenceClassification.forward`,  you can safely ignore this message.\n",
      "***** Running Evaluation *****\n",
      "  Num examples = 82\n",
      "  Batch size = 1024\n"
     ]
    },
    {
     "name": "stdout",
     "output_type": "stream",
     "text": [
      "{'loss': 0.4527, 'grad_norm': 2.2148282527923584, 'learning_rate': 3.3333333333333335e-05, 'epoch': 10.0}\n"
     ]
    },
    {
     "data": {
      "application/vnd.jupyter.widget-view+json": {
       "model_id": "bdeb0a3f037a4f5bac22b0f45fd1f187",
       "version_major": 2,
       "version_minor": 0
      },
      "text/plain": [
       "  0%|          | 0/1 [00:00<?, ?it/s]"
      ]
     },
     "metadata": {},
     "output_type": "display_data"
    },
    {
     "name": "stderr",
     "output_type": "stream",
     "text": [
      "Saving model checkpoint to ./new_distilbert_clf_dietary/results/tmp-checkpoint-10\n",
      "Configuration saved in ./new_distilbert_clf_dietary/results/tmp-checkpoint-10/config.json\n"
     ]
    },
    {
     "name": "stdout",
     "output_type": "stream",
     "text": [
      "{'eval_loss': 0.5122970342636108, 'eval_accuracy': 0.7682926829268293, 'eval_runtime': 0.1106, 'eval_samples_per_second': 741.077, 'eval_steps_per_second': 9.038, 'epoch': 10.0}\n"
     ]
    },
    {
     "name": "stderr",
     "output_type": "stream",
     "text": [
      "Model weights saved in ./new_distilbert_clf_dietary/results/tmp-checkpoint-10/model.safetensors\n",
      "The following columns in the evaluation set don't have a corresponding argument in `DistilBertForSequenceClassification.forward` and have been ignored: label_txt, utterance. If label_txt, utterance are not expected by `DistilBertForSequenceClassification.forward`,  you can safely ignore this message.\n",
      "***** Running Evaluation *****\n",
      "  Num examples = 82\n",
      "  Batch size = 1024\n"
     ]
    },
    {
     "name": "stdout",
     "output_type": "stream",
     "text": [
      "{'loss': 0.4249, 'grad_norm': 3.7412097454071045, 'learning_rate': 3.1666666666666666e-05, 'epoch': 11.0}\n"
     ]
    },
    {
     "data": {
      "application/vnd.jupyter.widget-view+json": {
       "model_id": "61022845c6df41e89030febf1a9bc88a",
       "version_major": 2,
       "version_minor": 0
      },
      "text/plain": [
       "  0%|          | 0/1 [00:00<?, ?it/s]"
      ]
     },
     "metadata": {},
     "output_type": "display_data"
    },
    {
     "name": "stderr",
     "output_type": "stream",
     "text": [
      "Saving model checkpoint to ./new_distilbert_clf_dietary/results/tmp-checkpoint-11\n",
      "Configuration saved in ./new_distilbert_clf_dietary/results/tmp-checkpoint-11/config.json\n"
     ]
    },
    {
     "name": "stdout",
     "output_type": "stream",
     "text": [
      "{'eval_loss': 0.521614134311676, 'eval_accuracy': 0.7682926829268293, 'eval_runtime': 0.1058, 'eval_samples_per_second': 774.982, 'eval_steps_per_second': 9.451, 'epoch': 11.0}\n"
     ]
    },
    {
     "name": "stderr",
     "output_type": "stream",
     "text": [
      "Model weights saved in ./new_distilbert_clf_dietary/results/tmp-checkpoint-11/model.safetensors\n",
      "The following columns in the evaluation set don't have a corresponding argument in `DistilBertForSequenceClassification.forward` and have been ignored: label_txt, utterance. If label_txt, utterance are not expected by `DistilBertForSequenceClassification.forward`,  you can safely ignore this message.\n",
      "***** Running Evaluation *****\n",
      "  Num examples = 82\n",
      "  Batch size = 1024\n"
     ]
    },
    {
     "name": "stdout",
     "output_type": "stream",
     "text": [
      "{'loss': 0.3954, 'grad_norm': 1.3410881757736206, 'learning_rate': 3e-05, 'epoch': 12.0}\n"
     ]
    },
    {
     "data": {
      "application/vnd.jupyter.widget-view+json": {
       "model_id": "cfe81a6fa58a48fdad088abb91f118b5",
       "version_major": 2,
       "version_minor": 0
      },
      "text/plain": [
       "  0%|          | 0/1 [00:00<?, ?it/s]"
      ]
     },
     "metadata": {},
     "output_type": "display_data"
    },
    {
     "name": "stderr",
     "output_type": "stream",
     "text": [
      "Saving model checkpoint to ./new_distilbert_clf_dietary/results/tmp-checkpoint-12\n",
      "Configuration saved in ./new_distilbert_clf_dietary/results/tmp-checkpoint-12/config.json\n"
     ]
    },
    {
     "name": "stdout",
     "output_type": "stream",
     "text": [
      "{'eval_loss': 0.528638482093811, 'eval_accuracy': 0.7682926829268293, 'eval_runtime': 0.1052, 'eval_samples_per_second': 779.268, 'eval_steps_per_second': 9.503, 'epoch': 12.0}\n"
     ]
    },
    {
     "name": "stderr",
     "output_type": "stream",
     "text": [
      "Model weights saved in ./new_distilbert_clf_dietary/results/tmp-checkpoint-12/model.safetensors\n",
      "The following columns in the evaluation set don't have a corresponding argument in `DistilBertForSequenceClassification.forward` and have been ignored: label_txt, utterance. If label_txt, utterance are not expected by `DistilBertForSequenceClassification.forward`,  you can safely ignore this message.\n",
      "***** Running Evaluation *****\n",
      "  Num examples = 82\n",
      "  Batch size = 1024\n"
     ]
    },
    {
     "name": "stdout",
     "output_type": "stream",
     "text": [
      "{'loss': 0.3452, 'grad_norm': 2.5122947692871094, 'learning_rate': 2.8333333333333335e-05, 'epoch': 13.0}\n"
     ]
    },
    {
     "data": {
      "application/vnd.jupyter.widget-view+json": {
       "model_id": "bfdae1673bab4aa49fff6ef98251e932",
       "version_major": 2,
       "version_minor": 0
      },
      "text/plain": [
       "  0%|          | 0/1 [00:00<?, ?it/s]"
      ]
     },
     "metadata": {},
     "output_type": "display_data"
    },
    {
     "name": "stderr",
     "output_type": "stream",
     "text": [
      "Saving model checkpoint to ./new_distilbert_clf_dietary/results/tmp-checkpoint-13\n",
      "Configuration saved in ./new_distilbert_clf_dietary/results/tmp-checkpoint-13/config.json\n"
     ]
    },
    {
     "name": "stdout",
     "output_type": "stream",
     "text": [
      "{'eval_loss': 0.5152335166931152, 'eval_accuracy': 0.7804878048780488, 'eval_runtime': 0.1003, 'eval_samples_per_second': 817.831, 'eval_steps_per_second': 9.974, 'epoch': 13.0}\n"
     ]
    },
    {
     "name": "stderr",
     "output_type": "stream",
     "text": [
      "Model weights saved in ./new_distilbert_clf_dietary/results/tmp-checkpoint-13/model.safetensors\n",
      "The following columns in the evaluation set don't have a corresponding argument in `DistilBertForSequenceClassification.forward` and have been ignored: label_txt, utterance. If label_txt, utterance are not expected by `DistilBertForSequenceClassification.forward`,  you can safely ignore this message.\n",
      "***** Running Evaluation *****\n",
      "  Num examples = 82\n",
      "  Batch size = 1024\n"
     ]
    },
    {
     "name": "stdout",
     "output_type": "stream",
     "text": [
      "{'loss': 0.317, 'grad_norm': 1.890784740447998, 'learning_rate': 2.6666666666666667e-05, 'epoch': 14.0}\n"
     ]
    },
    {
     "data": {
      "application/vnd.jupyter.widget-view+json": {
       "model_id": "f0931aaa88df4bd7ae6bab6be2aba5df",
       "version_major": 2,
       "version_minor": 0
      },
      "text/plain": [
       "  0%|          | 0/1 [00:00<?, ?it/s]"
      ]
     },
     "metadata": {},
     "output_type": "display_data"
    },
    {
     "name": "stderr",
     "output_type": "stream",
     "text": [
      "Saving model checkpoint to ./new_distilbert_clf_dietary/results/tmp-checkpoint-14\n",
      "Configuration saved in ./new_distilbert_clf_dietary/results/tmp-checkpoint-14/config.json\n"
     ]
    },
    {
     "name": "stdout",
     "output_type": "stream",
     "text": [
      "{'eval_loss': 0.5155175924301147, 'eval_accuracy': 0.7804878048780488, 'eval_runtime': 0.1034, 'eval_samples_per_second': 793.298, 'eval_steps_per_second': 9.674, 'epoch': 14.0}\n"
     ]
    },
    {
     "name": "stderr",
     "output_type": "stream",
     "text": [
      "Model weights saved in ./new_distilbert_clf_dietary/results/tmp-checkpoint-14/model.safetensors\n",
      "The following columns in the evaluation set don't have a corresponding argument in `DistilBertForSequenceClassification.forward` and have been ignored: label_txt, utterance. If label_txt, utterance are not expected by `DistilBertForSequenceClassification.forward`,  you can safely ignore this message.\n",
      "***** Running Evaluation *****\n",
      "  Num examples = 82\n",
      "  Batch size = 1024\n"
     ]
    },
    {
     "name": "stdout",
     "output_type": "stream",
     "text": [
      "{'loss': 0.2809, 'grad_norm': 1.4019222259521484, 'learning_rate': 2.5e-05, 'epoch': 15.0}\n"
     ]
    },
    {
     "data": {
      "application/vnd.jupyter.widget-view+json": {
       "model_id": "1846b063c44246038dd0cd2a46063b20",
       "version_major": 2,
       "version_minor": 0
      },
      "text/plain": [
       "  0%|          | 0/1 [00:00<?, ?it/s]"
      ]
     },
     "metadata": {},
     "output_type": "display_data"
    },
    {
     "name": "stderr",
     "output_type": "stream",
     "text": [
      "Saving model checkpoint to ./new_distilbert_clf_dietary/results/tmp-checkpoint-15\n",
      "Configuration saved in ./new_distilbert_clf_dietary/results/tmp-checkpoint-15/config.json\n"
     ]
    },
    {
     "name": "stdout",
     "output_type": "stream",
     "text": [
      "{'eval_loss': 0.5089586973190308, 'eval_accuracy': 0.7926829268292683, 'eval_runtime': 0.104, 'eval_samples_per_second': 788.676, 'eval_steps_per_second': 9.618, 'epoch': 15.0}\n"
     ]
    },
    {
     "name": "stderr",
     "output_type": "stream",
     "text": [
      "Model weights saved in ./new_distilbert_clf_dietary/results/tmp-checkpoint-15/model.safetensors\n",
      "The following columns in the evaluation set don't have a corresponding argument in `DistilBertForSequenceClassification.forward` and have been ignored: label_txt, utterance. If label_txt, utterance are not expected by `DistilBertForSequenceClassification.forward`,  you can safely ignore this message.\n",
      "***** Running Evaluation *****\n",
      "  Num examples = 82\n",
      "  Batch size = 1024\n"
     ]
    },
    {
     "name": "stdout",
     "output_type": "stream",
     "text": [
      "{'loss': 0.2565, 'grad_norm': 2.6540651321411133, 'learning_rate': 2.3333333333333336e-05, 'epoch': 16.0}\n"
     ]
    },
    {
     "data": {
      "application/vnd.jupyter.widget-view+json": {
       "model_id": "04978f411a064f6e9f1d28406e63c68a",
       "version_major": 2,
       "version_minor": 0
      },
      "text/plain": [
       "  0%|          | 0/1 [00:00<?, ?it/s]"
      ]
     },
     "metadata": {},
     "output_type": "display_data"
    },
    {
     "name": "stderr",
     "output_type": "stream",
     "text": [
      "Saving model checkpoint to ./new_distilbert_clf_dietary/results/tmp-checkpoint-16\n",
      "Configuration saved in ./new_distilbert_clf_dietary/results/tmp-checkpoint-16/config.json\n"
     ]
    },
    {
     "name": "stdout",
     "output_type": "stream",
     "text": [
      "{'eval_loss': 0.5219717025756836, 'eval_accuracy': 0.7804878048780488, 'eval_runtime': 0.1058, 'eval_samples_per_second': 774.901, 'eval_steps_per_second': 9.45, 'epoch': 16.0}\n"
     ]
    },
    {
     "name": "stderr",
     "output_type": "stream",
     "text": [
      "Model weights saved in ./new_distilbert_clf_dietary/results/tmp-checkpoint-16/model.safetensors\n",
      "The following columns in the evaluation set don't have a corresponding argument in `DistilBertForSequenceClassification.forward` and have been ignored: label_txt, utterance. If label_txt, utterance are not expected by `DistilBertForSequenceClassification.forward`,  you can safely ignore this message.\n",
      "***** Running Evaluation *****\n",
      "  Num examples = 82\n",
      "  Batch size = 1024\n"
     ]
    },
    {
     "name": "stdout",
     "output_type": "stream",
     "text": [
      "{'loss': 0.2168, 'grad_norm': 1.9873182773590088, 'learning_rate': 2.1666666666666667e-05, 'epoch': 17.0}\n"
     ]
    },
    {
     "data": {
      "application/vnd.jupyter.widget-view+json": {
       "model_id": "1f1d45021c9d46f4961326901625afc3",
       "version_major": 2,
       "version_minor": 0
      },
      "text/plain": [
       "  0%|          | 0/1 [00:00<?, ?it/s]"
      ]
     },
     "metadata": {},
     "output_type": "display_data"
    },
    {
     "name": "stderr",
     "output_type": "stream",
     "text": [
      "Saving model checkpoint to ./new_distilbert_clf_dietary/results/tmp-checkpoint-17\n",
      "Configuration saved in ./new_distilbert_clf_dietary/results/tmp-checkpoint-17/config.json\n"
     ]
    },
    {
     "name": "stdout",
     "output_type": "stream",
     "text": [
      "{'eval_loss': 0.5189790725708008, 'eval_accuracy': 0.7926829268292683, 'eval_runtime': 0.0992, 'eval_samples_per_second': 826.261, 'eval_steps_per_second': 10.076, 'epoch': 17.0}\n"
     ]
    },
    {
     "name": "stderr",
     "output_type": "stream",
     "text": [
      "Model weights saved in ./new_distilbert_clf_dietary/results/tmp-checkpoint-17/model.safetensors\n",
      "The following columns in the evaluation set don't have a corresponding argument in `DistilBertForSequenceClassification.forward` and have been ignored: label_txt, utterance. If label_txt, utterance are not expected by `DistilBertForSequenceClassification.forward`,  you can safely ignore this message.\n",
      "***** Running Evaluation *****\n",
      "  Num examples = 82\n",
      "  Batch size = 1024\n"
     ]
    },
    {
     "name": "stdout",
     "output_type": "stream",
     "text": [
      "{'loss': 0.2104, 'grad_norm': 1.1162402629852295, 'learning_rate': 2e-05, 'epoch': 18.0}\n"
     ]
    },
    {
     "data": {
      "application/vnd.jupyter.widget-view+json": {
       "model_id": "44e10abbd2454d87bde54fdb3bb70524",
       "version_major": 2,
       "version_minor": 0
      },
      "text/plain": [
       "  0%|          | 0/1 [00:00<?, ?it/s]"
      ]
     },
     "metadata": {},
     "output_type": "display_data"
    },
    {
     "name": "stderr",
     "output_type": "stream",
     "text": [
      "Saving model checkpoint to ./new_distilbert_clf_dietary/results/tmp-checkpoint-18\n",
      "Configuration saved in ./new_distilbert_clf_dietary/results/tmp-checkpoint-18/config.json\n"
     ]
    },
    {
     "name": "stdout",
     "output_type": "stream",
     "text": [
      "{'eval_loss': 0.5118248462677002, 'eval_accuracy': 0.7926829268292683, 'eval_runtime': 0.1053, 'eval_samples_per_second': 778.469, 'eval_steps_per_second': 9.494, 'epoch': 18.0}\n"
     ]
    },
    {
     "name": "stderr",
     "output_type": "stream",
     "text": [
      "Model weights saved in ./new_distilbert_clf_dietary/results/tmp-checkpoint-18/model.safetensors\n",
      "The following columns in the evaluation set don't have a corresponding argument in `DistilBertForSequenceClassification.forward` and have been ignored: label_txt, utterance. If label_txt, utterance are not expected by `DistilBertForSequenceClassification.forward`,  you can safely ignore this message.\n",
      "***** Running Evaluation *****\n",
      "  Num examples = 82\n",
      "  Batch size = 1024\n"
     ]
    },
    {
     "name": "stdout",
     "output_type": "stream",
     "text": [
      "{'loss': 0.1792, 'grad_norm': 1.4998670816421509, 'learning_rate': 1.8333333333333333e-05, 'epoch': 19.0}\n"
     ]
    },
    {
     "data": {
      "application/vnd.jupyter.widget-view+json": {
       "model_id": "8c4adbeb5d6d4d269282696bb9407930",
       "version_major": 2,
       "version_minor": 0
      },
      "text/plain": [
       "  0%|          | 0/1 [00:00<?, ?it/s]"
      ]
     },
     "metadata": {},
     "output_type": "display_data"
    },
    {
     "name": "stderr",
     "output_type": "stream",
     "text": [
      "Saving model checkpoint to ./new_distilbert_clf_dietary/results/tmp-checkpoint-19\n",
      "Configuration saved in ./new_distilbert_clf_dietary/results/tmp-checkpoint-19/config.json\n"
     ]
    },
    {
     "name": "stdout",
     "output_type": "stream",
     "text": [
      "{'eval_loss': 0.5225933790206909, 'eval_accuracy': 0.7926829268292683, 'eval_runtime': 0.1189, 'eval_samples_per_second': 689.736, 'eval_steps_per_second': 8.411, 'epoch': 19.0}\n"
     ]
    },
    {
     "name": "stderr",
     "output_type": "stream",
     "text": [
      "Model weights saved in ./new_distilbert_clf_dietary/results/tmp-checkpoint-19/model.safetensors\n",
      "The following columns in the evaluation set don't have a corresponding argument in `DistilBertForSequenceClassification.forward` and have been ignored: label_txt, utterance. If label_txt, utterance are not expected by `DistilBertForSequenceClassification.forward`,  you can safely ignore this message.\n",
      "***** Running Evaluation *****\n",
      "  Num examples = 82\n",
      "  Batch size = 1024\n"
     ]
    },
    {
     "name": "stdout",
     "output_type": "stream",
     "text": [
      "{'loss': 0.1727, 'grad_norm': 1.345758080482483, 'learning_rate': 1.6666666666666667e-05, 'epoch': 20.0}\n"
     ]
    },
    {
     "data": {
      "application/vnd.jupyter.widget-view+json": {
       "model_id": "ea5393067c4f48e9871822b4b01d365a",
       "version_major": 2,
       "version_minor": 0
      },
      "text/plain": [
       "  0%|          | 0/1 [00:00<?, ?it/s]"
      ]
     },
     "metadata": {},
     "output_type": "display_data"
    },
    {
     "name": "stderr",
     "output_type": "stream",
     "text": [
      "Saving model checkpoint to ./new_distilbert_clf_dietary/results/tmp-checkpoint-20\n",
      "Configuration saved in ./new_distilbert_clf_dietary/results/tmp-checkpoint-20/config.json\n"
     ]
    },
    {
     "name": "stdout",
     "output_type": "stream",
     "text": [
      "{'eval_loss': 0.5205591917037964, 'eval_accuracy': 0.8048780487804879, 'eval_runtime': 0.1043, 'eval_samples_per_second': 786.224, 'eval_steps_per_second': 9.588, 'epoch': 20.0}\n"
     ]
    },
    {
     "name": "stderr",
     "output_type": "stream",
     "text": [
      "Model weights saved in ./new_distilbert_clf_dietary/results/tmp-checkpoint-20/model.safetensors\n",
      "The following columns in the evaluation set don't have a corresponding argument in `DistilBertForSequenceClassification.forward` and have been ignored: label_txt, utterance. If label_txt, utterance are not expected by `DistilBertForSequenceClassification.forward`,  you can safely ignore this message.\n",
      "***** Running Evaluation *****\n",
      "  Num examples = 82\n",
      "  Batch size = 1024\n"
     ]
    },
    {
     "name": "stdout",
     "output_type": "stream",
     "text": [
      "{'loss': 0.1526, 'grad_norm': 0.9524264335632324, 'learning_rate': 1.5e-05, 'epoch': 21.0}\n"
     ]
    },
    {
     "data": {
      "application/vnd.jupyter.widget-view+json": {
       "model_id": "498fdd9c0a3d4ec893012ea057aa6c58",
       "version_major": 2,
       "version_minor": 0
      },
      "text/plain": [
       "  0%|          | 0/1 [00:00<?, ?it/s]"
      ]
     },
     "metadata": {},
     "output_type": "display_data"
    },
    {
     "name": "stderr",
     "output_type": "stream",
     "text": [
      "Saving model checkpoint to ./new_distilbert_clf_dietary/results/tmp-checkpoint-21\n",
      "Configuration saved in ./new_distilbert_clf_dietary/results/tmp-checkpoint-21/config.json\n"
     ]
    },
    {
     "name": "stdout",
     "output_type": "stream",
     "text": [
      "{'eval_loss': 0.518901526927948, 'eval_accuracy': 0.8170731707317073, 'eval_runtime': 0.1086, 'eval_samples_per_second': 755.301, 'eval_steps_per_second': 9.211, 'epoch': 21.0}\n"
     ]
    },
    {
     "name": "stderr",
     "output_type": "stream",
     "text": [
      "Model weights saved in ./new_distilbert_clf_dietary/results/tmp-checkpoint-21/model.safetensors\n",
      "The following columns in the evaluation set don't have a corresponding argument in `DistilBertForSequenceClassification.forward` and have been ignored: label_txt, utterance. If label_txt, utterance are not expected by `DistilBertForSequenceClassification.forward`,  you can safely ignore this message.\n",
      "***** Running Evaluation *****\n",
      "  Num examples = 82\n",
      "  Batch size = 1024\n"
     ]
    },
    {
     "name": "stdout",
     "output_type": "stream",
     "text": [
      "{'loss': 0.1496, 'grad_norm': 2.3529555797576904, 'learning_rate': 1.3333333333333333e-05, 'epoch': 22.0}\n"
     ]
    },
    {
     "data": {
      "application/vnd.jupyter.widget-view+json": {
       "model_id": "c309c3a5dca24daa96e7302e4ee6852f",
       "version_major": 2,
       "version_minor": 0
      },
      "text/plain": [
       "  0%|          | 0/1 [00:00<?, ?it/s]"
      ]
     },
     "metadata": {},
     "output_type": "display_data"
    },
    {
     "name": "stderr",
     "output_type": "stream",
     "text": [
      "Saving model checkpoint to ./new_distilbert_clf_dietary/results/tmp-checkpoint-22\n",
      "Configuration saved in ./new_distilbert_clf_dietary/results/tmp-checkpoint-22/config.json\n"
     ]
    },
    {
     "name": "stdout",
     "output_type": "stream",
     "text": [
      "{'eval_loss': 0.5302168130874634, 'eval_accuracy': 0.8170731707317073, 'eval_runtime': 0.1152, 'eval_samples_per_second': 711.991, 'eval_steps_per_second': 8.683, 'epoch': 22.0}\n"
     ]
    },
    {
     "name": "stderr",
     "output_type": "stream",
     "text": [
      "Model weights saved in ./new_distilbert_clf_dietary/results/tmp-checkpoint-22/model.safetensors\n",
      "The following columns in the evaluation set don't have a corresponding argument in `DistilBertForSequenceClassification.forward` and have been ignored: label_txt, utterance. If label_txt, utterance are not expected by `DistilBertForSequenceClassification.forward`,  you can safely ignore this message.\n",
      "***** Running Evaluation *****\n",
      "  Num examples = 82\n",
      "  Batch size = 1024\n"
     ]
    },
    {
     "name": "stdout",
     "output_type": "stream",
     "text": [
      "{'loss': 0.1327, 'grad_norm': 1.3582220077514648, 'learning_rate': 1.1666666666666668e-05, 'epoch': 23.0}\n"
     ]
    },
    {
     "data": {
      "application/vnd.jupyter.widget-view+json": {
       "model_id": "9c13b3f515b84e3abd815d54628b20d3",
       "version_major": 2,
       "version_minor": 0
      },
      "text/plain": [
       "  0%|          | 0/1 [00:00<?, ?it/s]"
      ]
     },
     "metadata": {},
     "output_type": "display_data"
    },
    {
     "name": "stderr",
     "output_type": "stream",
     "text": [
      "Saving model checkpoint to ./new_distilbert_clf_dietary/results/tmp-checkpoint-23\n",
      "Configuration saved in ./new_distilbert_clf_dietary/results/tmp-checkpoint-23/config.json\n"
     ]
    },
    {
     "name": "stdout",
     "output_type": "stream",
     "text": [
      "{'eval_loss': 0.5488225221633911, 'eval_accuracy': 0.7804878048780488, 'eval_runtime': 0.106, 'eval_samples_per_second': 773.737, 'eval_steps_per_second': 9.436, 'epoch': 23.0}\n"
     ]
    },
    {
     "name": "stderr",
     "output_type": "stream",
     "text": [
      "Model weights saved in ./new_distilbert_clf_dietary/results/tmp-checkpoint-23/model.safetensors\n",
      "The following columns in the evaluation set don't have a corresponding argument in `DistilBertForSequenceClassification.forward` and have been ignored: label_txt, utterance. If label_txt, utterance are not expected by `DistilBertForSequenceClassification.forward`,  you can safely ignore this message.\n",
      "***** Running Evaluation *****\n",
      "  Num examples = 82\n",
      "  Batch size = 1024\n"
     ]
    },
    {
     "name": "stdout",
     "output_type": "stream",
     "text": [
      "{'loss': 0.1205, 'grad_norm': 2.24552321434021, 'learning_rate': 1e-05, 'epoch': 24.0}\n"
     ]
    },
    {
     "data": {
      "application/vnd.jupyter.widget-view+json": {
       "model_id": "03c244b62134416096293121128e25fa",
       "version_major": 2,
       "version_minor": 0
      },
      "text/plain": [
       "  0%|          | 0/1 [00:00<?, ?it/s]"
      ]
     },
     "metadata": {},
     "output_type": "display_data"
    },
    {
     "name": "stderr",
     "output_type": "stream",
     "text": [
      "Saving model checkpoint to ./new_distilbert_clf_dietary/results/tmp-checkpoint-24\n",
      "Configuration saved in ./new_distilbert_clf_dietary/results/tmp-checkpoint-24/config.json\n"
     ]
    },
    {
     "name": "stdout",
     "output_type": "stream",
     "text": [
      "{'eval_loss': 0.5532670021057129, 'eval_accuracy': 0.7804878048780488, 'eval_runtime': 0.1105, 'eval_samples_per_second': 741.759, 'eval_steps_per_second': 9.046, 'epoch': 24.0}\n"
     ]
    },
    {
     "name": "stderr",
     "output_type": "stream",
     "text": [
      "Model weights saved in ./new_distilbert_clf_dietary/results/tmp-checkpoint-24/model.safetensors\n",
      "The following columns in the evaluation set don't have a corresponding argument in `DistilBertForSequenceClassification.forward` and have been ignored: label_txt, utterance. If label_txt, utterance are not expected by `DistilBertForSequenceClassification.forward`,  you can safely ignore this message.\n",
      "***** Running Evaluation *****\n",
      "  Num examples = 82\n",
      "  Batch size = 1024\n"
     ]
    },
    {
     "name": "stdout",
     "output_type": "stream",
     "text": [
      "{'loss': 0.128, 'grad_norm': 3.6739909648895264, 'learning_rate': 8.333333333333334e-06, 'epoch': 25.0}\n"
     ]
    },
    {
     "data": {
      "application/vnd.jupyter.widget-view+json": {
       "model_id": "c52061df142546adac64e2d539909b27",
       "version_major": 2,
       "version_minor": 0
      },
      "text/plain": [
       "  0%|          | 0/1 [00:00<?, ?it/s]"
      ]
     },
     "metadata": {},
     "output_type": "display_data"
    },
    {
     "name": "stderr",
     "output_type": "stream",
     "text": [
      "Saving model checkpoint to ./new_distilbert_clf_dietary/results/tmp-checkpoint-25\n",
      "Configuration saved in ./new_distilbert_clf_dietary/results/tmp-checkpoint-25/config.json\n"
     ]
    },
    {
     "name": "stdout",
     "output_type": "stream",
     "text": [
      "{'eval_loss': 0.5469937324523926, 'eval_accuracy': 0.8048780487804879, 'eval_runtime': 0.1059, 'eval_samples_per_second': 774.402, 'eval_steps_per_second': 9.444, 'epoch': 25.0}\n"
     ]
    },
    {
     "name": "stderr",
     "output_type": "stream",
     "text": [
      "Model weights saved in ./new_distilbert_clf_dietary/results/tmp-checkpoint-25/model.safetensors\n",
      "The following columns in the evaluation set don't have a corresponding argument in `DistilBertForSequenceClassification.forward` and have been ignored: label_txt, utterance. If label_txt, utterance are not expected by `DistilBertForSequenceClassification.forward`,  you can safely ignore this message.\n",
      "***** Running Evaluation *****\n",
      "  Num examples = 82\n",
      "  Batch size = 1024\n"
     ]
    },
    {
     "name": "stdout",
     "output_type": "stream",
     "text": [
      "{'loss': 0.1114, 'grad_norm': 2.4374146461486816, 'learning_rate': 6.666666666666667e-06, 'epoch': 26.0}\n"
     ]
    },
    {
     "data": {
      "application/vnd.jupyter.widget-view+json": {
       "model_id": "db4e94b511a44545b97534af9d7cb1b9",
       "version_major": 2,
       "version_minor": 0
      },
      "text/plain": [
       "  0%|          | 0/1 [00:00<?, ?it/s]"
      ]
     },
     "metadata": {},
     "output_type": "display_data"
    },
    {
     "name": "stderr",
     "output_type": "stream",
     "text": [
      "Saving model checkpoint to ./new_distilbert_clf_dietary/results/tmp-checkpoint-26\n",
      "Configuration saved in ./new_distilbert_clf_dietary/results/tmp-checkpoint-26/config.json\n"
     ]
    },
    {
     "name": "stdout",
     "output_type": "stream",
     "text": [
      "{'eval_loss': 0.5382205247879028, 'eval_accuracy': 0.8170731707317073, 'eval_runtime': 0.1159, 'eval_samples_per_second': 707.672, 'eval_steps_per_second': 8.63, 'epoch': 26.0}\n"
     ]
    },
    {
     "name": "stderr",
     "output_type": "stream",
     "text": [
      "Model weights saved in ./new_distilbert_clf_dietary/results/tmp-checkpoint-26/model.safetensors\n",
      "The following columns in the evaluation set don't have a corresponding argument in `DistilBertForSequenceClassification.forward` and have been ignored: label_txt, utterance. If label_txt, utterance are not expected by `DistilBertForSequenceClassification.forward`,  you can safely ignore this message.\n",
      "***** Running Evaluation *****\n",
      "  Num examples = 82\n",
      "  Batch size = 1024\n"
     ]
    },
    {
     "name": "stdout",
     "output_type": "stream",
     "text": [
      "{'loss': 0.1047, 'grad_norm': 1.21234130859375, 'learning_rate': 5e-06, 'epoch': 27.0}\n"
     ]
    },
    {
     "data": {
      "application/vnd.jupyter.widget-view+json": {
       "model_id": "6eea36fcf6904576bf5af929c3521f2f",
       "version_major": 2,
       "version_minor": 0
      },
      "text/plain": [
       "  0%|          | 0/1 [00:00<?, ?it/s]"
      ]
     },
     "metadata": {},
     "output_type": "display_data"
    },
    {
     "name": "stderr",
     "output_type": "stream",
     "text": [
      "Saving model checkpoint to ./new_distilbert_clf_dietary/results/tmp-checkpoint-27\n",
      "Configuration saved in ./new_distilbert_clf_dietary/results/tmp-checkpoint-27/config.json\n"
     ]
    },
    {
     "name": "stdout",
     "output_type": "stream",
     "text": [
      "{'eval_loss': 0.5366402268409729, 'eval_accuracy': 0.8170731707317073, 'eval_runtime': 0.1049, 'eval_samples_per_second': 781.579, 'eval_steps_per_second': 9.531, 'epoch': 27.0}\n"
     ]
    },
    {
     "name": "stderr",
     "output_type": "stream",
     "text": [
      "Model weights saved in ./new_distilbert_clf_dietary/results/tmp-checkpoint-27/model.safetensors\n",
      "The following columns in the evaluation set don't have a corresponding argument in `DistilBertForSequenceClassification.forward` and have been ignored: label_txt, utterance. If label_txt, utterance are not expected by `DistilBertForSequenceClassification.forward`,  you can safely ignore this message.\n",
      "***** Running Evaluation *****\n",
      "  Num examples = 82\n",
      "  Batch size = 1024\n"
     ]
    },
    {
     "name": "stdout",
     "output_type": "stream",
     "text": [
      "{'loss': 0.1011, 'grad_norm': 0.9242075681686401, 'learning_rate': 3.3333333333333333e-06, 'epoch': 28.0}\n"
     ]
    },
    {
     "data": {
      "application/vnd.jupyter.widget-view+json": {
       "model_id": "57e1e034acd54917994558650bdb1a3b",
       "version_major": 2,
       "version_minor": 0
      },
      "text/plain": [
       "  0%|          | 0/1 [00:00<?, ?it/s]"
      ]
     },
     "metadata": {},
     "output_type": "display_data"
    },
    {
     "name": "stderr",
     "output_type": "stream",
     "text": [
      "Saving model checkpoint to ./new_distilbert_clf_dietary/results/tmp-checkpoint-28\n",
      "Configuration saved in ./new_distilbert_clf_dietary/results/tmp-checkpoint-28/config.json\n"
     ]
    },
    {
     "name": "stdout",
     "output_type": "stream",
     "text": [
      "{'eval_loss': 0.5373612642288208, 'eval_accuracy': 0.8170731707317073, 'eval_runtime': 0.1077, 'eval_samples_per_second': 761.338, 'eval_steps_per_second': 9.285, 'epoch': 28.0}\n"
     ]
    },
    {
     "name": "stderr",
     "output_type": "stream",
     "text": [
      "Model weights saved in ./new_distilbert_clf_dietary/results/tmp-checkpoint-28/model.safetensors\n",
      "The following columns in the evaluation set don't have a corresponding argument in `DistilBertForSequenceClassification.forward` and have been ignored: label_txt, utterance. If label_txt, utterance are not expected by `DistilBertForSequenceClassification.forward`,  you can safely ignore this message.\n",
      "***** Running Evaluation *****\n",
      "  Num examples = 82\n",
      "  Batch size = 1024\n"
     ]
    },
    {
     "name": "stdout",
     "output_type": "stream",
     "text": [
      "{'loss': 0.0915, 'grad_norm': 1.1673009395599365, 'learning_rate': 1.6666666666666667e-06, 'epoch': 29.0}\n"
     ]
    },
    {
     "data": {
      "application/vnd.jupyter.widget-view+json": {
       "model_id": "782a5cb4f85a426db1c32b8466284ac3",
       "version_major": 2,
       "version_minor": 0
      },
      "text/plain": [
       "  0%|          | 0/1 [00:00<?, ?it/s]"
      ]
     },
     "metadata": {},
     "output_type": "display_data"
    },
    {
     "name": "stderr",
     "output_type": "stream",
     "text": [
      "Saving model checkpoint to ./new_distilbert_clf_dietary/results/tmp-checkpoint-29\n",
      "Configuration saved in ./new_distilbert_clf_dietary/results/tmp-checkpoint-29/config.json\n"
     ]
    },
    {
     "name": "stdout",
     "output_type": "stream",
     "text": [
      "{'eval_loss': 0.539600670337677, 'eval_accuracy': 0.8170731707317073, 'eval_runtime': 0.1068, 'eval_samples_per_second': 767.69, 'eval_steps_per_second': 9.362, 'epoch': 29.0}\n"
     ]
    },
    {
     "name": "stderr",
     "output_type": "stream",
     "text": [
      "Model weights saved in ./new_distilbert_clf_dietary/results/tmp-checkpoint-29/model.safetensors\n",
      "The following columns in the evaluation set don't have a corresponding argument in `DistilBertForSequenceClassification.forward` and have been ignored: label_txt, utterance. If label_txt, utterance are not expected by `DistilBertForSequenceClassification.forward`,  you can safely ignore this message.\n",
      "***** Running Evaluation *****\n",
      "  Num examples = 82\n",
      "  Batch size = 1024\n"
     ]
    },
    {
     "name": "stdout",
     "output_type": "stream",
     "text": [
      "{'loss': 0.0974, 'grad_norm': 1.2605937719345093, 'learning_rate': 0.0, 'epoch': 30.0}\n"
     ]
    },
    {
     "data": {
      "application/vnd.jupyter.widget-view+json": {
       "model_id": "41e0771465424d5db968a84cab28a3f2",
       "version_major": 2,
       "version_minor": 0
      },
      "text/plain": [
       "  0%|          | 0/1 [00:00<?, ?it/s]"
      ]
     },
     "metadata": {},
     "output_type": "display_data"
    },
    {
     "name": "stderr",
     "output_type": "stream",
     "text": [
      "Saving model checkpoint to ./new_distilbert_clf_dietary/results/tmp-checkpoint-30\n",
      "Configuration saved in ./new_distilbert_clf_dietary/results/tmp-checkpoint-30/config.json\n"
     ]
    },
    {
     "name": "stdout",
     "output_type": "stream",
     "text": [
      "{'eval_loss': 0.5417420864105225, 'eval_accuracy': 0.8170731707317073, 'eval_runtime': 0.107, 'eval_samples_per_second': 766.139, 'eval_steps_per_second': 9.343, 'epoch': 30.0}\n"
     ]
    },
    {
     "name": "stderr",
     "output_type": "stream",
     "text": [
      "Model weights saved in ./new_distilbert_clf_dietary/results/tmp-checkpoint-30/model.safetensors\n",
      "\n",
      "\n",
      "Training completed. Do not forget to share your model on huggingface.co/models =)\n",
      "\n",
      "\n",
      "Loading best model from ./new_distilbert_clf_dietary/results/checkpoint-15 (score: 0.5089586973190308).\n"
     ]
    },
    {
     "name": "stdout",
     "output_type": "stream",
     "text": [
      "{'train_runtime': 88.5411, 'train_samples_per_second': 110.796, 'train_steps_per_second': 0.339, 'train_loss': 0.334347415715456, 'epoch': 30.0}\n"
     ]
    },
    {
     "data": {
      "text/plain": [
       "TrainOutput(global_step=30, training_loss=0.334347415715456, metrics={'train_runtime': 88.5411, 'train_samples_per_second': 110.796, 'train_steps_per_second': 0.339, 'train_loss': 0.334347415715456, 'epoch': 30.0})"
      ]
     },
     "execution_count": 38,
     "metadata": {},
     "output_type": "execute_result"
    }
   ],
   "source": [
    "trainer.train()"
   ]
  },
  {
   "cell_type": "code",
   "execution_count": 39,
   "metadata": {},
   "outputs": [
    {
     "name": "stderr",
     "output_type": "stream",
     "text": [
      "The following columns in the evaluation set don't have a corresponding argument in `DistilBertForSequenceClassification.forward` and have been ignored: label_txt, utterance. If label_txt, utterance are not expected by `DistilBertForSequenceClassification.forward`,  you can safely ignore this message.\n",
      "***** Running Evaluation *****\n",
      "  Num examples = 82\n",
      "  Batch size = 1024\n"
     ]
    },
    {
     "data": {
      "application/vnd.jupyter.widget-view+json": {
       "model_id": "49aa60f91f4e48bab00b8877698088ce",
       "version_major": 2,
       "version_minor": 0
      },
      "text/plain": [
       "  0%|          | 0/1 [00:00<?, ?it/s]"
      ]
     },
     "metadata": {},
     "output_type": "display_data"
    },
    {
     "data": {
      "text/plain": [
       "{'eval_loss': 0.5089586973190308,\n",
       " 'eval_accuracy': 0.7926829268292683,\n",
       " 'eval_runtime': 0.269,\n",
       " 'eval_samples_per_second': 304.811,\n",
       " 'eval_steps_per_second': 3.717,\n",
       " 'epoch': 30.0}"
      ]
     },
     "execution_count": 39,
     "metadata": {},
     "output_type": "execute_result"
    }
   ],
   "source": [
    "trainer.evaluate()"
   ]
  },
  {
   "cell_type": "code",
   "execution_count": 40,
   "metadata": {},
   "outputs": [
    {
     "name": "stderr",
     "output_type": "stream",
     "text": [
      "Saving model checkpoint to ./new_distilbert_clf_dietary/results\n",
      "Configuration saved in ./new_distilbert_clf_dietary/results/config.json\n",
      "Model weights saved in ./new_distilbert_clf_dietary/results/model.safetensors\n"
     ]
    }
   ],
   "source": [
    "trainer.save_model()"
   ]
  },
  {
   "cell_type": "code",
   "execution_count": 88,
   "metadata": {},
   "outputs": [
    {
     "name": "stderr",
     "output_type": "stream",
     "text": [
      "loading configuration file new_distilbert_clf_dietary/results/checkpoint-4/config.json\n",
      "Model config DistilBertConfig {\n",
      "  \"_name_or_path\": \"distilbert-base-uncased\",\n",
      "  \"activation\": \"gelu\",\n",
      "  \"architectures\": [\n",
      "    \"DistilBertForSequenceClassification\"\n",
      "  ],\n",
      "  \"attention_dropout\": 0.1,\n",
      "  \"dim\": 768,\n",
      "  \"dropout\": 0.1,\n",
      "  \"hidden_dim\": 3072,\n",
      "  \"id2label\": {\n",
      "    \"0\": \"Veg\",\n",
      "    \"1\": \"Non-Veg\"\n",
      "  },\n",
      "  \"initializer_range\": 0.02,\n",
      "  \"label2id\": null,\n",
      "  \"max_position_embeddings\": 512,\n",
      "  \"model_type\": \"distilbert\",\n",
      "  \"n_heads\": 12,\n",
      "  \"n_layers\": 6,\n",
      "  \"pad_token_id\": 0,\n",
      "  \"problem_type\": \"single_label_classification\",\n",
      "  \"qa_dropout\": 0.1,\n",
      "  \"seq_classif_dropout\": 0.2,\n",
      "  \"sinusoidal_pos_embds\": false,\n",
      "  \"tie_weights_\": true,\n",
      "  \"torch_dtype\": \"float32\",\n",
      "  \"transformers_version\": \"4.38.2\",\n",
      "  \"vocab_size\": 30522\n",
      "}\n",
      "\n",
      "loading weights file new_distilbert_clf_dietary/results/checkpoint-4/model.safetensors\n",
      "All model checkpoint weights were used when initializing DistilBertForSequenceClassification.\n",
      "\n",
      "All the weights of DistilBertForSequenceClassification were initialized from the model checkpoint at new_distilbert_clf_dietary/results/checkpoint-4/.\n",
      "If your task is similar to the task the model of the checkpoint was trained on, you can already use DistilBertForSequenceClassification for predictions without further training.\n"
     ]
    },
    {
     "data": {
      "text/plain": [
       "[{'label': 'Veg', 'score': 0.5775185227394104}]"
      ]
     },
     "execution_count": 88,
     "metadata": {},
     "output_type": "execute_result"
    }
   ],
   "source": [
    "pipe = pipeline(\"text-classification\", DistilBertForSequenceClassification.from_pretrained('new_distilbert_clf_dietary/results/checkpoint-'+str(best_version)+'/'), tokenizer=tokenizer)\n",
    "pipe(\"Tomato Pachadi is a traditional South Indian side dish made with ripe tomatoes, yogurt, and coconut. It has a tangy and spicy flavor with a hint of sweetness from the tomatoes. This dish is often served as a condiment with rice and adds a refreshing element to the meal. The tempering of mustard seeds and curry leaves enhances the overall taste of the dish.\")"
   ]
  },
  {
   "cell_type": "code",
   "execution_count": 89,
   "metadata": {},
   "outputs": [
    {
     "data": {
      "text/plain": [
       "[{'label': 'Veg', 'score': 0.5015433430671692}]"
      ]
     },
     "execution_count": 89,
     "metadata": {},
     "output_type": "execute_result"
    }
   ],
   "source": [
    "pipe(\"Masala Dosa is a popular South Indian dish that is cherished for its crispy texture and flavorful filling. This dish consists of a thin, golden-brown crepe made from a batter of fermented rice and lentils, which is spread thinly on a hot griddle to achieve its signature crispiness. The dosa is typically filled with a fragrant and mildly spiced mixture of mashed potatoes, known as 'masala,' along with saut\\u00e9ed onions, mustard seeds, curry leaves, and turmeric. The contrasting textures and flavors of the crispy dosa and the seasoned masala create a delightful experience for the taste buds. Masala Dosa is often served with coconut chutney, a cooling and creamy condiment made from freshly grated coconut, green chilies, and yogurt, as well as a tangy tomato-based dipping sauce called sambar. These accompaniments complement the dosa perfectly, adding freshness, heat, and tanginess to each bite. The dish is a versatile option that can be enjoyed as a hearty breakfast, a satisfying lunch, or even as a light dinner. Masala Dosa is beloved not only in India but also globally, with many restaurants around the world offering their own variations of this classic dish. Its popularity can be attributed to the harmonious blend of textures, flavors, and aromas that make each bite a truly satisfying experience.\")"
   ]
  },
  {
   "cell_type": "code",
   "execution_count": 90,
   "metadata": {},
   "outputs": [
    {
     "data": {
      "text/plain": [
       "[{'label': 'Veg', 'score': 0.5044682025909424}]"
      ]
     },
     "execution_count": 90,
     "metadata": {},
     "output_type": "execute_result"
    }
   ],
   "source": [
    "pipe(\"Baba Ganoush is a Middle Eastern dish made from roasted eggplant, tahini, garlic, lemon juice, and olive oil. This popular spread has a smoky, earthy flavor with a creamy texture, making it a versatile dish that can be enjoyed as a dip, spread, or even a side dish. To prepare baba ganoush, the eggplant is first roasted until the skin is charred and the flesh becomes soft and creamy. The roasted eggplant is then peeled and mashed, mixed with tahini (sesame paste), minced garlic, fresh lemon juice, and a drizzle of olive oil. The flavors are then allowed to meld together, resulting in a rich and flavorful dip. Baba ganoush is typically garnished with a sprinkle of chopped parsley, a drizzle of olive oil, and a sprinkling of sumac or paprika for a pop of color and added flavor. This dish is often served with pita bread, vegetables, or as part of a mezze platter. The creamy texture of baba ganoush pairs perfectly with the crunch of fresh vegetables or the softness of warm pita bread. Its savory, tangy, and slightly smoky flavor profile makes it a crowd-pleaser at gatherings, parties, or as a healthy snack. Baba ganoush is not only delicious but also nutritious, packed with vitamins and minerals from the eggplant and healthy fats from the tahini and olive oil. Whether you are a fan of Mediterranean cuisine or looking to expand your culinary horizons, baba ganoush is a dish that is sure to delight your taste buds with its luxurious flavors and creamy texture.\")"
   ]
  },
  {
   "cell_type": "code",
   "execution_count": 39,
   "metadata": {},
   "outputs": [
    {
     "data": {
      "text/plain": [
       "(82, 3)"
      ]
     },
     "execution_count": 39,
     "metadata": {},
     "output_type": "execute_result"
    }
   ],
   "source": [
    "pred_df = pd.DataFrame(myData['test'], columns=['utterance', 'input_ids', 'attention_mask', 'label_txt', 'label'])\n",
    "pred_df.drop(columns=['input_ids', 'attention_mask'], inplace=True)\n",
    "pred_df.shape"
   ]
  },
  {
   "cell_type": "code",
   "execution_count": 40,
   "metadata": {},
   "outputs": [
    {
     "data": {
      "application/vnd.jupyter.widget-view+json": {
       "model_id": "a977125b332f40f09013d16c2ca8c656",
       "version_major": 2,
       "version_minor": 0
      },
      "text/plain": [
       "  0%|          | 0/30 [00:00<?, ?it/s]"
      ]
     },
     "metadata": {},
     "output_type": "display_data"
    },
    {
     "name": "stderr",
     "output_type": "stream",
     "text": [
      "loading configuration file new_distilbert_clf_dietary/results/checkpoint-1/config.json\n",
      "Model config DistilBertConfig {\n",
      "  \"_name_or_path\": \"distilbert-base-uncased\",\n",
      "  \"activation\": \"gelu\",\n",
      "  \"architectures\": [\n",
      "    \"DistilBertForSequenceClassification\"\n",
      "  ],\n",
      "  \"attention_dropout\": 0.1,\n",
      "  \"dim\": 768,\n",
      "  \"dropout\": 0.1,\n",
      "  \"hidden_dim\": 3072,\n",
      "  \"id2label\": {\n",
      "    \"0\": \"Veg\",\n",
      "    \"1\": \"Non-Veg\"\n",
      "  },\n",
      "  \"initializer_range\": 0.02,\n",
      "  \"label2id\": null,\n",
      "  \"max_position_embeddings\": 512,\n",
      "  \"model_type\": \"distilbert\",\n",
      "  \"n_heads\": 12,\n",
      "  \"n_layers\": 6,\n",
      "  \"pad_token_id\": 0,\n",
      "  \"problem_type\": \"single_label_classification\",\n",
      "  \"qa_dropout\": 0.1,\n",
      "  \"seq_classif_dropout\": 0.2,\n",
      "  \"sinusoidal_pos_embds\": false,\n",
      "  \"tie_weights_\": true,\n",
      "  \"torch_dtype\": \"float32\",\n",
      "  \"transformers_version\": \"4.38.2\",\n",
      "  \"vocab_size\": 30522\n",
      "}\n",
      "\n",
      "loading weights file new_distilbert_clf_dietary/results/checkpoint-1/model.safetensors\n",
      "All model checkpoint weights were used when initializing DistilBertForSequenceClassification.\n",
      "\n",
      "All the weights of DistilBertForSequenceClassification were initialized from the model checkpoint at new_distilbert_clf_dietary/results/checkpoint-1/.\n",
      "If your task is similar to the task the model of the checkpoint was trained on, you can already use DistilBertForSequenceClassification for predictions without further training.\n",
      "loading configuration file new_distilbert_clf_dietary/results/checkpoint-2/config.json\n",
      "Model config DistilBertConfig {\n",
      "  \"_name_or_path\": \"distilbert-base-uncased\",\n",
      "  \"activation\": \"gelu\",\n",
      "  \"architectures\": [\n",
      "    \"DistilBertForSequenceClassification\"\n",
      "  ],\n",
      "  \"attention_dropout\": 0.1,\n",
      "  \"dim\": 768,\n",
      "  \"dropout\": 0.1,\n",
      "  \"hidden_dim\": 3072,\n",
      "  \"id2label\": {\n",
      "    \"0\": \"Veg\",\n",
      "    \"1\": \"Non-Veg\"\n",
      "  },\n",
      "  \"initializer_range\": 0.02,\n",
      "  \"label2id\": null,\n",
      "  \"max_position_embeddings\": 512,\n",
      "  \"model_type\": \"distilbert\",\n",
      "  \"n_heads\": 12,\n",
      "  \"n_layers\": 6,\n",
      "  \"pad_token_id\": 0,\n",
      "  \"problem_type\": \"single_label_classification\",\n",
      "  \"qa_dropout\": 0.1,\n",
      "  \"seq_classif_dropout\": 0.2,\n",
      "  \"sinusoidal_pos_embds\": false,\n",
      "  \"tie_weights_\": true,\n",
      "  \"torch_dtype\": \"float32\",\n",
      "  \"transformers_version\": \"4.38.2\",\n",
      "  \"vocab_size\": 30522\n",
      "}\n",
      "\n",
      "loading weights file new_distilbert_clf_dietary/results/checkpoint-2/model.safetensors\n",
      "All model checkpoint weights were used when initializing DistilBertForSequenceClassification.\n",
      "\n",
      "All the weights of DistilBertForSequenceClassification were initialized from the model checkpoint at new_distilbert_clf_dietary/results/checkpoint-2/.\n",
      "If your task is similar to the task the model of the checkpoint was trained on, you can already use DistilBertForSequenceClassification for predictions without further training.\n",
      "loading configuration file new_distilbert_clf_dietary/results/checkpoint-3/config.json\n",
      "Model config DistilBertConfig {\n",
      "  \"_name_or_path\": \"distilbert-base-uncased\",\n",
      "  \"activation\": \"gelu\",\n",
      "  \"architectures\": [\n",
      "    \"DistilBertForSequenceClassification\"\n",
      "  ],\n",
      "  \"attention_dropout\": 0.1,\n",
      "  \"dim\": 768,\n",
      "  \"dropout\": 0.1,\n",
      "  \"hidden_dim\": 3072,\n",
      "  \"id2label\": {\n",
      "    \"0\": \"Veg\",\n",
      "    \"1\": \"Non-Veg\"\n",
      "  },\n",
      "  \"initializer_range\": 0.02,\n",
      "  \"label2id\": null,\n",
      "  \"max_position_embeddings\": 512,\n",
      "  \"model_type\": \"distilbert\",\n",
      "  \"n_heads\": 12,\n",
      "  \"n_layers\": 6,\n",
      "  \"pad_token_id\": 0,\n",
      "  \"problem_type\": \"single_label_classification\",\n",
      "  \"qa_dropout\": 0.1,\n",
      "  \"seq_classif_dropout\": 0.2,\n",
      "  \"sinusoidal_pos_embds\": false,\n",
      "  \"tie_weights_\": true,\n",
      "  \"torch_dtype\": \"float32\",\n",
      "  \"transformers_version\": \"4.38.2\",\n",
      "  \"vocab_size\": 30522\n",
      "}\n",
      "\n",
      "loading weights file new_distilbert_clf_dietary/results/checkpoint-3/model.safetensors\n",
      "All model checkpoint weights were used when initializing DistilBertForSequenceClassification.\n",
      "\n",
      "All the weights of DistilBertForSequenceClassification were initialized from the model checkpoint at new_distilbert_clf_dietary/results/checkpoint-3/.\n",
      "If your task is similar to the task the model of the checkpoint was trained on, you can already use DistilBertForSequenceClassification for predictions without further training.\n",
      "loading configuration file new_distilbert_clf_dietary/results/checkpoint-4/config.json\n",
      "Model config DistilBertConfig {\n",
      "  \"_name_or_path\": \"distilbert-base-uncased\",\n",
      "  \"activation\": \"gelu\",\n",
      "  \"architectures\": [\n",
      "    \"DistilBertForSequenceClassification\"\n",
      "  ],\n",
      "  \"attention_dropout\": 0.1,\n",
      "  \"dim\": 768,\n",
      "  \"dropout\": 0.1,\n",
      "  \"hidden_dim\": 3072,\n",
      "  \"id2label\": {\n",
      "    \"0\": \"Veg\",\n",
      "    \"1\": \"Non-Veg\"\n",
      "  },\n",
      "  \"initializer_range\": 0.02,\n",
      "  \"label2id\": null,\n",
      "  \"max_position_embeddings\": 512,\n",
      "  \"model_type\": \"distilbert\",\n",
      "  \"n_heads\": 12,\n",
      "  \"n_layers\": 6,\n",
      "  \"pad_token_id\": 0,\n",
      "  \"problem_type\": \"single_label_classification\",\n",
      "  \"qa_dropout\": 0.1,\n",
      "  \"seq_classif_dropout\": 0.2,\n",
      "  \"sinusoidal_pos_embds\": false,\n",
      "  \"tie_weights_\": true,\n",
      "  \"torch_dtype\": \"float32\",\n",
      "  \"transformers_version\": \"4.38.2\",\n",
      "  \"vocab_size\": 30522\n",
      "}\n",
      "\n",
      "loading weights file new_distilbert_clf_dietary/results/checkpoint-4/model.safetensors\n",
      "All model checkpoint weights were used when initializing DistilBertForSequenceClassification.\n",
      "\n",
      "All the weights of DistilBertForSequenceClassification were initialized from the model checkpoint at new_distilbert_clf_dietary/results/checkpoint-4/.\n",
      "If your task is similar to the task the model of the checkpoint was trained on, you can already use DistilBertForSequenceClassification for predictions without further training.\n",
      "loading configuration file new_distilbert_clf_dietary/results/checkpoint-5/config.json\n",
      "Model config DistilBertConfig {\n",
      "  \"_name_or_path\": \"distilbert-base-uncased\",\n",
      "  \"activation\": \"gelu\",\n",
      "  \"architectures\": [\n",
      "    \"DistilBertForSequenceClassification\"\n",
      "  ],\n",
      "  \"attention_dropout\": 0.1,\n",
      "  \"dim\": 768,\n",
      "  \"dropout\": 0.1,\n",
      "  \"hidden_dim\": 3072,\n",
      "  \"id2label\": {\n",
      "    \"0\": \"Veg\",\n",
      "    \"1\": \"Non-Veg\"\n",
      "  },\n",
      "  \"initializer_range\": 0.02,\n",
      "  \"label2id\": null,\n",
      "  \"max_position_embeddings\": 512,\n",
      "  \"model_type\": \"distilbert\",\n",
      "  \"n_heads\": 12,\n",
      "  \"n_layers\": 6,\n",
      "  \"pad_token_id\": 0,\n",
      "  \"problem_type\": \"single_label_classification\",\n",
      "  \"qa_dropout\": 0.1,\n",
      "  \"seq_classif_dropout\": 0.2,\n",
      "  \"sinusoidal_pos_embds\": false,\n",
      "  \"tie_weights_\": true,\n",
      "  \"torch_dtype\": \"float32\",\n",
      "  \"transformers_version\": \"4.38.2\",\n",
      "  \"vocab_size\": 30522\n",
      "}\n",
      "\n",
      "loading weights file new_distilbert_clf_dietary/results/checkpoint-5/model.safetensors\n",
      "All model checkpoint weights were used when initializing DistilBertForSequenceClassification.\n",
      "\n",
      "All the weights of DistilBertForSequenceClassification were initialized from the model checkpoint at new_distilbert_clf_dietary/results/checkpoint-5/.\n",
      "If your task is similar to the task the model of the checkpoint was trained on, you can already use DistilBertForSequenceClassification for predictions without further training.\n",
      "loading configuration file new_distilbert_clf_dietary/results/checkpoint-6/config.json\n",
      "Model config DistilBertConfig {\n",
      "  \"_name_or_path\": \"distilbert-base-uncased\",\n",
      "  \"activation\": \"gelu\",\n",
      "  \"architectures\": [\n",
      "    \"DistilBertForSequenceClassification\"\n",
      "  ],\n",
      "  \"attention_dropout\": 0.1,\n",
      "  \"dim\": 768,\n",
      "  \"dropout\": 0.1,\n",
      "  \"hidden_dim\": 3072,\n",
      "  \"id2label\": {\n",
      "    \"0\": \"Veg\",\n",
      "    \"1\": \"Non-Veg\"\n",
      "  },\n",
      "  \"initializer_range\": 0.02,\n",
      "  \"label2id\": null,\n",
      "  \"max_position_embeddings\": 512,\n",
      "  \"model_type\": \"distilbert\",\n",
      "  \"n_heads\": 12,\n",
      "  \"n_layers\": 6,\n",
      "  \"pad_token_id\": 0,\n",
      "  \"problem_type\": \"single_label_classification\",\n",
      "  \"qa_dropout\": 0.1,\n",
      "  \"seq_classif_dropout\": 0.2,\n",
      "  \"sinusoidal_pos_embds\": false,\n",
      "  \"tie_weights_\": true,\n",
      "  \"torch_dtype\": \"float32\",\n",
      "  \"transformers_version\": \"4.38.2\",\n",
      "  \"vocab_size\": 30522\n",
      "}\n",
      "\n",
      "loading weights file new_distilbert_clf_dietary/results/checkpoint-6/model.safetensors\n",
      "All model checkpoint weights were used when initializing DistilBertForSequenceClassification.\n",
      "\n",
      "All the weights of DistilBertForSequenceClassification were initialized from the model checkpoint at new_distilbert_clf_dietary/results/checkpoint-6/.\n",
      "If your task is similar to the task the model of the checkpoint was trained on, you can already use DistilBertForSequenceClassification for predictions without further training.\n",
      "loading configuration file new_distilbert_clf_dietary/results/checkpoint-7/config.json\n",
      "Model config DistilBertConfig {\n",
      "  \"_name_or_path\": \"distilbert-base-uncased\",\n",
      "  \"activation\": \"gelu\",\n",
      "  \"architectures\": [\n",
      "    \"DistilBertForSequenceClassification\"\n",
      "  ],\n",
      "  \"attention_dropout\": 0.1,\n",
      "  \"dim\": 768,\n",
      "  \"dropout\": 0.1,\n",
      "  \"hidden_dim\": 3072,\n",
      "  \"id2label\": {\n",
      "    \"0\": \"Veg\",\n",
      "    \"1\": \"Non-Veg\"\n",
      "  },\n",
      "  \"initializer_range\": 0.02,\n",
      "  \"label2id\": null,\n",
      "  \"max_position_embeddings\": 512,\n",
      "  \"model_type\": \"distilbert\",\n",
      "  \"n_heads\": 12,\n",
      "  \"n_layers\": 6,\n",
      "  \"pad_token_id\": 0,\n",
      "  \"problem_type\": \"single_label_classification\",\n",
      "  \"qa_dropout\": 0.1,\n",
      "  \"seq_classif_dropout\": 0.2,\n",
      "  \"sinusoidal_pos_embds\": false,\n",
      "  \"tie_weights_\": true,\n",
      "  \"torch_dtype\": \"float32\",\n",
      "  \"transformers_version\": \"4.38.2\",\n",
      "  \"vocab_size\": 30522\n",
      "}\n",
      "\n",
      "loading weights file new_distilbert_clf_dietary/results/checkpoint-7/model.safetensors\n",
      "All model checkpoint weights were used when initializing DistilBertForSequenceClassification.\n",
      "\n",
      "All the weights of DistilBertForSequenceClassification were initialized from the model checkpoint at new_distilbert_clf_dietary/results/checkpoint-7/.\n",
      "If your task is similar to the task the model of the checkpoint was trained on, you can already use DistilBertForSequenceClassification for predictions without further training.\n",
      "loading configuration file new_distilbert_clf_dietary/results/checkpoint-8/config.json\n",
      "Model config DistilBertConfig {\n",
      "  \"_name_or_path\": \"distilbert-base-uncased\",\n",
      "  \"activation\": \"gelu\",\n",
      "  \"architectures\": [\n",
      "    \"DistilBertForSequenceClassification\"\n",
      "  ],\n",
      "  \"attention_dropout\": 0.1,\n",
      "  \"dim\": 768,\n",
      "  \"dropout\": 0.1,\n",
      "  \"hidden_dim\": 3072,\n",
      "  \"id2label\": {\n",
      "    \"0\": \"Veg\",\n",
      "    \"1\": \"Non-Veg\"\n",
      "  },\n",
      "  \"initializer_range\": 0.02,\n",
      "  \"label2id\": null,\n",
      "  \"max_position_embeddings\": 512,\n",
      "  \"model_type\": \"distilbert\",\n",
      "  \"n_heads\": 12,\n",
      "  \"n_layers\": 6,\n",
      "  \"pad_token_id\": 0,\n",
      "  \"problem_type\": \"single_label_classification\",\n",
      "  \"qa_dropout\": 0.1,\n",
      "  \"seq_classif_dropout\": 0.2,\n",
      "  \"sinusoidal_pos_embds\": false,\n",
      "  \"tie_weights_\": true,\n",
      "  \"torch_dtype\": \"float32\",\n",
      "  \"transformers_version\": \"4.38.2\",\n",
      "  \"vocab_size\": 30522\n",
      "}\n",
      "\n",
      "loading weights file new_distilbert_clf_dietary/results/checkpoint-8/model.safetensors\n",
      "All model checkpoint weights were used when initializing DistilBertForSequenceClassification.\n",
      "\n",
      "All the weights of DistilBertForSequenceClassification were initialized from the model checkpoint at new_distilbert_clf_dietary/results/checkpoint-8/.\n",
      "If your task is similar to the task the model of the checkpoint was trained on, you can already use DistilBertForSequenceClassification for predictions without further training.\n",
      "loading configuration file new_distilbert_clf_dietary/results/checkpoint-9/config.json\n",
      "Model config DistilBertConfig {\n",
      "  \"_name_or_path\": \"distilbert-base-uncased\",\n",
      "  \"activation\": \"gelu\",\n",
      "  \"architectures\": [\n",
      "    \"DistilBertForSequenceClassification\"\n",
      "  ],\n",
      "  \"attention_dropout\": 0.1,\n",
      "  \"dim\": 768,\n",
      "  \"dropout\": 0.1,\n",
      "  \"hidden_dim\": 3072,\n",
      "  \"id2label\": {\n",
      "    \"0\": \"Veg\",\n",
      "    \"1\": \"Non-Veg\"\n",
      "  },\n",
      "  \"initializer_range\": 0.02,\n",
      "  \"label2id\": null,\n",
      "  \"max_position_embeddings\": 512,\n",
      "  \"model_type\": \"distilbert\",\n",
      "  \"n_heads\": 12,\n",
      "  \"n_layers\": 6,\n",
      "  \"pad_token_id\": 0,\n",
      "  \"problem_type\": \"single_label_classification\",\n",
      "  \"qa_dropout\": 0.1,\n",
      "  \"seq_classif_dropout\": 0.2,\n",
      "  \"sinusoidal_pos_embds\": false,\n",
      "  \"tie_weights_\": true,\n",
      "  \"torch_dtype\": \"float32\",\n",
      "  \"transformers_version\": \"4.38.2\",\n",
      "  \"vocab_size\": 30522\n",
      "}\n",
      "\n",
      "loading weights file new_distilbert_clf_dietary/results/checkpoint-9/model.safetensors\n",
      "All model checkpoint weights were used when initializing DistilBertForSequenceClassification.\n",
      "\n",
      "All the weights of DistilBertForSequenceClassification were initialized from the model checkpoint at new_distilbert_clf_dietary/results/checkpoint-9/.\n",
      "If your task is similar to the task the model of the checkpoint was trained on, you can already use DistilBertForSequenceClassification for predictions without further training.\n",
      "loading configuration file new_distilbert_clf_dietary/results/checkpoint-10/config.json\n",
      "Model config DistilBertConfig {\n",
      "  \"_name_or_path\": \"distilbert-base-uncased\",\n",
      "  \"activation\": \"gelu\",\n",
      "  \"architectures\": [\n",
      "    \"DistilBertForSequenceClassification\"\n",
      "  ],\n",
      "  \"attention_dropout\": 0.1,\n",
      "  \"dim\": 768,\n",
      "  \"dropout\": 0.1,\n",
      "  \"hidden_dim\": 3072,\n",
      "  \"id2label\": {\n",
      "    \"0\": \"Veg\",\n",
      "    \"1\": \"Non-Veg\"\n",
      "  },\n",
      "  \"initializer_range\": 0.02,\n",
      "  \"label2id\": null,\n",
      "  \"max_position_embeddings\": 512,\n",
      "  \"model_type\": \"distilbert\",\n",
      "  \"n_heads\": 12,\n",
      "  \"n_layers\": 6,\n",
      "  \"pad_token_id\": 0,\n",
      "  \"problem_type\": \"single_label_classification\",\n",
      "  \"qa_dropout\": 0.1,\n",
      "  \"seq_classif_dropout\": 0.2,\n",
      "  \"sinusoidal_pos_embds\": false,\n",
      "  \"tie_weights_\": true,\n",
      "  \"torch_dtype\": \"float32\",\n",
      "  \"transformers_version\": \"4.38.2\",\n",
      "  \"vocab_size\": 30522\n",
      "}\n",
      "\n",
      "loading weights file new_distilbert_clf_dietary/results/checkpoint-10/model.safetensors\n",
      "All model checkpoint weights were used when initializing DistilBertForSequenceClassification.\n",
      "\n",
      "All the weights of DistilBertForSequenceClassification were initialized from the model checkpoint at new_distilbert_clf_dietary/results/checkpoint-10/.\n",
      "If your task is similar to the task the model of the checkpoint was trained on, you can already use DistilBertForSequenceClassification for predictions without further training.\n",
      "loading configuration file new_distilbert_clf_dietary/results/checkpoint-11/config.json\n",
      "Model config DistilBertConfig {\n",
      "  \"_name_or_path\": \"distilbert-base-uncased\",\n",
      "  \"activation\": \"gelu\",\n",
      "  \"architectures\": [\n",
      "    \"DistilBertForSequenceClassification\"\n",
      "  ],\n",
      "  \"attention_dropout\": 0.1,\n",
      "  \"dim\": 768,\n",
      "  \"dropout\": 0.1,\n",
      "  \"hidden_dim\": 3072,\n",
      "  \"id2label\": {\n",
      "    \"0\": \"Veg\",\n",
      "    \"1\": \"Non-Veg\"\n",
      "  },\n",
      "  \"initializer_range\": 0.02,\n",
      "  \"label2id\": null,\n",
      "  \"max_position_embeddings\": 512,\n",
      "  \"model_type\": \"distilbert\",\n",
      "  \"n_heads\": 12,\n",
      "  \"n_layers\": 6,\n",
      "  \"pad_token_id\": 0,\n",
      "  \"problem_type\": \"single_label_classification\",\n",
      "  \"qa_dropout\": 0.1,\n",
      "  \"seq_classif_dropout\": 0.2,\n",
      "  \"sinusoidal_pos_embds\": false,\n",
      "  \"tie_weights_\": true,\n",
      "  \"torch_dtype\": \"float32\",\n",
      "  \"transformers_version\": \"4.38.2\",\n",
      "  \"vocab_size\": 30522\n",
      "}\n",
      "\n",
      "loading weights file new_distilbert_clf_dietary/results/checkpoint-11/model.safetensors\n",
      "All model checkpoint weights were used when initializing DistilBertForSequenceClassification.\n",
      "\n",
      "All the weights of DistilBertForSequenceClassification were initialized from the model checkpoint at new_distilbert_clf_dietary/results/checkpoint-11/.\n",
      "If your task is similar to the task the model of the checkpoint was trained on, you can already use DistilBertForSequenceClassification for predictions without further training.\n",
      "loading configuration file new_distilbert_clf_dietary/results/checkpoint-12/config.json\n",
      "Model config DistilBertConfig {\n",
      "  \"_name_or_path\": \"distilbert-base-uncased\",\n",
      "  \"activation\": \"gelu\",\n",
      "  \"architectures\": [\n",
      "    \"DistilBertForSequenceClassification\"\n",
      "  ],\n",
      "  \"attention_dropout\": 0.1,\n",
      "  \"dim\": 768,\n",
      "  \"dropout\": 0.1,\n",
      "  \"hidden_dim\": 3072,\n",
      "  \"id2label\": {\n",
      "    \"0\": \"Veg\",\n",
      "    \"1\": \"Non-Veg\"\n",
      "  },\n",
      "  \"initializer_range\": 0.02,\n",
      "  \"label2id\": null,\n",
      "  \"max_position_embeddings\": 512,\n",
      "  \"model_type\": \"distilbert\",\n",
      "  \"n_heads\": 12,\n",
      "  \"n_layers\": 6,\n",
      "  \"pad_token_id\": 0,\n",
      "  \"problem_type\": \"single_label_classification\",\n",
      "  \"qa_dropout\": 0.1,\n",
      "  \"seq_classif_dropout\": 0.2,\n",
      "  \"sinusoidal_pos_embds\": false,\n",
      "  \"tie_weights_\": true,\n",
      "  \"torch_dtype\": \"float32\",\n",
      "  \"transformers_version\": \"4.38.2\",\n",
      "  \"vocab_size\": 30522\n",
      "}\n",
      "\n",
      "loading weights file new_distilbert_clf_dietary/results/checkpoint-12/model.safetensors\n",
      "All model checkpoint weights were used when initializing DistilBertForSequenceClassification.\n",
      "\n",
      "All the weights of DistilBertForSequenceClassification were initialized from the model checkpoint at new_distilbert_clf_dietary/results/checkpoint-12/.\n",
      "If your task is similar to the task the model of the checkpoint was trained on, you can already use DistilBertForSequenceClassification for predictions without further training.\n",
      "loading configuration file new_distilbert_clf_dietary/results/checkpoint-13/config.json\n",
      "Model config DistilBertConfig {\n",
      "  \"_name_or_path\": \"distilbert-base-uncased\",\n",
      "  \"activation\": \"gelu\",\n",
      "  \"architectures\": [\n",
      "    \"DistilBertForSequenceClassification\"\n",
      "  ],\n",
      "  \"attention_dropout\": 0.1,\n",
      "  \"dim\": 768,\n",
      "  \"dropout\": 0.1,\n",
      "  \"hidden_dim\": 3072,\n",
      "  \"id2label\": {\n",
      "    \"0\": \"Veg\",\n",
      "    \"1\": \"Non-Veg\"\n",
      "  },\n",
      "  \"initializer_range\": 0.02,\n",
      "  \"label2id\": null,\n",
      "  \"max_position_embeddings\": 512,\n",
      "  \"model_type\": \"distilbert\",\n",
      "  \"n_heads\": 12,\n",
      "  \"n_layers\": 6,\n",
      "  \"pad_token_id\": 0,\n",
      "  \"problem_type\": \"single_label_classification\",\n",
      "  \"qa_dropout\": 0.1,\n",
      "  \"seq_classif_dropout\": 0.2,\n",
      "  \"sinusoidal_pos_embds\": false,\n",
      "  \"tie_weights_\": true,\n",
      "  \"torch_dtype\": \"float32\",\n",
      "  \"transformers_version\": \"4.38.2\",\n",
      "  \"vocab_size\": 30522\n",
      "}\n",
      "\n",
      "loading weights file new_distilbert_clf_dietary/results/checkpoint-13/model.safetensors\n",
      "All model checkpoint weights were used when initializing DistilBertForSequenceClassification.\n",
      "\n",
      "All the weights of DistilBertForSequenceClassification were initialized from the model checkpoint at new_distilbert_clf_dietary/results/checkpoint-13/.\n",
      "If your task is similar to the task the model of the checkpoint was trained on, you can already use DistilBertForSequenceClassification for predictions without further training.\n",
      "loading configuration file new_distilbert_clf_dietary/results/checkpoint-14/config.json\n",
      "Model config DistilBertConfig {\n",
      "  \"_name_or_path\": \"distilbert-base-uncased\",\n",
      "  \"activation\": \"gelu\",\n",
      "  \"architectures\": [\n",
      "    \"DistilBertForSequenceClassification\"\n",
      "  ],\n",
      "  \"attention_dropout\": 0.1,\n",
      "  \"dim\": 768,\n",
      "  \"dropout\": 0.1,\n",
      "  \"hidden_dim\": 3072,\n",
      "  \"id2label\": {\n",
      "    \"0\": \"Veg\",\n",
      "    \"1\": \"Non-Veg\"\n",
      "  },\n",
      "  \"initializer_range\": 0.02,\n",
      "  \"label2id\": null,\n",
      "  \"max_position_embeddings\": 512,\n",
      "  \"model_type\": \"distilbert\",\n",
      "  \"n_heads\": 12,\n",
      "  \"n_layers\": 6,\n",
      "  \"pad_token_id\": 0,\n",
      "  \"problem_type\": \"single_label_classification\",\n",
      "  \"qa_dropout\": 0.1,\n",
      "  \"seq_classif_dropout\": 0.2,\n",
      "  \"sinusoidal_pos_embds\": false,\n",
      "  \"tie_weights_\": true,\n",
      "  \"torch_dtype\": \"float32\",\n",
      "  \"transformers_version\": \"4.38.2\",\n",
      "  \"vocab_size\": 30522\n",
      "}\n",
      "\n",
      "loading weights file new_distilbert_clf_dietary/results/checkpoint-14/model.safetensors\n",
      "All model checkpoint weights were used when initializing DistilBertForSequenceClassification.\n",
      "\n",
      "All the weights of DistilBertForSequenceClassification were initialized from the model checkpoint at new_distilbert_clf_dietary/results/checkpoint-14/.\n",
      "If your task is similar to the task the model of the checkpoint was trained on, you can already use DistilBertForSequenceClassification for predictions without further training.\n",
      "loading configuration file new_distilbert_clf_dietary/results/checkpoint-15/config.json\n",
      "Model config DistilBertConfig {\n",
      "  \"_name_or_path\": \"distilbert-base-uncased\",\n",
      "  \"activation\": \"gelu\",\n",
      "  \"architectures\": [\n",
      "    \"DistilBertForSequenceClassification\"\n",
      "  ],\n",
      "  \"attention_dropout\": 0.1,\n",
      "  \"dim\": 768,\n",
      "  \"dropout\": 0.1,\n",
      "  \"hidden_dim\": 3072,\n",
      "  \"id2label\": {\n",
      "    \"0\": \"Veg\",\n",
      "    \"1\": \"Non-Veg\"\n",
      "  },\n",
      "  \"initializer_range\": 0.02,\n",
      "  \"label2id\": null,\n",
      "  \"max_position_embeddings\": 512,\n",
      "  \"model_type\": \"distilbert\",\n",
      "  \"n_heads\": 12,\n",
      "  \"n_layers\": 6,\n",
      "  \"pad_token_id\": 0,\n",
      "  \"problem_type\": \"single_label_classification\",\n",
      "  \"qa_dropout\": 0.1,\n",
      "  \"seq_classif_dropout\": 0.2,\n",
      "  \"sinusoidal_pos_embds\": false,\n",
      "  \"tie_weights_\": true,\n",
      "  \"torch_dtype\": \"float32\",\n",
      "  \"transformers_version\": \"4.38.2\",\n",
      "  \"vocab_size\": 30522\n",
      "}\n",
      "\n",
      "loading weights file new_distilbert_clf_dietary/results/checkpoint-15/model.safetensors\n",
      "All model checkpoint weights were used when initializing DistilBertForSequenceClassification.\n",
      "\n",
      "All the weights of DistilBertForSequenceClassification were initialized from the model checkpoint at new_distilbert_clf_dietary/results/checkpoint-15/.\n",
      "If your task is similar to the task the model of the checkpoint was trained on, you can already use DistilBertForSequenceClassification for predictions without further training.\n",
      "loading configuration file new_distilbert_clf_dietary/results/checkpoint-16/config.json\n",
      "Model config DistilBertConfig {\n",
      "  \"_name_or_path\": \"distilbert-base-uncased\",\n",
      "  \"activation\": \"gelu\",\n",
      "  \"architectures\": [\n",
      "    \"DistilBertForSequenceClassification\"\n",
      "  ],\n",
      "  \"attention_dropout\": 0.1,\n",
      "  \"dim\": 768,\n",
      "  \"dropout\": 0.1,\n",
      "  \"hidden_dim\": 3072,\n",
      "  \"id2label\": {\n",
      "    \"0\": \"Veg\",\n",
      "    \"1\": \"Non-Veg\"\n",
      "  },\n",
      "  \"initializer_range\": 0.02,\n",
      "  \"label2id\": null,\n",
      "  \"max_position_embeddings\": 512,\n",
      "  \"model_type\": \"distilbert\",\n",
      "  \"n_heads\": 12,\n",
      "  \"n_layers\": 6,\n",
      "  \"pad_token_id\": 0,\n",
      "  \"problem_type\": \"single_label_classification\",\n",
      "  \"qa_dropout\": 0.1,\n",
      "  \"seq_classif_dropout\": 0.2,\n",
      "  \"sinusoidal_pos_embds\": false,\n",
      "  \"tie_weights_\": true,\n",
      "  \"torch_dtype\": \"float32\",\n",
      "  \"transformers_version\": \"4.38.2\",\n",
      "  \"vocab_size\": 30522\n",
      "}\n",
      "\n",
      "loading weights file new_distilbert_clf_dietary/results/checkpoint-16/model.safetensors\n",
      "All model checkpoint weights were used when initializing DistilBertForSequenceClassification.\n",
      "\n",
      "All the weights of DistilBertForSequenceClassification were initialized from the model checkpoint at new_distilbert_clf_dietary/results/checkpoint-16/.\n",
      "If your task is similar to the task the model of the checkpoint was trained on, you can already use DistilBertForSequenceClassification for predictions without further training.\n",
      "loading configuration file new_distilbert_clf_dietary/results/checkpoint-17/config.json\n",
      "Model config DistilBertConfig {\n",
      "  \"_name_or_path\": \"distilbert-base-uncased\",\n",
      "  \"activation\": \"gelu\",\n",
      "  \"architectures\": [\n",
      "    \"DistilBertForSequenceClassification\"\n",
      "  ],\n",
      "  \"attention_dropout\": 0.1,\n",
      "  \"dim\": 768,\n",
      "  \"dropout\": 0.1,\n",
      "  \"hidden_dim\": 3072,\n",
      "  \"id2label\": {\n",
      "    \"0\": \"Veg\",\n",
      "    \"1\": \"Non-Veg\"\n",
      "  },\n",
      "  \"initializer_range\": 0.02,\n",
      "  \"label2id\": null,\n",
      "  \"max_position_embeddings\": 512,\n",
      "  \"model_type\": \"distilbert\",\n",
      "  \"n_heads\": 12,\n",
      "  \"n_layers\": 6,\n",
      "  \"pad_token_id\": 0,\n",
      "  \"problem_type\": \"single_label_classification\",\n",
      "  \"qa_dropout\": 0.1,\n",
      "  \"seq_classif_dropout\": 0.2,\n",
      "  \"sinusoidal_pos_embds\": false,\n",
      "  \"tie_weights_\": true,\n",
      "  \"torch_dtype\": \"float32\",\n",
      "  \"transformers_version\": \"4.38.2\",\n",
      "  \"vocab_size\": 30522\n",
      "}\n",
      "\n",
      "loading weights file new_distilbert_clf_dietary/results/checkpoint-17/model.safetensors\n",
      "All model checkpoint weights were used when initializing DistilBertForSequenceClassification.\n",
      "\n",
      "All the weights of DistilBertForSequenceClassification were initialized from the model checkpoint at new_distilbert_clf_dietary/results/checkpoint-17/.\n",
      "If your task is similar to the task the model of the checkpoint was trained on, you can already use DistilBertForSequenceClassification for predictions without further training.\n",
      "loading configuration file new_distilbert_clf_dietary/results/checkpoint-18/config.json\n",
      "Model config DistilBertConfig {\n",
      "  \"_name_or_path\": \"distilbert-base-uncased\",\n",
      "  \"activation\": \"gelu\",\n",
      "  \"architectures\": [\n",
      "    \"DistilBertForSequenceClassification\"\n",
      "  ],\n",
      "  \"attention_dropout\": 0.1,\n",
      "  \"dim\": 768,\n",
      "  \"dropout\": 0.1,\n",
      "  \"hidden_dim\": 3072,\n",
      "  \"id2label\": {\n",
      "    \"0\": \"Veg\",\n",
      "    \"1\": \"Non-Veg\"\n",
      "  },\n",
      "  \"initializer_range\": 0.02,\n",
      "  \"label2id\": null,\n",
      "  \"max_position_embeddings\": 512,\n",
      "  \"model_type\": \"distilbert\",\n",
      "  \"n_heads\": 12,\n",
      "  \"n_layers\": 6,\n",
      "  \"pad_token_id\": 0,\n",
      "  \"problem_type\": \"single_label_classification\",\n",
      "  \"qa_dropout\": 0.1,\n",
      "  \"seq_classif_dropout\": 0.2,\n",
      "  \"sinusoidal_pos_embds\": false,\n",
      "  \"tie_weights_\": true,\n",
      "  \"torch_dtype\": \"float32\",\n",
      "  \"transformers_version\": \"4.38.2\",\n",
      "  \"vocab_size\": 30522\n",
      "}\n",
      "\n",
      "loading weights file new_distilbert_clf_dietary/results/checkpoint-18/model.safetensors\n",
      "All model checkpoint weights were used when initializing DistilBertForSequenceClassification.\n",
      "\n",
      "All the weights of DistilBertForSequenceClassification were initialized from the model checkpoint at new_distilbert_clf_dietary/results/checkpoint-18/.\n",
      "If your task is similar to the task the model of the checkpoint was trained on, you can already use DistilBertForSequenceClassification for predictions without further training.\n",
      "loading configuration file new_distilbert_clf_dietary/results/checkpoint-19/config.json\n",
      "Model config DistilBertConfig {\n",
      "  \"_name_or_path\": \"distilbert-base-uncased\",\n",
      "  \"activation\": \"gelu\",\n",
      "  \"architectures\": [\n",
      "    \"DistilBertForSequenceClassification\"\n",
      "  ],\n",
      "  \"attention_dropout\": 0.1,\n",
      "  \"dim\": 768,\n",
      "  \"dropout\": 0.1,\n",
      "  \"hidden_dim\": 3072,\n",
      "  \"id2label\": {\n",
      "    \"0\": \"Veg\",\n",
      "    \"1\": \"Non-Veg\"\n",
      "  },\n",
      "  \"initializer_range\": 0.02,\n",
      "  \"label2id\": null,\n",
      "  \"max_position_embeddings\": 512,\n",
      "  \"model_type\": \"distilbert\",\n",
      "  \"n_heads\": 12,\n",
      "  \"n_layers\": 6,\n",
      "  \"pad_token_id\": 0,\n",
      "  \"problem_type\": \"single_label_classification\",\n",
      "  \"qa_dropout\": 0.1,\n",
      "  \"seq_classif_dropout\": 0.2,\n",
      "  \"sinusoidal_pos_embds\": false,\n",
      "  \"tie_weights_\": true,\n",
      "  \"torch_dtype\": \"float32\",\n",
      "  \"transformers_version\": \"4.38.2\",\n",
      "  \"vocab_size\": 30522\n",
      "}\n",
      "\n",
      "loading weights file new_distilbert_clf_dietary/results/checkpoint-19/model.safetensors\n",
      "All model checkpoint weights were used when initializing DistilBertForSequenceClassification.\n",
      "\n",
      "All the weights of DistilBertForSequenceClassification were initialized from the model checkpoint at new_distilbert_clf_dietary/results/checkpoint-19/.\n",
      "If your task is similar to the task the model of the checkpoint was trained on, you can already use DistilBertForSequenceClassification for predictions without further training.\n",
      "loading configuration file new_distilbert_clf_dietary/results/checkpoint-20/config.json\n",
      "Model config DistilBertConfig {\n",
      "  \"_name_or_path\": \"distilbert-base-uncased\",\n",
      "  \"activation\": \"gelu\",\n",
      "  \"architectures\": [\n",
      "    \"DistilBertForSequenceClassification\"\n",
      "  ],\n",
      "  \"attention_dropout\": 0.1,\n",
      "  \"dim\": 768,\n",
      "  \"dropout\": 0.1,\n",
      "  \"hidden_dim\": 3072,\n",
      "  \"id2label\": {\n",
      "    \"0\": \"Veg\",\n",
      "    \"1\": \"Non-Veg\"\n",
      "  },\n",
      "  \"initializer_range\": 0.02,\n",
      "  \"label2id\": null,\n",
      "  \"max_position_embeddings\": 512,\n",
      "  \"model_type\": \"distilbert\",\n",
      "  \"n_heads\": 12,\n",
      "  \"n_layers\": 6,\n",
      "  \"pad_token_id\": 0,\n",
      "  \"problem_type\": \"single_label_classification\",\n",
      "  \"qa_dropout\": 0.1,\n",
      "  \"seq_classif_dropout\": 0.2,\n",
      "  \"sinusoidal_pos_embds\": false,\n",
      "  \"tie_weights_\": true,\n",
      "  \"torch_dtype\": \"float32\",\n",
      "  \"transformers_version\": \"4.38.2\",\n",
      "  \"vocab_size\": 30522\n",
      "}\n",
      "\n",
      "loading weights file new_distilbert_clf_dietary/results/checkpoint-20/model.safetensors\n",
      "All model checkpoint weights were used when initializing DistilBertForSequenceClassification.\n",
      "\n",
      "All the weights of DistilBertForSequenceClassification were initialized from the model checkpoint at new_distilbert_clf_dietary/results/checkpoint-20/.\n",
      "If your task is similar to the task the model of the checkpoint was trained on, you can already use DistilBertForSequenceClassification for predictions without further training.\n",
      "loading configuration file new_distilbert_clf_dietary/results/checkpoint-21/config.json\n",
      "Model config DistilBertConfig {\n",
      "  \"_name_or_path\": \"distilbert-base-uncased\",\n",
      "  \"activation\": \"gelu\",\n",
      "  \"architectures\": [\n",
      "    \"DistilBertForSequenceClassification\"\n",
      "  ],\n",
      "  \"attention_dropout\": 0.1,\n",
      "  \"dim\": 768,\n",
      "  \"dropout\": 0.1,\n",
      "  \"hidden_dim\": 3072,\n",
      "  \"id2label\": {\n",
      "    \"0\": \"Veg\",\n",
      "    \"1\": \"Non-Veg\"\n",
      "  },\n",
      "  \"initializer_range\": 0.02,\n",
      "  \"label2id\": null,\n",
      "  \"max_position_embeddings\": 512,\n",
      "  \"model_type\": \"distilbert\",\n",
      "  \"n_heads\": 12,\n",
      "  \"n_layers\": 6,\n",
      "  \"pad_token_id\": 0,\n",
      "  \"problem_type\": \"single_label_classification\",\n",
      "  \"qa_dropout\": 0.1,\n",
      "  \"seq_classif_dropout\": 0.2,\n",
      "  \"sinusoidal_pos_embds\": false,\n",
      "  \"tie_weights_\": true,\n",
      "  \"torch_dtype\": \"float32\",\n",
      "  \"transformers_version\": \"4.38.2\",\n",
      "  \"vocab_size\": 30522\n",
      "}\n",
      "\n",
      "loading weights file new_distilbert_clf_dietary/results/checkpoint-21/model.safetensors\n",
      "All model checkpoint weights were used when initializing DistilBertForSequenceClassification.\n",
      "\n",
      "All the weights of DistilBertForSequenceClassification were initialized from the model checkpoint at new_distilbert_clf_dietary/results/checkpoint-21/.\n",
      "If your task is similar to the task the model of the checkpoint was trained on, you can already use DistilBertForSequenceClassification for predictions without further training.\n",
      "loading configuration file new_distilbert_clf_dietary/results/checkpoint-22/config.json\n",
      "Model config DistilBertConfig {\n",
      "  \"_name_or_path\": \"distilbert-base-uncased\",\n",
      "  \"activation\": \"gelu\",\n",
      "  \"architectures\": [\n",
      "    \"DistilBertForSequenceClassification\"\n",
      "  ],\n",
      "  \"attention_dropout\": 0.1,\n",
      "  \"dim\": 768,\n",
      "  \"dropout\": 0.1,\n",
      "  \"hidden_dim\": 3072,\n",
      "  \"id2label\": {\n",
      "    \"0\": \"Veg\",\n",
      "    \"1\": \"Non-Veg\"\n",
      "  },\n",
      "  \"initializer_range\": 0.02,\n",
      "  \"label2id\": null,\n",
      "  \"max_position_embeddings\": 512,\n",
      "  \"model_type\": \"distilbert\",\n",
      "  \"n_heads\": 12,\n",
      "  \"n_layers\": 6,\n",
      "  \"pad_token_id\": 0,\n",
      "  \"problem_type\": \"single_label_classification\",\n",
      "  \"qa_dropout\": 0.1,\n",
      "  \"seq_classif_dropout\": 0.2,\n",
      "  \"sinusoidal_pos_embds\": false,\n",
      "  \"tie_weights_\": true,\n",
      "  \"torch_dtype\": \"float32\",\n",
      "  \"transformers_version\": \"4.38.2\",\n",
      "  \"vocab_size\": 30522\n",
      "}\n",
      "\n",
      "loading weights file new_distilbert_clf_dietary/results/checkpoint-22/model.safetensors\n",
      "All model checkpoint weights were used when initializing DistilBertForSequenceClassification.\n",
      "\n",
      "All the weights of DistilBertForSequenceClassification were initialized from the model checkpoint at new_distilbert_clf_dietary/results/checkpoint-22/.\n",
      "If your task is similar to the task the model of the checkpoint was trained on, you can already use DistilBertForSequenceClassification for predictions without further training.\n",
      "loading configuration file new_distilbert_clf_dietary/results/checkpoint-23/config.json\n",
      "Model config DistilBertConfig {\n",
      "  \"_name_or_path\": \"distilbert-base-uncased\",\n",
      "  \"activation\": \"gelu\",\n",
      "  \"architectures\": [\n",
      "    \"DistilBertForSequenceClassification\"\n",
      "  ],\n",
      "  \"attention_dropout\": 0.1,\n",
      "  \"dim\": 768,\n",
      "  \"dropout\": 0.1,\n",
      "  \"hidden_dim\": 3072,\n",
      "  \"id2label\": {\n",
      "    \"0\": \"Veg\",\n",
      "    \"1\": \"Non-Veg\"\n",
      "  },\n",
      "  \"initializer_range\": 0.02,\n",
      "  \"label2id\": null,\n",
      "  \"max_position_embeddings\": 512,\n",
      "  \"model_type\": \"distilbert\",\n",
      "  \"n_heads\": 12,\n",
      "  \"n_layers\": 6,\n",
      "  \"pad_token_id\": 0,\n",
      "  \"problem_type\": \"single_label_classification\",\n",
      "  \"qa_dropout\": 0.1,\n",
      "  \"seq_classif_dropout\": 0.2,\n",
      "  \"sinusoidal_pos_embds\": false,\n",
      "  \"tie_weights_\": true,\n",
      "  \"torch_dtype\": \"float32\",\n",
      "  \"transformers_version\": \"4.38.2\",\n",
      "  \"vocab_size\": 30522\n",
      "}\n",
      "\n",
      "loading weights file new_distilbert_clf_dietary/results/checkpoint-23/model.safetensors\n",
      "All model checkpoint weights were used when initializing DistilBertForSequenceClassification.\n",
      "\n",
      "All the weights of DistilBertForSequenceClassification were initialized from the model checkpoint at new_distilbert_clf_dietary/results/checkpoint-23/.\n",
      "If your task is similar to the task the model of the checkpoint was trained on, you can already use DistilBertForSequenceClassification for predictions without further training.\n",
      "loading configuration file new_distilbert_clf_dietary/results/checkpoint-24/config.json\n",
      "Model config DistilBertConfig {\n",
      "  \"_name_or_path\": \"distilbert-base-uncased\",\n",
      "  \"activation\": \"gelu\",\n",
      "  \"architectures\": [\n",
      "    \"DistilBertForSequenceClassification\"\n",
      "  ],\n",
      "  \"attention_dropout\": 0.1,\n",
      "  \"dim\": 768,\n",
      "  \"dropout\": 0.1,\n",
      "  \"hidden_dim\": 3072,\n",
      "  \"id2label\": {\n",
      "    \"0\": \"Veg\",\n",
      "    \"1\": \"Non-Veg\"\n",
      "  },\n",
      "  \"initializer_range\": 0.02,\n",
      "  \"label2id\": null,\n",
      "  \"max_position_embeddings\": 512,\n",
      "  \"model_type\": \"distilbert\",\n",
      "  \"n_heads\": 12,\n",
      "  \"n_layers\": 6,\n",
      "  \"pad_token_id\": 0,\n",
      "  \"problem_type\": \"single_label_classification\",\n",
      "  \"qa_dropout\": 0.1,\n",
      "  \"seq_classif_dropout\": 0.2,\n",
      "  \"sinusoidal_pos_embds\": false,\n",
      "  \"tie_weights_\": true,\n",
      "  \"torch_dtype\": \"float32\",\n",
      "  \"transformers_version\": \"4.38.2\",\n",
      "  \"vocab_size\": 30522\n",
      "}\n",
      "\n",
      "loading weights file new_distilbert_clf_dietary/results/checkpoint-24/model.safetensors\n",
      "All model checkpoint weights were used when initializing DistilBertForSequenceClassification.\n",
      "\n",
      "All the weights of DistilBertForSequenceClassification were initialized from the model checkpoint at new_distilbert_clf_dietary/results/checkpoint-24/.\n",
      "If your task is similar to the task the model of the checkpoint was trained on, you can already use DistilBertForSequenceClassification for predictions without further training.\n",
      "loading configuration file new_distilbert_clf_dietary/results/checkpoint-25/config.json\n",
      "Model config DistilBertConfig {\n",
      "  \"_name_or_path\": \"distilbert-base-uncased\",\n",
      "  \"activation\": \"gelu\",\n",
      "  \"architectures\": [\n",
      "    \"DistilBertForSequenceClassification\"\n",
      "  ],\n",
      "  \"attention_dropout\": 0.1,\n",
      "  \"dim\": 768,\n",
      "  \"dropout\": 0.1,\n",
      "  \"hidden_dim\": 3072,\n",
      "  \"id2label\": {\n",
      "    \"0\": \"Veg\",\n",
      "    \"1\": \"Non-Veg\"\n",
      "  },\n",
      "  \"initializer_range\": 0.02,\n",
      "  \"label2id\": null,\n",
      "  \"max_position_embeddings\": 512,\n",
      "  \"model_type\": \"distilbert\",\n",
      "  \"n_heads\": 12,\n",
      "  \"n_layers\": 6,\n",
      "  \"pad_token_id\": 0,\n",
      "  \"problem_type\": \"single_label_classification\",\n",
      "  \"qa_dropout\": 0.1,\n",
      "  \"seq_classif_dropout\": 0.2,\n",
      "  \"sinusoidal_pos_embds\": false,\n",
      "  \"tie_weights_\": true,\n",
      "  \"torch_dtype\": \"float32\",\n",
      "  \"transformers_version\": \"4.38.2\",\n",
      "  \"vocab_size\": 30522\n",
      "}\n",
      "\n",
      "loading weights file new_distilbert_clf_dietary/results/checkpoint-25/model.safetensors\n",
      "All model checkpoint weights were used when initializing DistilBertForSequenceClassification.\n",
      "\n",
      "All the weights of DistilBertForSequenceClassification were initialized from the model checkpoint at new_distilbert_clf_dietary/results/checkpoint-25/.\n",
      "If your task is similar to the task the model of the checkpoint was trained on, you can already use DistilBertForSequenceClassification for predictions without further training.\n",
      "loading configuration file new_distilbert_clf_dietary/results/checkpoint-26/config.json\n",
      "Model config DistilBertConfig {\n",
      "  \"_name_or_path\": \"distilbert-base-uncased\",\n",
      "  \"activation\": \"gelu\",\n",
      "  \"architectures\": [\n",
      "    \"DistilBertForSequenceClassification\"\n",
      "  ],\n",
      "  \"attention_dropout\": 0.1,\n",
      "  \"dim\": 768,\n",
      "  \"dropout\": 0.1,\n",
      "  \"hidden_dim\": 3072,\n",
      "  \"id2label\": {\n",
      "    \"0\": \"Veg\",\n",
      "    \"1\": \"Non-Veg\"\n",
      "  },\n",
      "  \"initializer_range\": 0.02,\n",
      "  \"label2id\": null,\n",
      "  \"max_position_embeddings\": 512,\n",
      "  \"model_type\": \"distilbert\",\n",
      "  \"n_heads\": 12,\n",
      "  \"n_layers\": 6,\n",
      "  \"pad_token_id\": 0,\n",
      "  \"problem_type\": \"single_label_classification\",\n",
      "  \"qa_dropout\": 0.1,\n",
      "  \"seq_classif_dropout\": 0.2,\n",
      "  \"sinusoidal_pos_embds\": false,\n",
      "  \"tie_weights_\": true,\n",
      "  \"torch_dtype\": \"float32\",\n",
      "  \"transformers_version\": \"4.38.2\",\n",
      "  \"vocab_size\": 30522\n",
      "}\n",
      "\n",
      "loading weights file new_distilbert_clf_dietary/results/checkpoint-26/model.safetensors\n",
      "All model checkpoint weights were used when initializing DistilBertForSequenceClassification.\n",
      "\n",
      "All the weights of DistilBertForSequenceClassification were initialized from the model checkpoint at new_distilbert_clf_dietary/results/checkpoint-26/.\n",
      "If your task is similar to the task the model of the checkpoint was trained on, you can already use DistilBertForSequenceClassification for predictions without further training.\n",
      "loading configuration file new_distilbert_clf_dietary/results/checkpoint-27/config.json\n",
      "Model config DistilBertConfig {\n",
      "  \"_name_or_path\": \"distilbert-base-uncased\",\n",
      "  \"activation\": \"gelu\",\n",
      "  \"architectures\": [\n",
      "    \"DistilBertForSequenceClassification\"\n",
      "  ],\n",
      "  \"attention_dropout\": 0.1,\n",
      "  \"dim\": 768,\n",
      "  \"dropout\": 0.1,\n",
      "  \"hidden_dim\": 3072,\n",
      "  \"id2label\": {\n",
      "    \"0\": \"Veg\",\n",
      "    \"1\": \"Non-Veg\"\n",
      "  },\n",
      "  \"initializer_range\": 0.02,\n",
      "  \"label2id\": null,\n",
      "  \"max_position_embeddings\": 512,\n",
      "  \"model_type\": \"distilbert\",\n",
      "  \"n_heads\": 12,\n",
      "  \"n_layers\": 6,\n",
      "  \"pad_token_id\": 0,\n",
      "  \"problem_type\": \"single_label_classification\",\n",
      "  \"qa_dropout\": 0.1,\n",
      "  \"seq_classif_dropout\": 0.2,\n",
      "  \"sinusoidal_pos_embds\": false,\n",
      "  \"tie_weights_\": true,\n",
      "  \"torch_dtype\": \"float32\",\n",
      "  \"transformers_version\": \"4.38.2\",\n",
      "  \"vocab_size\": 30522\n",
      "}\n",
      "\n",
      "loading weights file new_distilbert_clf_dietary/results/checkpoint-27/model.safetensors\n",
      "All model checkpoint weights were used when initializing DistilBertForSequenceClassification.\n",
      "\n",
      "All the weights of DistilBertForSequenceClassification were initialized from the model checkpoint at new_distilbert_clf_dietary/results/checkpoint-27/.\n",
      "If your task is similar to the task the model of the checkpoint was trained on, you can already use DistilBertForSequenceClassification for predictions without further training.\n",
      "loading configuration file new_distilbert_clf_dietary/results/checkpoint-28/config.json\n",
      "Model config DistilBertConfig {\n",
      "  \"_name_or_path\": \"distilbert-base-uncased\",\n",
      "  \"activation\": \"gelu\",\n",
      "  \"architectures\": [\n",
      "    \"DistilBertForSequenceClassification\"\n",
      "  ],\n",
      "  \"attention_dropout\": 0.1,\n",
      "  \"dim\": 768,\n",
      "  \"dropout\": 0.1,\n",
      "  \"hidden_dim\": 3072,\n",
      "  \"id2label\": {\n",
      "    \"0\": \"Veg\",\n",
      "    \"1\": \"Non-Veg\"\n",
      "  },\n",
      "  \"initializer_range\": 0.02,\n",
      "  \"label2id\": null,\n",
      "  \"max_position_embeddings\": 512,\n",
      "  \"model_type\": \"distilbert\",\n",
      "  \"n_heads\": 12,\n",
      "  \"n_layers\": 6,\n",
      "  \"pad_token_id\": 0,\n",
      "  \"problem_type\": \"single_label_classification\",\n",
      "  \"qa_dropout\": 0.1,\n",
      "  \"seq_classif_dropout\": 0.2,\n",
      "  \"sinusoidal_pos_embds\": false,\n",
      "  \"tie_weights_\": true,\n",
      "  \"torch_dtype\": \"float32\",\n",
      "  \"transformers_version\": \"4.38.2\",\n",
      "  \"vocab_size\": 30522\n",
      "}\n",
      "\n",
      "loading weights file new_distilbert_clf_dietary/results/checkpoint-28/model.safetensors\n",
      "All model checkpoint weights were used when initializing DistilBertForSequenceClassification.\n",
      "\n",
      "All the weights of DistilBertForSequenceClassification were initialized from the model checkpoint at new_distilbert_clf_dietary/results/checkpoint-28/.\n",
      "If your task is similar to the task the model of the checkpoint was trained on, you can already use DistilBertForSequenceClassification for predictions without further training.\n",
      "loading configuration file new_distilbert_clf_dietary/results/checkpoint-29/config.json\n",
      "Model config DistilBertConfig {\n",
      "  \"_name_or_path\": \"distilbert-base-uncased\",\n",
      "  \"activation\": \"gelu\",\n",
      "  \"architectures\": [\n",
      "    \"DistilBertForSequenceClassification\"\n",
      "  ],\n",
      "  \"attention_dropout\": 0.1,\n",
      "  \"dim\": 768,\n",
      "  \"dropout\": 0.1,\n",
      "  \"hidden_dim\": 3072,\n",
      "  \"id2label\": {\n",
      "    \"0\": \"Veg\",\n",
      "    \"1\": \"Non-Veg\"\n",
      "  },\n",
      "  \"initializer_range\": 0.02,\n",
      "  \"label2id\": null,\n",
      "  \"max_position_embeddings\": 512,\n",
      "  \"model_type\": \"distilbert\",\n",
      "  \"n_heads\": 12,\n",
      "  \"n_layers\": 6,\n",
      "  \"pad_token_id\": 0,\n",
      "  \"problem_type\": \"single_label_classification\",\n",
      "  \"qa_dropout\": 0.1,\n",
      "  \"seq_classif_dropout\": 0.2,\n",
      "  \"sinusoidal_pos_embds\": false,\n",
      "  \"tie_weights_\": true,\n",
      "  \"torch_dtype\": \"float32\",\n",
      "  \"transformers_version\": \"4.38.2\",\n",
      "  \"vocab_size\": 30522\n",
      "}\n",
      "\n",
      "loading weights file new_distilbert_clf_dietary/results/checkpoint-29/model.safetensors\n",
      "All model checkpoint weights were used when initializing DistilBertForSequenceClassification.\n",
      "\n",
      "All the weights of DistilBertForSequenceClassification were initialized from the model checkpoint at new_distilbert_clf_dietary/results/checkpoint-29/.\n",
      "If your task is similar to the task the model of the checkpoint was trained on, you can already use DistilBertForSequenceClassification for predictions without further training.\n",
      "loading configuration file new_distilbert_clf_dietary/results/checkpoint-30/config.json\n",
      "Model config DistilBertConfig {\n",
      "  \"_name_or_path\": \"distilbert-base-uncased\",\n",
      "  \"activation\": \"gelu\",\n",
      "  \"architectures\": [\n",
      "    \"DistilBertForSequenceClassification\"\n",
      "  ],\n",
      "  \"attention_dropout\": 0.1,\n",
      "  \"dim\": 768,\n",
      "  \"dropout\": 0.1,\n",
      "  \"hidden_dim\": 3072,\n",
      "  \"id2label\": {\n",
      "    \"0\": \"Veg\",\n",
      "    \"1\": \"Non-Veg\"\n",
      "  },\n",
      "  \"initializer_range\": 0.02,\n",
      "  \"label2id\": null,\n",
      "  \"max_position_embeddings\": 512,\n",
      "  \"model_type\": \"distilbert\",\n",
      "  \"n_heads\": 12,\n",
      "  \"n_layers\": 6,\n",
      "  \"pad_token_id\": 0,\n",
      "  \"problem_type\": \"single_label_classification\",\n",
      "  \"qa_dropout\": 0.1,\n",
      "  \"seq_classif_dropout\": 0.2,\n",
      "  \"sinusoidal_pos_embds\": false,\n",
      "  \"tie_weights_\": true,\n",
      "  \"torch_dtype\": \"float32\",\n",
      "  \"transformers_version\": \"4.38.2\",\n",
      "  \"vocab_size\": 30522\n",
      "}\n",
      "\n",
      "loading weights file new_distilbert_clf_dietary/results/checkpoint-30/model.safetensors\n",
      "All model checkpoint weights were used when initializing DistilBertForSequenceClassification.\n",
      "\n",
      "All the weights of DistilBertForSequenceClassification were initialized from the model checkpoint at new_distilbert_clf_dietary/results/checkpoint-30/.\n",
      "If your task is similar to the task the model of the checkpoint was trained on, you can already use DistilBertForSequenceClassification for predictions without further training.\n"
     ]
    }
   ],
   "source": [
    "from sklearn.metrics import f1_score\n",
    "\n",
    "f1_scores=[]\n",
    "\n",
    "for i in tqdm(range(1,31)):\n",
    "    pdf = pred_df[['utterance', 'label_txt', 'label']\n",
    "                ].rename(columns={'utterance': 'Description', 'label_txt': 'y_true', 'label': 'y_true_id'})\n",
    "\n",
    "    pipe = pipeline(\"text-classification\", DistilBertForSequenceClassification.from_pretrained('new_distilbert_clf_dietary/results/checkpoint-'+str(i)+'/'), tokenizer=tokenizer)\n",
    "    pdf[\"pred\"] = pdf.Description.apply(lambda x: pipe(x))\n",
    "\n",
    "    pdf[\"pred_label\"] = pdf.pred.apply(lambda x: x[0]['label'])\n",
    "    pdf[\"pred_score\"] = pdf.pred.apply(lambda x: x[0]['score'])\n",
    "\n",
    "    pdf.rename(columns={'pred_label': 'y_pred'}, inplace=True)\n",
    "    pdf[\"y_pred_id\"] = pdf.y_pred.apply(lambda x: unique_seq_labels.index(x))\n",
    "\n",
    "\n",
    "    f1_scores.append(f1_score(pdf['y_true_id'],pdf['y_pred_id']))"
   ]
  },
  {
   "cell_type": "code",
   "execution_count": 41,
   "metadata": {},
   "outputs": [
    {
     "data": {
      "text/plain": [
       "[0.09302325581395349,\n",
       " 0.689075630252101,\n",
       " 0.6451612903225806,\n",
       " 0.5614035087719299,\n",
       " 0.7522935779816513,\n",
       " 0.8421052631578947,\n",
       " 0.7428571428571429,\n",
       " 0.7733333333333334,\n",
       " 0.8723404255319149,\n",
       " 0.8039215686274509,\n",
       " 0.888888888888889,\n",
       " 0.888888888888889,\n",
       " 0.860215053763441,\n",
       " 0.851063829787234,\n",
       " 0.8453608247422679,\n",
       " 0.8571428571428571,\n",
       " 0.8421052631578947,\n",
       " 0.8247422680412371,\n",
       " 0.8421052631578947,\n",
       " 0.8333333333333334,\n",
       " 0.8163265306122448,\n",
       " 0.8421052631578947,\n",
       " 0.8695652173913043,\n",
       " 0.8695652173913043,\n",
       " 0.860215053763441,\n",
       " 0.8421052631578947,\n",
       " 0.8333333333333334,\n",
       " 0.8333333333333334,\n",
       " 0.8421052631578947,\n",
       " 0.8421052631578947]"
      ]
     },
     "execution_count": 41,
     "metadata": {},
     "output_type": "execute_result"
    }
   ],
   "source": [
    "f1_scores"
   ]
  },
  {
   "cell_type": "code",
   "execution_count": 42,
   "metadata": {},
   "outputs": [
    {
     "data": {
      "text/plain": [
       "11"
      ]
     },
     "execution_count": 42,
     "metadata": {},
     "output_type": "execute_result"
    }
   ],
   "source": [
    "best_version=np.array(f1_scores).argmax()+1\n",
    "best_version"
   ]
  },
  {
   "cell_type": "code",
   "execution_count": 43,
   "metadata": {},
   "outputs": [
    {
     "name": "stderr",
     "output_type": "stream",
     "text": [
      "loading configuration file new_distilbert_clf_dietary/results/checkpoint-11/config.json\n",
      "Model config DistilBertConfig {\n",
      "  \"_name_or_path\": \"distilbert-base-uncased\",\n",
      "  \"activation\": \"gelu\",\n",
      "  \"architectures\": [\n",
      "    \"DistilBertForSequenceClassification\"\n",
      "  ],\n",
      "  \"attention_dropout\": 0.1,\n",
      "  \"dim\": 768,\n",
      "  \"dropout\": 0.1,\n",
      "  \"hidden_dim\": 3072,\n",
      "  \"id2label\": {\n",
      "    \"0\": \"Veg\",\n",
      "    \"1\": \"Non-Veg\"\n",
      "  },\n",
      "  \"initializer_range\": 0.02,\n",
      "  \"label2id\": null,\n",
      "  \"max_position_embeddings\": 512,\n",
      "  \"model_type\": \"distilbert\",\n",
      "  \"n_heads\": 12,\n",
      "  \"n_layers\": 6,\n",
      "  \"pad_token_id\": 0,\n",
      "  \"problem_type\": \"single_label_classification\",\n",
      "  \"qa_dropout\": 0.1,\n",
      "  \"seq_classif_dropout\": 0.2,\n",
      "  \"sinusoidal_pos_embds\": false,\n",
      "  \"tie_weights_\": true,\n",
      "  \"torch_dtype\": \"float32\",\n",
      "  \"transformers_version\": \"4.38.2\",\n",
      "  \"vocab_size\": 30522\n",
      "}\n",
      "\n"
     ]
    },
    {
     "name": "stderr",
     "output_type": "stream",
     "text": [
      "loading weights file new_distilbert_clf_dietary/results/checkpoint-11/model.safetensors\n",
      "All model checkpoint weights were used when initializing DistilBertForSequenceClassification.\n",
      "\n",
      "All the weights of DistilBertForSequenceClassification were initialized from the model checkpoint at new_distilbert_clf_dietary/results/checkpoint-11/.\n",
      "If your task is similar to the task the model of the checkpoint was trained on, you can already use DistilBertForSequenceClassification for predictions without further training.\n"
     ]
    }
   ],
   "source": [
    "pdf = pred_df[['utterance', 'label_txt', 'label']\n",
    "             ].rename(columns={'utterance': 'Description', 'label_txt': 'y_true', 'label': 'y_true_id'})\n",
    "\n",
    "\n",
    "pipe = pipeline(\"text-classification\", DistilBertForSequenceClassification.from_pretrained('new_distilbert_clf_dietary/results/checkpoint-'+str(best_version)+'/'), tokenizer=tokenizer)\n",
    "pdf[\"pred\"] = pdf.Description.apply(lambda x: pipe(x))"
   ]
  },
  {
   "cell_type": "code",
   "execution_count": 44,
   "metadata": {},
   "outputs": [],
   "source": [
    "pdf[\"pred_label\"] = pdf.pred.apply(lambda x: x[0]['label'])\n",
    "pdf[\"pred_score\"] = pdf.pred.apply(lambda x: x[0]['score'])"
   ]
  },
  {
   "cell_type": "code",
   "execution_count": 45,
   "metadata": {},
   "outputs": [],
   "source": [
    "pdf.rename(columns={'pred_label': 'y_pred'}, inplace=True)\n",
    "pdf[\"y_pred_id\"] = pdf.y_pred.apply(lambda x: unique_seq_labels.index(x))"
   ]
  },
  {
   "cell_type": "code",
   "execution_count": 46,
   "metadata": {},
   "outputs": [
    {
     "name": "stderr",
     "output_type": "stream",
     "text": [
      "/var/folders/2p/d_5l4xlj7ygbv8ldw505sjnr0000gn/T/ipykernel_10422/2770615981.py:76: UserWarning: This figure includes Axes that are not compatible with tight_layout, so results might be incorrect.\n",
      "  plt.tight_layout()\n"
     ]
    },
    {
     "data": {
      "image/png": "[encoded data removed]",
      "text/plain": [
       "<Figure size 1000x1000 with 2 Axes>"
      ]
     },
     "metadata": {},
     "output_type": "display_data"
    }
   ],
   "source": [
    "import numpy as np\n",
    "import matplotlib.pyplot as plt\n",
    "from sklearn.metrics import confusion_matrix\n",
    "\n",
    "# Sample data\n",
    "y_true = pdf.y_true.to_list()\n",
    "y_pred = pdf.y_pred.to_list()\n",
    "\n",
    "# Compute the confusion matrix\n",
    "cm = confusion_matrix(y_true, y_pred)\n",
    "classes = np.unique(y_true)\n",
    "n_classes = len(classes)\n",
    "\n",
    "# Compute accuracy percentages for each class\n",
    "cm_normalized = cm.astype('float') / cm.sum(axis=1)[:, np.newaxis] * 100\n",
    "\n",
    "# Create the expanded confusion matrix with sum rows and columns\n",
    "cm_perc = np.zeros((n_classes+1, n_classes+1), dtype=float)\n",
    "cm_perc[:n_classes, :n_classes] = cm_normalized\n",
    "\n",
    "# Compute the sum values for the last row/column\n",
    "cm_with_sum = np.vstack([cm, cm.sum(axis=0)])\n",
    "cm_with_sum = np.hstack([cm_with_sum, cm_with_sum.sum(axis=1)[:, np.newaxis]])\n",
    "\n",
    "total_predictions = cm.sum()\n",
    "\n",
    "fig, ax = plt.subplots(figsize=(10,10))\n",
    "\n",
    "# Use cm_perc for shading\n",
    "im = ax.imshow(cm_perc, interpolation='nearest', cmap=\"Blues\", vmin=0, vmax=100)\n",
    "\n",
    "# Color bar settings\n",
    "left = ax.get_position().x1 + 0.2\n",
    "bottom = ax.get_position().y0 +0.2\n",
    "width = 0.05\n",
    "height = ax.get_position().height -0.3\n",
    "cbar_ax = fig.add_axes([left, bottom, width, height])\n",
    "cbar = fig.colorbar(im, cax=cbar_ax)\n",
    "cbar.ax.set_ylabel('Accuracy Percentage', rotation=270, va='bottom')\n",
    "\n",
    "# Ticks, grid and gridlines\n",
    "ax.set(xticks=np.arange(cm_perc.shape[1])-0.5, \n",
    "       yticks=np.arange(cm_perc.shape[0])-0.5, \n",
    "       xticklabels=list(classes)+['Sum'], yticklabels=list(classes)+['No of Samples'],\n",
    "       ylabel='True label',\n",
    "       xlabel='Predicted label',\n",
    "       title='FoodDescriptionTags - First Stage Classifier')\n",
    "\n",
    "# Rotate xticks\n",
    "ax.set_xticklabels(list(classes)+['No of Samples'], rotation=45)\n",
    "\n",
    "# Creating a white grid to separate each cell\n",
    "ax.set_xticks(np.arange(cm_perc.shape[1]), minor=True)\n",
    "ax.set_yticks(np.arange(cm_perc.shape[0]), minor=True)\n",
    "ax.grid(which='major', color='w', linestyle='-', linewidth=2)\n",
    "\n",
    "# Text annotations\n",
    "thresh = cm_perc.max() / 2.\n",
    "for i in range(cm_perc.shape[0]):\n",
    "    for j in range(cm_perc.shape[1]):\n",
    "        if i < n_classes and j < n_classes:\n",
    "            text = f\"{cm[i, j]}\\n({cm_normalized[i, j]:.2f}%)\"\n",
    "        elif i == n_classes or j == n_classes:  # Sum row/column\n",
    "            percent = cm_with_sum[i, j] / total_predictions * 100\n",
    "            text = f\"{cm_with_sum[i, j]}\\n({percent:.2f}%)\"\n",
    "        ax.text(j, i, text, ha=\"center\", va=\"center\", color=\"white\" if cm_perc[i, j] > thresh else \"black\", fontsize=10)\n",
    "\n",
    "# Remove spines and adjust ticks\n",
    "ax.spines['top'].set_visible(False)\n",
    "ax.spines['right'].set_visible(False)\n",
    "ax.spines['bottom'].set_visible(False)\n",
    "ax.spines['left'].set_visible(False)\n",
    "ax.tick_params(axis='x', which='both', bottom=False, top=False)\n",
    "ax.tick_params(axis='y', which='both', left=False, right=False)\n",
    "\n",
    "plt.tight_layout()\n",
    "plt.show()"
   ]
  },
  {
   "cell_type": "code",
   "execution_count": 47,
   "metadata": {},
   "outputs": [
    {
     "data": {
      "text/html": [
       "<div>\n",
       "<style scoped>\n",
       "    .dataframe tbody tr th:only-of-type {\n",
       "        vertical-align: middle;\n",
       "    }\n",
       "\n",
       "    .dataframe tbody tr th {\n",
       "        vertical-align: top;\n",
       "    }\n",
       "\n",
       "    .dataframe thead th {\n",
       "        text-align: right;\n",
       "    }\n",
       "</style>\n",
       "<table border=\"1\" class=\"dataframe\">\n",
       "  <thead>\n",
       "    <tr style=\"text-align: right;\">\n",
       "      <th></th>\n",
       "      <th>Description</th>\n",
       "      <th>y_true</th>\n",
       "      <th>y_true_id</th>\n",
       "      <th>pred</th>\n",
       "      <th>y_pred</th>\n",
       "      <th>pred_score</th>\n",
       "      <th>y_pred_id</th>\n",
       "    </tr>\n",
       "  </thead>\n",
       "  <tbody>\n",
       "    <tr>\n",
       "      <th>0</th>\n",
       "      <td>Chicken Parmesan, also known as Chicken Parmig...</td>\n",
       "      <td>Non-Veg</td>\n",
       "      <td>1</td>\n",
       "      <td>[{'label': 'Non-Veg', 'score': 0.7973923087120...</td>\n",
       "      <td>Non-Veg</td>\n",
       "      <td>0.797392</td>\n",
       "      <td>1</td>\n",
       "    </tr>\n",
       "    <tr>\n",
       "      <th>1</th>\n",
       "      <td>Zucchini Noodles, also known as zoodles, are a...</td>\n",
       "      <td>Veg</td>\n",
       "      <td>0</td>\n",
       "      <td>[{'label': 'Non-Veg', 'score': 0.6548706889152...</td>\n",
       "      <td>Non-Veg</td>\n",
       "      <td>0.654871</td>\n",
       "      <td>1</td>\n",
       "    </tr>\n",
       "    <tr>\n",
       "      <th>2</th>\n",
       "      <td>Gnocchi are Italian dumplings made from potato...</td>\n",
       "      <td>Veg</td>\n",
       "      <td>0</td>\n",
       "      <td>[{'label': 'Veg', 'score': 0.5741511583328247}]</td>\n",
       "      <td>Veg</td>\n",
       "      <td>0.574151</td>\n",
       "      <td>0</td>\n",
       "    </tr>\n",
       "    <tr>\n",
       "      <th>3</th>\n",
       "      <td>Roast Pork Bun is a popular Chinese dim sum di...</td>\n",
       "      <td>Non-Veg</td>\n",
       "      <td>1</td>\n",
       "      <td>[{'label': 'Non-Veg', 'score': 0.7871509790420...</td>\n",
       "      <td>Non-Veg</td>\n",
       "      <td>0.787151</td>\n",
       "      <td>1</td>\n",
       "    </tr>\n",
       "    <tr>\n",
       "      <th>4</th>\n",
       "      <td>Banana Halwa is a traditional Indian dessert m...</td>\n",
       "      <td>Veg</td>\n",
       "      <td>0</td>\n",
       "      <td>[{'label': 'Veg', 'score': 0.7921326756477356}]</td>\n",
       "      <td>Veg</td>\n",
       "      <td>0.792133</td>\n",
       "      <td>0</td>\n",
       "    </tr>\n",
       "    <tr>\n",
       "      <th>...</th>\n",
       "      <td>...</td>\n",
       "      <td>...</td>\n",
       "      <td>...</td>\n",
       "      <td>...</td>\n",
       "      <td>...</td>\n",
       "      <td>...</td>\n",
       "      <td>...</td>\n",
       "    </tr>\n",
       "    <tr>\n",
       "      <th>77</th>\n",
       "      <td>Jerk Chicken is a traditional Jamaican dish wi...</td>\n",
       "      <td>Non-Veg</td>\n",
       "      <td>1</td>\n",
       "      <td>[{'label': 'Non-Veg', 'score': 0.8360526561737...</td>\n",
       "      <td>Non-Veg</td>\n",
       "      <td>0.836053</td>\n",
       "      <td>1</td>\n",
       "    </tr>\n",
       "    <tr>\n",
       "      <th>78</th>\n",
       "      <td>Urad Dal is a popular Indian dish made with bl...</td>\n",
       "      <td>Veg</td>\n",
       "      <td>0</td>\n",
       "      <td>[{'label': 'Veg', 'score': 0.789516031742096}]</td>\n",
       "      <td>Veg</td>\n",
       "      <td>0.789516</td>\n",
       "      <td>0</td>\n",
       "    </tr>\n",
       "    <tr>\n",
       "      <th>79</th>\n",
       "      <td>Sticky Rice in Lotus Leaf is a traditional Chi...</td>\n",
       "      <td>Non-Veg</td>\n",
       "      <td>1</td>\n",
       "      <td>[{'label': 'Non-Veg', 'score': 0.8386471867561...</td>\n",
       "      <td>Non-Veg</td>\n",
       "      <td>0.838647</td>\n",
       "      <td>1</td>\n",
       "    </tr>\n",
       "    <tr>\n",
       "      <th>80</th>\n",
       "      <td>Nougat is a chewy confection made with a mix o...</td>\n",
       "      <td>Non-Veg</td>\n",
       "      <td>1</td>\n",
       "      <td>[{'label': 'Non-Veg', 'score': 0.6075856089591...</td>\n",
       "      <td>Non-Veg</td>\n",
       "      <td>0.607586</td>\n",
       "      <td>1</td>\n",
       "    </tr>\n",
       "    <tr>\n",
       "      <th>81</th>\n",
       "      <td>Jalebi is a popular Indian sweet made by deep-...</td>\n",
       "      <td>Veg</td>\n",
       "      <td>0</td>\n",
       "      <td>[{'label': 'Veg', 'score': 0.8127622008323669}]</td>\n",
       "      <td>Veg</td>\n",
       "      <td>0.812762</td>\n",
       "      <td>0</td>\n",
       "    </tr>\n",
       "  </tbody>\n",
       "</table>\n",
       "<p>82 rows × 7 columns</p>\n",
       "</div>"
      ],
      "text/plain": [
       "                                          Description   y_true  y_true_id  \\\n",
       "0   Chicken Parmesan, also known as Chicken Parmig...  Non-Veg          1   \n",
       "1   Zucchini Noodles, also known as zoodles, are a...      Veg          0   \n",
       "2   Gnocchi are Italian dumplings made from potato...      Veg          0   \n",
       "3   Roast Pork Bun is a popular Chinese dim sum di...  Non-Veg          1   \n",
       "4   Banana Halwa is a traditional Indian dessert m...      Veg          0   \n",
       "..                                                ...      ...        ...   \n",
       "77  Jerk Chicken is a traditional Jamaican dish wi...  Non-Veg          1   \n",
       "78  Urad Dal is a popular Indian dish made with bl...      Veg          0   \n",
       "79  Sticky Rice in Lotus Leaf is a traditional Chi...  Non-Veg          1   \n",
       "80  Nougat is a chewy confection made with a mix o...  Non-Veg          1   \n",
       "81  Jalebi is a popular Indian sweet made by deep-...      Veg          0   \n",
       "\n",
       "                                                 pred   y_pred  pred_score  \\\n",
       "0   [{'label': 'Non-Veg', 'score': 0.7973923087120...  Non-Veg    0.797392   \n",
       "1   [{'label': 'Non-Veg', 'score': 0.6548706889152...  Non-Veg    0.654871   \n",
       "2     [{'label': 'Veg', 'score': 0.5741511583328247}]      Veg    0.574151   \n",
       "3   [{'label': 'Non-Veg', 'score': 0.7871509790420...  Non-Veg    0.787151   \n",
       "4     [{'label': 'Veg', 'score': 0.7921326756477356}]      Veg    0.792133   \n",
       "..                                                ...      ...         ...   \n",
       "77  [{'label': 'Non-Veg', 'score': 0.8360526561737...  Non-Veg    0.836053   \n",
       "78     [{'label': 'Veg', 'score': 0.789516031742096}]      Veg    0.789516   \n",
       "79  [{'label': 'Non-Veg', 'score': 0.8386471867561...  Non-Veg    0.838647   \n",
       "80  [{'label': 'Non-Veg', 'score': 0.6075856089591...  Non-Veg    0.607586   \n",
       "81    [{'label': 'Veg', 'score': 0.8127622008323669}]      Veg    0.812762   \n",
       "\n",
       "    y_pred_id  \n",
       "0           1  \n",
       "1           1  \n",
       "2           0  \n",
       "3           1  \n",
       "4           0  \n",
       "..        ...  \n",
       "77          1  \n",
       "78          0  \n",
       "79          1  \n",
       "80          1  \n",
       "81          0  \n",
       "\n",
       "[82 rows x 7 columns]"
      ]
     },
     "execution_count": 47,
     "metadata": {},
     "output_type": "execute_result"
    }
   ],
   "source": [
    "pdf"
   ]
  },
  {
   "cell_type": "code",
   "execution_count": 48,
   "metadata": {},
   "outputs": [
    {
     "name": "stdout",
     "output_type": "stream",
     "text": [
      "\n",
      "Accuracy:  0.8780487804878049 \n",
      "Precision:  0.8163265306122449 \n",
      "Recall:  0.975609756097561 \n",
      "f1_score:  0.888888888888889\n"
     ]
    }
   ],
   "source": [
    "from sklearn.metrics import accuracy_score,precision_score,recall_score,f1_score\n",
    "\n",
    "# Sample data\n",
    "y_true = pdf.y_true_id.to_list()\n",
    "y_pred = pdf.y_pred_id.to_list()\n",
    "\n",
    "acc=accuracy_score(y_true,y_pred)\n",
    "precision = precision_score(y_true, y_pred)\n",
    "recall=recall_score(y_true,y_pred)\n",
    "f1score=f1_score(y_true,y_pred)\n",
    "\n",
    "print(\"\\nAccuracy: \",acc,\"\\nPrecision: \",precision,\"\\nRecall: \",recall,\"\\nf1_score: \",f1score)"
   ]
  },
  {
   "cell_type": "markdown",
   "metadata": {},
   "source": [
    "####  Improve quality of descriptions by including info about list of main dishes and cooking method. "
   ]
  },
  {
   "cell_type": "code",
   "execution_count": 49,
   "metadata": {},
   "outputs": [],
   "source": [
    "import random\n",
    "def get_combined_desc_info(desc,ing,method):\n",
    "    \n",
    "    ing_opt=['The main ingredients used in this dish include ','For this dish, the main ingredients consist of ', 'The key components of this dish are ']\n",
    "    method_opt=['The cooking method involves ','This dish is complemented by the cooking technique of ',]\n",
    "\n",
    "    i=random.choice(ing_opt)\n",
    "    m=random.choice(method_opt)\n",
    "\n",
    "    if random.random()<0.5:\n",
    "        return desc+' '+i+', '.join(ing)+'. '+m+method+'.'\n",
    "    else:\n",
    "        return desc+' '+m+method+'. '+i+', '.join(ing)+'.'"
   ]
  },
  {
   "cell_type": "code",
   "execution_count": 50,
   "metadata": {},
   "outputs": [
    {
     "data": {
      "text/plain": [
       "'Ven Pongal is a traditional South Indian breakfast dish made with rice and lentils, subtly spiced with cumin seeds, black pepper, and ginger, and cooked to a creamy consistency with ghee. It is a comforting and wholesome meal often served with coconut chutney and sambar. The key components of this dish are Rice, Lentils, Ghee, Cumin seeds, Black pepper, Ginger. The cooking method involves Boiling and tempering.'"
      ]
     },
     "execution_count": 50,
     "metadata": {},
     "output_type": "execute_result"
    }
   ],
   "source": [
    "get_combined_desc_info(df.loc[0,'Description'],df.loc[0,'Ingredients'],df.loc[0,'CookingMethod'])"
   ]
  },
  {
   "cell_type": "code",
   "execution_count": 51,
   "metadata": {},
   "outputs": [],
   "source": [
    "combined_desc_info=[]\n",
    "\n",
    "for i in range(len(df)):\n",
    "    combined_desc_info.append(get_combined_desc_info(df.loc[i,'Description'],df.loc[i,'Ingredients'],df.loc[i,'CookingMethod']))\n",
    "\n",
    "df['NewDesc']=combined_desc_info"
   ]
  },
  {
   "cell_type": "code",
   "execution_count": 52,
   "metadata": {},
   "outputs": [
    {
     "data": {
      "text/plain": [
       "'Tom Yum Soup is a bold and aromatic Thai soup with a spicy, sour, and tangy flavor profile. It is loaded with fragrant herbs, succulent shrimp, mushrooms, and a hint of citrus from lime juice. This soup is known for its refreshing and invigorating taste. The cooking method involves Boiling. The key components of this dish are lemongrass, galangal, kaffir lime leaves, chili peppers, shrimp, mushrooms, lime juice.'"
      ]
     },
     "execution_count": 52,
     "metadata": {},
     "output_type": "execute_result"
    }
   ],
   "source": [
    "df.loc[1,'NewDesc']"
   ]
  },
  {
   "cell_type": "code",
   "execution_count": 53,
   "metadata": {},
   "outputs": [],
   "source": [
    "df.to_csv('updated_data.csv')"
   ]
  },
  {
   "cell_type": "code",
   "execution_count": 54,
   "metadata": {},
   "outputs": [],
   "source": [
    "bert_model_diet='new_distilbert_clf_dietary/results/checkpoint-'+str(best_version)+'/'\n",
    "with open('models.txt','a') as f:\n",
    "    f.write('bert_model_diet,'+bert_model_diet)"
   ]
  },
  {
   "cell_type": "markdown",
   "metadata": {},
   "source": [
    "### Training BERT Sequence classification models for other tags using combined description information."
   ]
  },
  {
   "cell_type": "code",
   "execution_count": 55,
   "metadata": {},
   "outputs": [],
   "source": [
    "base_model='new_distilbert_clf_dietary/results/checkpoint-'+str(best_version)+'/'"
   ]
  },
  {
   "cell_type": "markdown",
   "metadata": {},
   "source": [
    "### Dietary Preference classification with improved data"
   ]
  },
  {
   "cell_type": "code",
   "execution_count": 62,
   "metadata": {},
   "outputs": [
    {
     "name": "stdout",
     "output_type": "stream",
     "text": [
      "409 409\n"
     ]
    }
   ],
   "source": [
    "utterances = df['NewDesc'].to_list()\n",
    "seq_labels = df[\"DietaryPreference\"].to_list()\n",
    "print(len(utterances), len(seq_labels))\n"
   ]
  },
  {
   "cell_type": "code",
   "execution_count": 64,
   "metadata": {},
   "outputs": [
    {
     "name": "stdout",
     "output_type": "stream",
     "text": [
      "['Veg', 'Non-Veg']\n"
     ]
    }
   ],
   "source": [
    "unique_seq_labels = list(df[\"DietaryPreference\"].unique())\n",
    "print(unique_seq_labels)"
   ]
  },
  {
   "cell_type": "code",
   "execution_count": 65,
   "metadata": {},
   "outputs": [
    {
     "name": "stderr",
     "output_type": "stream",
     "text": [
      "loading file vocab.txt from cache at /Users/anu/.cache/huggingface/hub/models--distilbert-base-cased/snapshots/0dacbb01d604f8adeeb5b87c9339e485ac40d5c0/vocab.txt\n",
      "loading file tokenizer.json from cache at /Users/anu/.cache/huggingface/hub/models--distilbert-base-cased/snapshots/0dacbb01d604f8adeeb5b87c9339e485ac40d5c0/tokenizer.json\n",
      "loading file added_tokens.json from cache at None\n",
      "loading file special_tokens_map.json from cache at None\n",
      "loading file tokenizer_config.json from cache at /Users/anu/.cache/huggingface/hub/models--distilbert-base-cased/snapshots/0dacbb01d604f8adeeb5b87c9339e485ac40d5c0/tokenizer_config.json\n",
      "loading configuration file config.json from cache at /Users/anu/.cache/huggingface/hub/models--distilbert-base-cased/snapshots/0dacbb01d604f8adeeb5b87c9339e485ac40d5c0/config.json\n",
      "Model config DistilBertConfig {\n",
      "  \"_name_or_path\": \"distilbert-base-cased\",\n",
      "  \"activation\": \"gelu\",\n",
      "  \"architectures\": [\n",
      "    \"DistilBertForMaskedLM\"\n",
      "  ],\n",
      "  \"attention_dropout\": 0.1,\n",
      "  \"dim\": 768,\n",
      "  \"dropout\": 0.1,\n",
      "  \"hidden_dim\": 3072,\n",
      "  \"initializer_range\": 0.02,\n",
      "  \"max_position_embeddings\": 512,\n",
      "  \"model_type\": \"distilbert\",\n",
      "  \"n_heads\": 12,\n",
      "  \"n_layers\": 6,\n",
      "  \"output_past\": true,\n",
      "  \"pad_token_id\": 0,\n",
      "  \"qa_dropout\": 0.1,\n",
      "  \"seq_classif_dropout\": 0.2,\n",
      "  \"sinusoidal_pos_embds\": false,\n",
      "  \"tie_weights_\": true,\n",
      "  \"transformers_version\": \"4.38.2\",\n",
      "  \"vocab_size\": 28996\n",
      "}\n",
      "\n"
     ]
    },
    {
     "data": {
      "application/vnd.jupyter.widget-view+json": {
       "model_id": "cc2631430ada496f94036ad2b226a7bd",
       "version_major": 2,
       "version_minor": 0
      },
      "text/plain": [
       "  0%|          | 0/409 [00:00<?, ?it/s]"
      ]
     },
     "metadata": {},
     "output_type": "display_data"
    },
    {
     "data": {
      "application/vnd.jupyter.widget-view+json": {
       "model_id": "330f27d85b6e4fac8a750091e7ec4f66",
       "version_major": 2,
       "version_minor": 0
      },
      "text/plain": [
       "Stringifying the column:   0%|          | 0/409 [00:00<?, ? examples/s]"
      ]
     },
     "metadata": {},
     "output_type": "display_data"
    },
    {
     "data": {
      "application/vnd.jupyter.widget-view+json": {
       "model_id": "af84abe8fc564cf7b8cfcaf27d62732e",
       "version_major": 2,
       "version_minor": 0
      },
      "text/plain": [
       "Casting to class labels:   0%|          | 0/409 [00:00<?, ? examples/s]"
      ]
     },
     "metadata": {},
     "output_type": "display_data"
    },
    {
     "name": "stderr",
     "output_type": "stream",
     "text": [
      "loading configuration file new_distilbert_clf_dietary/results/checkpoint-11/config.json\n",
      "Model config DistilBertConfig {\n",
      "  \"_name_or_path\": \"distilbert-base-uncased\",\n",
      "  \"activation\": \"gelu\",\n",
      "  \"architectures\": [\n",
      "    \"DistilBertForSequenceClassification\"\n",
      "  ],\n",
      "  \"attention_dropout\": 0.1,\n",
      "  \"dim\": 768,\n",
      "  \"dropout\": 0.1,\n",
      "  \"hidden_dim\": 3072,\n",
      "  \"id2label\": {\n",
      "    \"0\": \"Veg\",\n",
      "    \"1\": \"Non-Veg\"\n",
      "  },\n",
      "  \"initializer_range\": 0.02,\n",
      "  \"label2id\": null,\n",
      "  \"max_position_embeddings\": 512,\n",
      "  \"model_type\": \"distilbert\",\n",
      "  \"n_heads\": 12,\n",
      "  \"n_layers\": 6,\n",
      "  \"pad_token_id\": 0,\n",
      "  \"problem_type\": \"single_label_classification\",\n",
      "  \"qa_dropout\": 0.1,\n",
      "  \"seq_classif_dropout\": 0.2,\n",
      "  \"sinusoidal_pos_embds\": false,\n",
      "  \"tie_weights_\": true,\n",
      "  \"torch_dtype\": \"float32\",\n",
      "  \"transformers_version\": \"4.38.2\",\n",
      "  \"vocab_size\": 30522\n",
      "}\n",
      "\n",
      "loading weights file new_distilbert_clf_dietary/results/checkpoint-11/model.safetensors\n",
      "All model checkpoint weights were used when initializing DistilBertForSequenceClassification.\n",
      "\n",
      "All the weights of DistilBertForSequenceClassification were initialized from the model checkpoint at new_distilbert_clf_dietary/results/checkpoint-11/.\n",
      "If your task is similar to the task the model of the checkpoint was trained on, you can already use DistilBertForSequenceClassification for predictions without further training.\n",
      "/Users/anu/Library/Python/3.9/lib/python/site-packages/datasets/load.py:756: FutureWarning: The repository for accuracy contains custom code which must be executed to correctly load the metric. You can inspect the repository content at https://raw.githubusercontent.com/huggingface/datasets/2.18.0/metrics/accuracy/accuracy.py\n",
      "You can avoid this message in future by passing the argument `trust_remote_code=True`.\n",
      "Passing `trust_remote_code=True` will be mandatory to load this metric from the next major release of `datasets`.\n",
      "  warnings.warn(\n",
      "PyTorch: setting up devices\n",
      "The default value for the training argument `--report_to` will change in v5 (from all installed integrations to none). In v5, you will need to use `--report_to all` to get the same behavior as now. You should start updating your code and make this info disappear :-).\n",
      "/Users/anu/Library/Python/3.9/lib/python/site-packages/accelerate/accelerator.py:432: FutureWarning: Passing the following arguments to `Accelerator` is deprecated and will be removed in version 1.0 of Accelerate: dict_keys(['dispatch_batches', 'split_batches', 'even_batches', 'use_seedable_sampler']). Please pass an `accelerate.DataLoaderConfiguration` instead: \n",
      "dataloader_config = DataLoaderConfiguration(dispatch_batches=None, split_batches=False, even_batches=True, use_seedable_sampler=True)\n",
      "  warnings.warn(\n",
      "The following columns in the evaluation set don't have a corresponding argument in `DistilBertForSequenceClassification.forward` and have been ignored: utterance, label_txt. If utterance, label_txt are not expected by `DistilBertForSequenceClassification.forward`,  you can safely ignore this message.\n",
      "***** Running Evaluation *****\n",
      "  Num examples = 82\n",
      "  Batch size = 1024\n"
     ]
    },
    {
     "data": {
      "application/vnd.jupyter.widget-view+json": {
       "model_id": "e6774e04d60c4b28b70ef9b5a4ab1a05",
       "version_major": 2,
       "version_minor": 0
      },
      "text/plain": [
       "  0%|          | 0/1 [00:00<?, ?it/s]"
      ]
     },
     "metadata": {},
     "output_type": "display_data"
    },
    {
     "data": {
      "text/plain": [
       "{'eval_loss': 0.4363369345664978,\n",
       " 'eval_accuracy': 0.8048780487804879,\n",
       " 'eval_runtime': 0.13,\n",
       " 'eval_samples_per_second': 630.536,\n",
       " 'eval_steps_per_second': 7.689}"
      ]
     },
     "execution_count": 65,
     "metadata": {},
     "output_type": "execute_result"
    }
   ],
   "source": [
    "seq_id = [unique_seq_labels.index(l) for l in seq_labels]\n",
    "\n",
    "tokenizer = DistilBertTokenizerFast.from_pretrained('distilbert-base-cased')\n",
    "tokenized_utterances = []\n",
    "attention_masks = []\n",
    "for utt in tqdm(utterances) :\n",
    "    try :\n",
    "        it = tokenizer(utt, truncation=True, max_length=32)\n",
    "        tokenized_utterances.append(it['input_ids'])\n",
    "        attention_masks.append(it['attention_mask'])\n",
    "    except :\n",
    "        print(utt)\n",
    "myData = Dataset.from_dict(dict(utterance=utterances,\n",
    "                                input_ids=tokenized_utterances,\n",
    "                                attention_mask=attention_masks,\n",
    "                                label_txt=seq_labels,\n",
    "                                label=seq_id)\n",
    "                          )\n",
    "# column we want to stratify with respect to\n",
    "stratify_column_name = \"label\"\n",
    "\n",
    "# create class label column and stratify\n",
    "myData= myData.class_encode_column(stratify_column_name).train_test_split(test_size=0.2, stratify_by_column=stratify_column_name)\n",
    "data_collator = DataCollatorWithPadding(tokenizer=tokenizer)\n",
    "\n",
    "# Initialize the model using from_pretrained\n",
    "seq_clf_mdl = DistilBertForSequenceClassification.from_pretrained(base_model)\n",
    "seq_clf_mdl.config.id2label = {i: l for i, l in enumerate(unique_seq_labels)}\n",
    "\n",
    "metric = load_metric(\"accuracy\")\n",
    "\n",
    "def compute_metrics(eval_pred):\n",
    "    logits, labels = eval_pred\n",
    "    predictions = np.argmax(logits, axis=-1)\n",
    "    return metric.compute(predictions=predictions, references=labels)\n",
    "\n",
    "epochs = 30\n",
    "\n",
    "training_args = TrainingArguments(\n",
    "    output_dir=\"./distilbert_clf_dietary_new_data/results\",\n",
    "    num_train_epochs=epochs,\n",
    "    per_device_train_batch_size=1024,\n",
    "    per_device_eval_batch_size=1024,\n",
    "    load_best_model_at_end=True,\n",
    "    logging_steps=1,\n",
    "    log_level='info',\n",
    "    evaluation_strategy='epoch',\n",
    "    eval_steps=5000,\n",
    "    save_strategy='epoch',\n",
    ")\n",
    "\n",
    "# Define the trainer:\n",
    "trainer = Trainer(\n",
    "    model=seq_clf_mdl,\n",
    "    args=training_args,\n",
    "    train_dataset=myData['train'],\n",
    "    eval_dataset=myData['test'],\n",
    "    compute_metrics=compute_metrics,\n",
    "    data_collator=data_collator\n",
    ")\n",
    "\n",
    "trainer.evaluate()"
   ]
  },
  {
   "cell_type": "code",
   "execution_count": 66,
   "metadata": {},
   "outputs": [
    {
     "name": "stderr",
     "output_type": "stream",
     "text": [
      "The following columns in the training set don't have a corresponding argument in `DistilBertForSequenceClassification.forward` and have been ignored: utterance, label_txt. If utterance, label_txt are not expected by `DistilBertForSequenceClassification.forward`,  you can safely ignore this message.\n",
      "***** Running training *****\n",
      "  Num examples = 327\n",
      "  Num Epochs = 30\n",
      "  Instantaneous batch size per device = 1,024\n",
      "  Total train batch size (w. parallel, distributed & accumulation) = 1,024\n",
      "  Gradient Accumulation steps = 1\n",
      "  Total optimization steps = 30\n",
      "  Number of trainable parameters = 66,955,010\n"
     ]
    },
    {
     "data": {
      "application/vnd.jupyter.widget-view+json": {
       "model_id": "7d1f5da292514254839662f991caeb11",
       "version_major": 2,
       "version_minor": 0
      },
      "text/plain": [
       "  0%|          | 0/30 [00:00<?, ?it/s]"
      ]
     },
     "metadata": {},
     "output_type": "display_data"
    },
    {
     "name": "stderr",
     "output_type": "stream",
     "text": [
      "The following columns in the evaluation set don't have a corresponding argument in `DistilBertForSequenceClassification.forward` and have been ignored: utterance, label_txt. If utterance, label_txt are not expected by `DistilBertForSequenceClassification.forward`,  you can safely ignore this message.\n",
      "***** Running Evaluation *****\n",
      "  Num examples = 82\n",
      "  Batch size = 1024\n"
     ]
    },
    {
     "name": "stdout",
     "output_type": "stream",
     "text": [
      "{'loss': 0.393, 'grad_norm': 1.3164680004119873, 'learning_rate': 4.8333333333333334e-05, 'epoch': 1.0}\n"
     ]
    },
    {
     "data": {
      "application/vnd.jupyter.widget-view+json": {
       "model_id": "0bbd68a752224c318b926a3df048c9ab",
       "version_major": 2,
       "version_minor": 0
      },
      "text/plain": [
       "  0%|          | 0/1 [00:00<?, ?it/s]"
      ]
     },
     "metadata": {},
     "output_type": "display_data"
    },
    {
     "name": "stderr",
     "output_type": "stream",
     "text": [
      "Saving model checkpoint to ./distilbert_clf_dietary_new_data/results/tmp-checkpoint-1\n",
      "Configuration saved in ./distilbert_clf_dietary_new_data/results/tmp-checkpoint-1/config.json\n"
     ]
    },
    {
     "name": "stdout",
     "output_type": "stream",
     "text": [
      "{'eval_loss': 0.770361065864563, 'eval_accuracy': 0.5975609756097561, 'eval_runtime': 0.1905, 'eval_samples_per_second': 430.455, 'eval_steps_per_second': 5.249, 'epoch': 1.0}\n"
     ]
    },
    {
     "name": "stderr",
     "output_type": "stream",
     "text": [
      "Model weights saved in ./distilbert_clf_dietary_new_data/results/tmp-checkpoint-1/model.safetensors\n",
      "The following columns in the evaluation set don't have a corresponding argument in `DistilBertForSequenceClassification.forward` and have been ignored: utterance, label_txt. If utterance, label_txt are not expected by `DistilBertForSequenceClassification.forward`,  you can safely ignore this message.\n",
      "***** Running Evaluation *****\n",
      "  Num examples = 82\n",
      "  Batch size = 1024\n"
     ]
    },
    {
     "name": "stdout",
     "output_type": "stream",
     "text": [
      "{'loss': 0.8408, 'grad_norm': 14.093220710754395, 'learning_rate': 4.666666666666667e-05, 'epoch': 2.0}\n"
     ]
    },
    {
     "data": {
      "application/vnd.jupyter.widget-view+json": {
       "model_id": "cd86855cb0714939b14ba279956efa76",
       "version_major": 2,
       "version_minor": 0
      },
      "text/plain": [
       "  0%|          | 0/1 [00:00<?, ?it/s]"
      ]
     },
     "metadata": {},
     "output_type": "display_data"
    },
    {
     "name": "stderr",
     "output_type": "stream",
     "text": [
      "Saving model checkpoint to ./distilbert_clf_dietary_new_data/results/tmp-checkpoint-2\n",
      "Configuration saved in ./distilbert_clf_dietary_new_data/results/tmp-checkpoint-2/config.json\n"
     ]
    },
    {
     "name": "stdout",
     "output_type": "stream",
     "text": [
      "{'eval_loss': 0.43920135498046875, 'eval_accuracy': 0.8414634146341463, 'eval_runtime': 0.1042, 'eval_samples_per_second': 786.623, 'eval_steps_per_second': 9.593, 'epoch': 2.0}\n"
     ]
    },
    {
     "name": "stderr",
     "output_type": "stream",
     "text": [
      "Model weights saved in ./distilbert_clf_dietary_new_data/results/tmp-checkpoint-2/model.safetensors\n",
      "The following columns in the evaluation set don't have a corresponding argument in `DistilBertForSequenceClassification.forward` and have been ignored: utterance, label_txt. If utterance, label_txt are not expected by `DistilBertForSequenceClassification.forward`,  you can safely ignore this message.\n",
      "***** Running Evaluation *****\n",
      "  Num examples = 82\n",
      "  Batch size = 1024\n"
     ]
    },
    {
     "name": "stdout",
     "output_type": "stream",
     "text": [
      "{'loss': 0.4613, 'grad_norm': 11.002134323120117, 'learning_rate': 4.5e-05, 'epoch': 3.0}\n"
     ]
    },
    {
     "data": {
      "application/vnd.jupyter.widget-view+json": {
       "model_id": "6481f70e72554a4886ee7177971b8d15",
       "version_major": 2,
       "version_minor": 0
      },
      "text/plain": [
       "  0%|          | 0/1 [00:00<?, ?it/s]"
      ]
     },
     "metadata": {},
     "output_type": "display_data"
    },
    {
     "name": "stderr",
     "output_type": "stream",
     "text": [
      "Saving model checkpoint to ./distilbert_clf_dietary_new_data/results/tmp-checkpoint-3\n",
      "Configuration saved in ./distilbert_clf_dietary_new_data/results/tmp-checkpoint-3/config.json\n"
     ]
    },
    {
     "name": "stdout",
     "output_type": "stream",
     "text": [
      "{'eval_loss': 0.5334891080856323, 'eval_accuracy': 0.7195121951219512, 'eval_runtime': 0.1288, 'eval_samples_per_second': 636.701, 'eval_steps_per_second': 7.765, 'epoch': 3.0}\n"
     ]
    },
    {
     "name": "stderr",
     "output_type": "stream",
     "text": [
      "Model weights saved in ./distilbert_clf_dietary_new_data/results/tmp-checkpoint-3/model.safetensors\n",
      "The following columns in the evaluation set don't have a corresponding argument in `DistilBertForSequenceClassification.forward` and have been ignored: utterance, label_txt. If utterance, label_txt are not expected by `DistilBertForSequenceClassification.forward`,  you can safely ignore this message.\n",
      "***** Running Evaluation *****\n",
      "  Num examples = 82\n",
      "  Batch size = 1024\n"
     ]
    },
    {
     "name": "stdout",
     "output_type": "stream",
     "text": [
      "{'loss': 0.5199, 'grad_norm': 16.494909286499023, 'learning_rate': 4.3333333333333334e-05, 'epoch': 4.0}\n"
     ]
    },
    {
     "data": {
      "application/vnd.jupyter.widget-view+json": {
       "model_id": "e116b8463bc94ec9ab573854c47ab5dc",
       "version_major": 2,
       "version_minor": 0
      },
      "text/plain": [
       "  0%|          | 0/1 [00:00<?, ?it/s]"
      ]
     },
     "metadata": {},
     "output_type": "display_data"
    },
    {
     "name": "stderr",
     "output_type": "stream",
     "text": [
      "Saving model checkpoint to ./distilbert_clf_dietary_new_data/results/tmp-checkpoint-4\n",
      "Configuration saved in ./distilbert_clf_dietary_new_data/results/tmp-checkpoint-4/config.json\n"
     ]
    },
    {
     "name": "stdout",
     "output_type": "stream",
     "text": [
      "{'eval_loss': 0.549421489238739, 'eval_accuracy': 0.7317073170731707, 'eval_runtime': 0.1142, 'eval_samples_per_second': 718.177, 'eval_steps_per_second': 8.758, 'epoch': 4.0}\n"
     ]
    },
    {
     "name": "stderr",
     "output_type": "stream",
     "text": [
      "Model weights saved in ./distilbert_clf_dietary_new_data/results/tmp-checkpoint-4/model.safetensors\n",
      "The following columns in the evaluation set don't have a corresponding argument in `DistilBertForSequenceClassification.forward` and have been ignored: utterance, label_txt. If utterance, label_txt are not expected by `DistilBertForSequenceClassification.forward`,  you can safely ignore this message.\n",
      "***** Running Evaluation *****\n",
      "  Num examples = 82\n",
      "  Batch size = 1024\n"
     ]
    },
    {
     "name": "stdout",
     "output_type": "stream",
     "text": [
      "{'loss': 0.5429, 'grad_norm': 15.943553924560547, 'learning_rate': 4.166666666666667e-05, 'epoch': 5.0}\n"
     ]
    },
    {
     "data": {
      "application/vnd.jupyter.widget-view+json": {
       "model_id": "03c0726852904a14861b5a20ce5f62c1",
       "version_major": 2,
       "version_minor": 0
      },
      "text/plain": [
       "  0%|          | 0/1 [00:00<?, ?it/s]"
      ]
     },
     "metadata": {},
     "output_type": "display_data"
    },
    {
     "name": "stderr",
     "output_type": "stream",
     "text": [
      "Saving model checkpoint to ./distilbert_clf_dietary_new_data/results/tmp-checkpoint-5\n",
      "Configuration saved in ./distilbert_clf_dietary_new_data/results/tmp-checkpoint-5/config.json\n"
     ]
    },
    {
     "name": "stdout",
     "output_type": "stream",
     "text": [
      "{'eval_loss': 0.3928678631782532, 'eval_accuracy': 0.8536585365853658, 'eval_runtime': 0.1034, 'eval_samples_per_second': 792.828, 'eval_steps_per_second': 9.669, 'epoch': 5.0}\n"
     ]
    },
    {
     "name": "stderr",
     "output_type": "stream",
     "text": [
      "Model weights saved in ./distilbert_clf_dietary_new_data/results/tmp-checkpoint-5/model.safetensors\n",
      "The following columns in the evaluation set don't have a corresponding argument in `DistilBertForSequenceClassification.forward` and have been ignored: utterance, label_txt. If utterance, label_txt are not expected by `DistilBertForSequenceClassification.forward`,  you can safely ignore this message.\n",
      "***** Running Evaluation *****\n",
      "  Num examples = 82\n",
      "  Batch size = 1024\n"
     ]
    },
    {
     "name": "stdout",
     "output_type": "stream",
     "text": [
      "{'loss': 0.3894, 'grad_norm': 3.901588201522827, 'learning_rate': 4e-05, 'epoch': 6.0}\n"
     ]
    },
    {
     "data": {
      "application/vnd.jupyter.widget-view+json": {
       "model_id": "f0f250957e1f40a980d4b11e6adc6c02",
       "version_major": 2,
       "version_minor": 0
      },
      "text/plain": [
       "  0%|          | 0/1 [00:00<?, ?it/s]"
      ]
     },
     "metadata": {},
     "output_type": "display_data"
    },
    {
     "name": "stderr",
     "output_type": "stream",
     "text": [
      "Saving model checkpoint to ./distilbert_clf_dietary_new_data/results/tmp-checkpoint-6\n",
      "Configuration saved in ./distilbert_clf_dietary_new_data/results/tmp-checkpoint-6/config.json\n"
     ]
    },
    {
     "name": "stdout",
     "output_type": "stream",
     "text": [
      "{'eval_loss': 0.42682313919067383, 'eval_accuracy': 0.8414634146341463, 'eval_runtime': 0.1001, 'eval_samples_per_second': 819.007, 'eval_steps_per_second': 9.988, 'epoch': 6.0}\n"
     ]
    },
    {
     "name": "stderr",
     "output_type": "stream",
     "text": [
      "Model weights saved in ./distilbert_clf_dietary_new_data/results/tmp-checkpoint-6/model.safetensors\n",
      "The following columns in the evaluation set don't have a corresponding argument in `DistilBertForSequenceClassification.forward` and have been ignored: utterance, label_txt. If utterance, label_txt are not expected by `DistilBertForSequenceClassification.forward`,  you can safely ignore this message.\n",
      "***** Running Evaluation *****\n",
      "  Num examples = 82\n",
      "  Batch size = 1024\n"
     ]
    },
    {
     "name": "stdout",
     "output_type": "stream",
     "text": [
      "{'loss': 0.4138, 'grad_norm': 6.188758850097656, 'learning_rate': 3.8333333333333334e-05, 'epoch': 7.0}\n"
     ]
    },
    {
     "data": {
      "application/vnd.jupyter.widget-view+json": {
       "model_id": "ad418a95c32b4c7ebca973c2cd455092",
       "version_major": 2,
       "version_minor": 0
      },
      "text/plain": [
       "  0%|          | 0/1 [00:00<?, ?it/s]"
      ]
     },
     "metadata": {},
     "output_type": "display_data"
    },
    {
     "name": "stderr",
     "output_type": "stream",
     "text": [
      "Saving model checkpoint to ./distilbert_clf_dietary_new_data/results/tmp-checkpoint-7\n",
      "Configuration saved in ./distilbert_clf_dietary_new_data/results/tmp-checkpoint-7/config.json\n"
     ]
    },
    {
     "name": "stdout",
     "output_type": "stream",
     "text": [
      "{'eval_loss': 0.4308886229991913, 'eval_accuracy': 0.8414634146341463, 'eval_runtime': 0.1054, 'eval_samples_per_second': 778.194, 'eval_steps_per_second': 9.49, 'epoch': 7.0}\n"
     ]
    },
    {
     "name": "stderr",
     "output_type": "stream",
     "text": [
      "Model weights saved in ./distilbert_clf_dietary_new_data/results/tmp-checkpoint-7/model.safetensors\n",
      "The following columns in the evaluation set don't have a corresponding argument in `DistilBertForSequenceClassification.forward` and have been ignored: utterance, label_txt. If utterance, label_txt are not expected by `DistilBertForSequenceClassification.forward`,  you can safely ignore this message.\n",
      "***** Running Evaluation *****\n",
      "  Num examples = 82\n",
      "  Batch size = 1024\n"
     ]
    },
    {
     "name": "stdout",
     "output_type": "stream",
     "text": [
      "{'loss': 0.4153, 'grad_norm': 6.921964168548584, 'learning_rate': 3.6666666666666666e-05, 'epoch': 8.0}\n"
     ]
    },
    {
     "data": {
      "application/vnd.jupyter.widget-view+json": {
       "model_id": "5141b1edbc3e4695834555cf9bdf1986",
       "version_major": 2,
       "version_minor": 0
      },
      "text/plain": [
       "  0%|          | 0/1 [00:00<?, ?it/s]"
      ]
     },
     "metadata": {},
     "output_type": "display_data"
    },
    {
     "name": "stderr",
     "output_type": "stream",
     "text": [
      "Saving model checkpoint to ./distilbert_clf_dietary_new_data/results/tmp-checkpoint-8\n",
      "Configuration saved in ./distilbert_clf_dietary_new_data/results/tmp-checkpoint-8/config.json\n"
     ]
    },
    {
     "name": "stdout",
     "output_type": "stream",
     "text": [
      "{'eval_loss': 0.376510888338089, 'eval_accuracy': 0.8414634146341463, 'eval_runtime': 0.1072, 'eval_samples_per_second': 764.783, 'eval_steps_per_second': 9.327, 'epoch': 8.0}\n"
     ]
    },
    {
     "name": "stderr",
     "output_type": "stream",
     "text": [
      "Model weights saved in ./distilbert_clf_dietary_new_data/results/tmp-checkpoint-8/model.safetensors\n",
      "The following columns in the evaluation set don't have a corresponding argument in `DistilBertForSequenceClassification.forward` and have been ignored: utterance, label_txt. If utterance, label_txt are not expected by `DistilBertForSequenceClassification.forward`,  you can safely ignore this message.\n",
      "***** Running Evaluation *****\n",
      "  Num examples = 82\n",
      "  Batch size = 1024\n"
     ]
    },
    {
     "name": "stdout",
     "output_type": "stream",
     "text": [
      "{'loss': 0.341, 'grad_norm': 5.110960960388184, 'learning_rate': 3.5e-05, 'epoch': 9.0}\n"
     ]
    },
    {
     "data": {
      "application/vnd.jupyter.widget-view+json": {
       "model_id": "6f3d518463574ccabffbd6d5f0be881c",
       "version_major": 2,
       "version_minor": 0
      },
      "text/plain": [
       "  0%|          | 0/1 [00:00<?, ?it/s]"
      ]
     },
     "metadata": {},
     "output_type": "display_data"
    },
    {
     "name": "stderr",
     "output_type": "stream",
     "text": [
      "Saving model checkpoint to ./distilbert_clf_dietary_new_data/results/tmp-checkpoint-9\n",
      "Configuration saved in ./distilbert_clf_dietary_new_data/results/tmp-checkpoint-9/config.json\n"
     ]
    },
    {
     "name": "stdout",
     "output_type": "stream",
     "text": [
      "{'eval_loss': 0.31996771693229675, 'eval_accuracy': 0.8780487804878049, 'eval_runtime': 0.1121, 'eval_samples_per_second': 731.62, 'eval_steps_per_second': 8.922, 'epoch': 9.0}\n"
     ]
    },
    {
     "name": "stderr",
     "output_type": "stream",
     "text": [
      "Model weights saved in ./distilbert_clf_dietary_new_data/results/tmp-checkpoint-9/model.safetensors\n",
      "The following columns in the evaluation set don't have a corresponding argument in `DistilBertForSequenceClassification.forward` and have been ignored: utterance, label_txt. If utterance, label_txt are not expected by `DistilBertForSequenceClassification.forward`,  you can safely ignore this message.\n",
      "***** Running Evaluation *****\n",
      "  Num examples = 82\n",
      "  Batch size = 1024\n"
     ]
    },
    {
     "name": "stdout",
     "output_type": "stream",
     "text": [
      "{'loss': 0.2647, 'grad_norm': 1.631649136543274, 'learning_rate': 3.3333333333333335e-05, 'epoch': 10.0}\n"
     ]
    },
    {
     "data": {
      "application/vnd.jupyter.widget-view+json": {
       "model_id": "a4032adf834140c5ba02c3ad4214c829",
       "version_major": 2,
       "version_minor": 0
      },
      "text/plain": [
       "  0%|          | 0/1 [00:00<?, ?it/s]"
      ]
     },
     "metadata": {},
     "output_type": "display_data"
    },
    {
     "name": "stderr",
     "output_type": "stream",
     "text": [
      "Saving model checkpoint to ./distilbert_clf_dietary_new_data/results/tmp-checkpoint-10\n",
      "Configuration saved in ./distilbert_clf_dietary_new_data/results/tmp-checkpoint-10/config.json\n"
     ]
    },
    {
     "name": "stdout",
     "output_type": "stream",
     "text": [
      "{'eval_loss': 0.3311857581138611, 'eval_accuracy': 0.8658536585365854, 'eval_runtime': 0.1051, 'eval_samples_per_second': 780.449, 'eval_steps_per_second': 9.518, 'epoch': 10.0}\n"
     ]
    },
    {
     "name": "stderr",
     "output_type": "stream",
     "text": [
      "Model weights saved in ./distilbert_clf_dietary_new_data/results/tmp-checkpoint-10/model.safetensors\n",
      "The following columns in the evaluation set don't have a corresponding argument in `DistilBertForSequenceClassification.forward` and have been ignored: utterance, label_txt. If utterance, label_txt are not expected by `DistilBertForSequenceClassification.forward`,  you can safely ignore this message.\n",
      "***** Running Evaluation *****\n",
      "  Num examples = 82\n",
      "  Batch size = 1024\n"
     ]
    },
    {
     "name": "stdout",
     "output_type": "stream",
     "text": [
      "{'loss': 0.2571, 'grad_norm': 4.69238805770874, 'learning_rate': 3.1666666666666666e-05, 'epoch': 11.0}\n"
     ]
    },
    {
     "data": {
      "application/vnd.jupyter.widget-view+json": {
       "model_id": "4bf8bac71c8143b3bb179316b7513cf8",
       "version_major": 2,
       "version_minor": 0
      },
      "text/plain": [
       "  0%|          | 0/1 [00:00<?, ?it/s]"
      ]
     },
     "metadata": {},
     "output_type": "display_data"
    },
    {
     "name": "stderr",
     "output_type": "stream",
     "text": [
      "Saving model checkpoint to ./distilbert_clf_dietary_new_data/results/tmp-checkpoint-11\n",
      "Configuration saved in ./distilbert_clf_dietary_new_data/results/tmp-checkpoint-11/config.json\n"
     ]
    },
    {
     "name": "stdout",
     "output_type": "stream",
     "text": [
      "{'eval_loss': 0.32779863476753235, 'eval_accuracy': 0.8658536585365854, 'eval_runtime': 0.1041, 'eval_samples_per_second': 788.06, 'eval_steps_per_second': 9.61, 'epoch': 11.0}\n"
     ]
    },
    {
     "name": "stderr",
     "output_type": "stream",
     "text": [
      "Model weights saved in ./distilbert_clf_dietary_new_data/results/tmp-checkpoint-11/model.safetensors\n",
      "The following columns in the evaluation set don't have a corresponding argument in `DistilBertForSequenceClassification.forward` and have been ignored: utterance, label_txt. If utterance, label_txt are not expected by `DistilBertForSequenceClassification.forward`,  you can safely ignore this message.\n",
      "***** Running Evaluation *****\n",
      "  Num examples = 82\n",
      "  Batch size = 1024\n"
     ]
    },
    {
     "name": "stdout",
     "output_type": "stream",
     "text": [
      "{'loss': 0.2225, 'grad_norm': 4.085119724273682, 'learning_rate': 3e-05, 'epoch': 12.0}\n"
     ]
    },
    {
     "data": {
      "application/vnd.jupyter.widget-view+json": {
       "model_id": "55cb71b2c70048fdbc6efd38a12afd90",
       "version_major": 2,
       "version_minor": 0
      },
      "text/plain": [
       "  0%|          | 0/1 [00:00<?, ?it/s]"
      ]
     },
     "metadata": {},
     "output_type": "display_data"
    },
    {
     "name": "stderr",
     "output_type": "stream",
     "text": [
      "Saving model checkpoint to ./distilbert_clf_dietary_new_data/results/tmp-checkpoint-12\n",
      "Configuration saved in ./distilbert_clf_dietary_new_data/results/tmp-checkpoint-12/config.json\n"
     ]
    },
    {
     "name": "stdout",
     "output_type": "stream",
     "text": [
      "{'eval_loss': 0.2916436195373535, 'eval_accuracy': 0.8780487804878049, 'eval_runtime': 0.1079, 'eval_samples_per_second': 759.927, 'eval_steps_per_second': 9.267, 'epoch': 12.0}\n"
     ]
    },
    {
     "name": "stderr",
     "output_type": "stream",
     "text": [
      "Model weights saved in ./distilbert_clf_dietary_new_data/results/tmp-checkpoint-12/model.safetensors\n",
      "The following columns in the evaluation set don't have a corresponding argument in `DistilBertForSequenceClassification.forward` and have been ignored: utterance, label_txt. If utterance, label_txt are not expected by `DistilBertForSequenceClassification.forward`,  you can safely ignore this message.\n",
      "***** Running Evaluation *****\n",
      "  Num examples = 82\n",
      "  Batch size = 1024\n"
     ]
    },
    {
     "name": "stdout",
     "output_type": "stream",
     "text": [
      "{'loss': 0.1878, 'grad_norm': 1.626528024673462, 'learning_rate': 2.8333333333333335e-05, 'epoch': 13.0}\n"
     ]
    },
    {
     "data": {
      "application/vnd.jupyter.widget-view+json": {
       "model_id": "eb5a01c99ec942158db498e76cc14c04",
       "version_major": 2,
       "version_minor": 0
      },
      "text/plain": [
       "  0%|          | 0/1 [00:00<?, ?it/s]"
      ]
     },
     "metadata": {},
     "output_type": "display_data"
    },
    {
     "name": "stderr",
     "output_type": "stream",
     "text": [
      "Saving model checkpoint to ./distilbert_clf_dietary_new_data/results/tmp-checkpoint-13\n",
      "Configuration saved in ./distilbert_clf_dietary_new_data/results/tmp-checkpoint-13/config.json\n"
     ]
    },
    {
     "name": "stdout",
     "output_type": "stream",
     "text": [
      "{'eval_loss': 0.3084199130535126, 'eval_accuracy': 0.8902439024390244, 'eval_runtime': 0.1056, 'eval_samples_per_second': 776.59, 'eval_steps_per_second': 9.471, 'epoch': 13.0}\n"
     ]
    },
    {
     "name": "stderr",
     "output_type": "stream",
     "text": [
      "Model weights saved in ./distilbert_clf_dietary_new_data/results/tmp-checkpoint-13/model.safetensors\n",
      "The following columns in the evaluation set don't have a corresponding argument in `DistilBertForSequenceClassification.forward` and have been ignored: utterance, label_txt. If utterance, label_txt are not expected by `DistilBertForSequenceClassification.forward`,  you can safely ignore this message.\n",
      "***** Running Evaluation *****\n",
      "  Num examples = 82\n",
      "  Batch size = 1024\n"
     ]
    },
    {
     "name": "stdout",
     "output_type": "stream",
     "text": [
      "{'loss': 0.1787, 'grad_norm': 5.096836090087891, 'learning_rate': 2.6666666666666667e-05, 'epoch': 14.0}\n"
     ]
    },
    {
     "data": {
      "application/vnd.jupyter.widget-view+json": {
       "model_id": "7fdc6993f22b464bad5bca7ad6c4d230",
       "version_major": 2,
       "version_minor": 0
      },
      "text/plain": [
       "  0%|          | 0/1 [00:00<?, ?it/s]"
      ]
     },
     "metadata": {},
     "output_type": "display_data"
    },
    {
     "name": "stderr",
     "output_type": "stream",
     "text": [
      "Saving model checkpoint to ./distilbert_clf_dietary_new_data/results/tmp-checkpoint-14\n",
      "Configuration saved in ./distilbert_clf_dietary_new_data/results/tmp-checkpoint-14/config.json\n"
     ]
    },
    {
     "name": "stdout",
     "output_type": "stream",
     "text": [
      "{'eval_loss': 0.32042548060417175, 'eval_accuracy': 0.8780487804878049, 'eval_runtime': 0.1082, 'eval_samples_per_second': 757.673, 'eval_steps_per_second': 9.24, 'epoch': 14.0}\n"
     ]
    },
    {
     "name": "stderr",
     "output_type": "stream",
     "text": [
      "Model weights saved in ./distilbert_clf_dietary_new_data/results/tmp-checkpoint-14/model.safetensors\n",
      "The following columns in the evaluation set don't have a corresponding argument in `DistilBertForSequenceClassification.forward` and have been ignored: utterance, label_txt. If utterance, label_txt are not expected by `DistilBertForSequenceClassification.forward`,  you can safely ignore this message.\n",
      "***** Running Evaluation *****\n",
      "  Num examples = 82\n",
      "  Batch size = 1024\n"
     ]
    },
    {
     "name": "stdout",
     "output_type": "stream",
     "text": [
      "{'loss': 0.1952, 'grad_norm': 7.075080871582031, 'learning_rate': 2.5e-05, 'epoch': 15.0}\n"
     ]
    },
    {
     "data": {
      "application/vnd.jupyter.widget-view+json": {
       "model_id": "e208863ccc354b609e789208af2fe5b0",
       "version_major": 2,
       "version_minor": 0
      },
      "text/plain": [
       "  0%|          | 0/1 [00:00<?, ?it/s]"
      ]
     },
     "metadata": {},
     "output_type": "display_data"
    },
    {
     "name": "stderr",
     "output_type": "stream",
     "text": [
      "Saving model checkpoint to ./distilbert_clf_dietary_new_data/results/tmp-checkpoint-15\n",
      "Configuration saved in ./distilbert_clf_dietary_new_data/results/tmp-checkpoint-15/config.json\n"
     ]
    },
    {
     "name": "stdout",
     "output_type": "stream",
     "text": [
      "{'eval_loss': 0.2928704619407654, 'eval_accuracy': 0.8902439024390244, 'eval_runtime': 0.1081, 'eval_samples_per_second': 758.74, 'eval_steps_per_second': 9.253, 'epoch': 15.0}\n"
     ]
    },
    {
     "name": "stderr",
     "output_type": "stream",
     "text": [
      "Model weights saved in ./distilbert_clf_dietary_new_data/results/tmp-checkpoint-15/model.safetensors\n",
      "The following columns in the evaluation set don't have a corresponding argument in `DistilBertForSequenceClassification.forward` and have been ignored: utterance, label_txt. If utterance, label_txt are not expected by `DistilBertForSequenceClassification.forward`,  you can safely ignore this message.\n",
      "***** Running Evaluation *****\n",
      "  Num examples = 82\n",
      "  Batch size = 1024\n"
     ]
    },
    {
     "name": "stdout",
     "output_type": "stream",
     "text": [
      "{'loss': 0.1526, 'grad_norm': 3.8979454040527344, 'learning_rate': 2.3333333333333336e-05, 'epoch': 16.0}\n"
     ]
    },
    {
     "data": {
      "application/vnd.jupyter.widget-view+json": {
       "model_id": "4dfa0b7644f94259ba1a347be9030390",
       "version_major": 2,
       "version_minor": 0
      },
      "text/plain": [
       "  0%|          | 0/1 [00:00<?, ?it/s]"
      ]
     },
     "metadata": {},
     "output_type": "display_data"
    },
    {
     "name": "stderr",
     "output_type": "stream",
     "text": [
      "Saving model checkpoint to ./distilbert_clf_dietary_new_data/results/tmp-checkpoint-16\n",
      "Configuration saved in ./distilbert_clf_dietary_new_data/results/tmp-checkpoint-16/config.json\n"
     ]
    },
    {
     "name": "stdout",
     "output_type": "stream",
     "text": [
      "{'eval_loss': 0.2621161639690399, 'eval_accuracy': 0.9146341463414634, 'eval_runtime': 0.1073, 'eval_samples_per_second': 764.007, 'eval_steps_per_second': 9.317, 'epoch': 16.0}\n"
     ]
    },
    {
     "name": "stderr",
     "output_type": "stream",
     "text": [
      "Model weights saved in ./distilbert_clf_dietary_new_data/results/tmp-checkpoint-16/model.safetensors\n",
      "The following columns in the evaluation set don't have a corresponding argument in `DistilBertForSequenceClassification.forward` and have been ignored: utterance, label_txt. If utterance, label_txt are not expected by `DistilBertForSequenceClassification.forward`,  you can safely ignore this message.\n",
      "***** Running Evaluation *****\n",
      "  Num examples = 82\n",
      "  Batch size = 1024\n"
     ]
    },
    {
     "name": "stdout",
     "output_type": "stream",
     "text": [
      "{'loss': 0.1307, 'grad_norm': 1.2003003358840942, 'learning_rate': 2.1666666666666667e-05, 'epoch': 17.0}\n"
     ]
    },
    {
     "data": {
      "application/vnd.jupyter.widget-view+json": {
       "model_id": "1e8faae2413543e7b2b1f99b1f9c9bab",
       "version_major": 2,
       "version_minor": 0
      },
      "text/plain": [
       "  0%|          | 0/1 [00:00<?, ?it/s]"
      ]
     },
     "metadata": {},
     "output_type": "display_data"
    },
    {
     "name": "stderr",
     "output_type": "stream",
     "text": [
      "Saving model checkpoint to ./distilbert_clf_dietary_new_data/results/tmp-checkpoint-17\n",
      "Configuration saved in ./distilbert_clf_dietary_new_data/results/tmp-checkpoint-17/config.json\n"
     ]
    },
    {
     "name": "stdout",
     "output_type": "stream",
     "text": [
      "{'eval_loss': 0.265697717666626, 'eval_accuracy': 0.8780487804878049, 'eval_runtime': 0.0985, 'eval_samples_per_second': 832.149, 'eval_steps_per_second': 10.148, 'epoch': 17.0}\n"
     ]
    },
    {
     "name": "stderr",
     "output_type": "stream",
     "text": [
      "Model weights saved in ./distilbert_clf_dietary_new_data/results/tmp-checkpoint-17/model.safetensors\n",
      "The following columns in the evaluation set don't have a corresponding argument in `DistilBertForSequenceClassification.forward` and have been ignored: utterance, label_txt. If utterance, label_txt are not expected by `DistilBertForSequenceClassification.forward`,  you can safely ignore this message.\n",
      "***** Running Evaluation *****\n",
      "  Num examples = 82\n",
      "  Batch size = 1024\n"
     ]
    },
    {
     "name": "stdout",
     "output_type": "stream",
     "text": [
      "{'loss': 0.1327, 'grad_norm': 2.8247456550598145, 'learning_rate': 2e-05, 'epoch': 18.0}\n"
     ]
    },
    {
     "data": {
      "application/vnd.jupyter.widget-view+json": {
       "model_id": "33c4a2fbf0ca4dfc9db17397b14585df",
       "version_major": 2,
       "version_minor": 0
      },
      "text/plain": [
       "  0%|          | 0/1 [00:00<?, ?it/s]"
      ]
     },
     "metadata": {},
     "output_type": "display_data"
    },
    {
     "name": "stderr",
     "output_type": "stream",
     "text": [
      "Saving model checkpoint to ./distilbert_clf_dietary_new_data/results/tmp-checkpoint-18\n",
      "Configuration saved in ./distilbert_clf_dietary_new_data/results/tmp-checkpoint-18/config.json\n"
     ]
    },
    {
     "name": "stdout",
     "output_type": "stream",
     "text": [
      "{'eval_loss': 0.2640610337257385, 'eval_accuracy': 0.8902439024390244, 'eval_runtime': 0.1091, 'eval_samples_per_second': 751.308, 'eval_steps_per_second': 9.162, 'epoch': 18.0}\n"
     ]
    },
    {
     "name": "stderr",
     "output_type": "stream",
     "text": [
      "Model weights saved in ./distilbert_clf_dietary_new_data/results/tmp-checkpoint-18/model.safetensors\n",
      "The following columns in the evaluation set don't have a corresponding argument in `DistilBertForSequenceClassification.forward` and have been ignored: utterance, label_txt. If utterance, label_txt are not expected by `DistilBertForSequenceClassification.forward`,  you can safely ignore this message.\n",
      "***** Running Evaluation *****\n",
      "  Num examples = 82\n",
      "  Batch size = 1024\n"
     ]
    },
    {
     "name": "stdout",
     "output_type": "stream",
     "text": [
      "{'loss': 0.1217, 'grad_norm': 3.0747203826904297, 'learning_rate': 1.8333333333333333e-05, 'epoch': 19.0}\n"
     ]
    },
    {
     "data": {
      "application/vnd.jupyter.widget-view+json": {
       "model_id": "73d99f14d0ec49069cb4834d518a1d54",
       "version_major": 2,
       "version_minor": 0
      },
      "text/plain": [
       "  0%|          | 0/1 [00:00<?, ?it/s]"
      ]
     },
     "metadata": {},
     "output_type": "display_data"
    },
    {
     "name": "stderr",
     "output_type": "stream",
     "text": [
      "Saving model checkpoint to ./distilbert_clf_dietary_new_data/results/tmp-checkpoint-19\n",
      "Configuration saved in ./distilbert_clf_dietary_new_data/results/tmp-checkpoint-19/config.json\n"
     ]
    },
    {
     "name": "stdout",
     "output_type": "stream",
     "text": [
      "{'eval_loss': 0.26180559396743774, 'eval_accuracy': 0.9146341463414634, 'eval_runtime': 0.1064, 'eval_samples_per_second': 770.554, 'eval_steps_per_second': 9.397, 'epoch': 19.0}\n"
     ]
    },
    {
     "name": "stderr",
     "output_type": "stream",
     "text": [
      "Model weights saved in ./distilbert_clf_dietary_new_data/results/tmp-checkpoint-19/model.safetensors\n",
      "The following columns in the evaluation set don't have a corresponding argument in `DistilBertForSequenceClassification.forward` and have been ignored: utterance, label_txt. If utterance, label_txt are not expected by `DistilBertForSequenceClassification.forward`,  you can safely ignore this message.\n",
      "***** Running Evaluation *****\n",
      "  Num examples = 82\n",
      "  Batch size = 1024\n"
     ]
    },
    {
     "name": "stdout",
     "output_type": "stream",
     "text": [
      "{'loss': 0.1088, 'grad_norm': 1.4896740913391113, 'learning_rate': 1.6666666666666667e-05, 'epoch': 20.0}\n"
     ]
    },
    {
     "data": {
      "application/vnd.jupyter.widget-view+json": {
       "model_id": "1657fcf73c994bccb6a0e3e7cd4f4d2c",
       "version_major": 2,
       "version_minor": 0
      },
      "text/plain": [
       "  0%|          | 0/1 [00:00<?, ?it/s]"
      ]
     },
     "metadata": {},
     "output_type": "display_data"
    },
    {
     "name": "stderr",
     "output_type": "stream",
     "text": [
      "Saving model checkpoint to ./distilbert_clf_dietary_new_data/results/tmp-checkpoint-20\n",
      "Configuration saved in ./distilbert_clf_dietary_new_data/results/tmp-checkpoint-20/config.json\n"
     ]
    },
    {
     "name": "stdout",
     "output_type": "stream",
     "text": [
      "{'eval_loss': 0.2882869839668274, 'eval_accuracy': 0.9146341463414634, 'eval_runtime': 0.1068, 'eval_samples_per_second': 767.517, 'eval_steps_per_second': 9.36, 'epoch': 20.0}\n"
     ]
    },
    {
     "name": "stderr",
     "output_type": "stream",
     "text": [
      "Model weights saved in ./distilbert_clf_dietary_new_data/results/tmp-checkpoint-20/model.safetensors\n",
      "The following columns in the evaluation set don't have a corresponding argument in `DistilBertForSequenceClassification.forward` and have been ignored: utterance, label_txt. If utterance, label_txt are not expected by `DistilBertForSequenceClassification.forward`,  you can safely ignore this message.\n",
      "***** Running Evaluation *****\n",
      "  Num examples = 82\n",
      "  Batch size = 1024\n"
     ]
    },
    {
     "name": "stdout",
     "output_type": "stream",
     "text": [
      "{'loss': 0.1076, 'grad_norm': 3.2049973011016846, 'learning_rate': 1.5e-05, 'epoch': 21.0}\n"
     ]
    },
    {
     "data": {
      "application/vnd.jupyter.widget-view+json": {
       "model_id": "46a8c35df21340c886c077b48d2b445e",
       "version_major": 2,
       "version_minor": 0
      },
      "text/plain": [
       "  0%|          | 0/1 [00:00<?, ?it/s]"
      ]
     },
     "metadata": {},
     "output_type": "display_data"
    },
    {
     "name": "stderr",
     "output_type": "stream",
     "text": [
      "Saving model checkpoint to ./distilbert_clf_dietary_new_data/results/tmp-checkpoint-21\n",
      "Configuration saved in ./distilbert_clf_dietary_new_data/results/tmp-checkpoint-21/config.json\n"
     ]
    },
    {
     "name": "stdout",
     "output_type": "stream",
     "text": [
      "{'eval_loss': 0.30504536628723145, 'eval_accuracy': 0.9024390243902439, 'eval_runtime': 0.105, 'eval_samples_per_second': 780.617, 'eval_steps_per_second': 9.52, 'epoch': 21.0}\n"
     ]
    },
    {
     "name": "stderr",
     "output_type": "stream",
     "text": [
      "Model weights saved in ./distilbert_clf_dietary_new_data/results/tmp-checkpoint-21/model.safetensors\n",
      "The following columns in the evaluation set don't have a corresponding argument in `DistilBertForSequenceClassification.forward` and have been ignored: utterance, label_txt. If utterance, label_txt are not expected by `DistilBertForSequenceClassification.forward`,  you can safely ignore this message.\n",
      "***** Running Evaluation *****\n",
      "  Num examples = 82\n",
      "  Batch size = 1024\n"
     ]
    },
    {
     "name": "stdout",
     "output_type": "stream",
     "text": [
      "{'loss': 0.0912, 'grad_norm': 3.025430917739868, 'learning_rate': 1.3333333333333333e-05, 'epoch': 22.0}\n"
     ]
    },
    {
     "data": {
      "application/vnd.jupyter.widget-view+json": {
       "model_id": "4f2251ad411947d1821fb002d014103c",
       "version_major": 2,
       "version_minor": 0
      },
      "text/plain": [
       "  0%|          | 0/1 [00:00<?, ?it/s]"
      ]
     },
     "metadata": {},
     "output_type": "display_data"
    },
    {
     "name": "stderr",
     "output_type": "stream",
     "text": [
      "Saving model checkpoint to ./distilbert_clf_dietary_new_data/results/tmp-checkpoint-22\n",
      "Configuration saved in ./distilbert_clf_dietary_new_data/results/tmp-checkpoint-22/config.json\n"
     ]
    },
    {
     "name": "stdout",
     "output_type": "stream",
     "text": [
      "{'eval_loss': 0.2994687259197235, 'eval_accuracy': 0.8902439024390244, 'eval_runtime': 0.1, 'eval_samples_per_second': 819.936, 'eval_steps_per_second': 9.999, 'epoch': 22.0}\n"
     ]
    },
    {
     "name": "stderr",
     "output_type": "stream",
     "text": [
      "Model weights saved in ./distilbert_clf_dietary_new_data/results/tmp-checkpoint-22/model.safetensors\n",
      "The following columns in the evaluation set don't have a corresponding argument in `DistilBertForSequenceClassification.forward` and have been ignored: utterance, label_txt. If utterance, label_txt are not expected by `DistilBertForSequenceClassification.forward`,  you can safely ignore this message.\n",
      "***** Running Evaluation *****\n",
      "  Num examples = 82\n",
      "  Batch size = 1024\n"
     ]
    },
    {
     "name": "stdout",
     "output_type": "stream",
     "text": [
      "{'loss': 0.0843, 'grad_norm': 1.8391567468643188, 'learning_rate': 1.1666666666666668e-05, 'epoch': 23.0}\n"
     ]
    },
    {
     "data": {
      "application/vnd.jupyter.widget-view+json": {
       "model_id": "2f2e0af5ffc04da7a02682deb03c0f0f",
       "version_major": 2,
       "version_minor": 0
      },
      "text/plain": [
       "  0%|          | 0/1 [00:00<?, ?it/s]"
      ]
     },
     "metadata": {},
     "output_type": "display_data"
    },
    {
     "name": "stderr",
     "output_type": "stream",
     "text": [
      "Saving model checkpoint to ./distilbert_clf_dietary_new_data/results/tmp-checkpoint-23\n",
      "Configuration saved in ./distilbert_clf_dietary_new_data/results/tmp-checkpoint-23/config.json\n"
     ]
    },
    {
     "name": "stdout",
     "output_type": "stream",
     "text": [
      "{'eval_loss': 0.28200048208236694, 'eval_accuracy': 0.9024390243902439, 'eval_runtime': 0.1048, 'eval_samples_per_second': 782.653, 'eval_steps_per_second': 9.545, 'epoch': 23.0}\n"
     ]
    },
    {
     "name": "stderr",
     "output_type": "stream",
     "text": [
      "Model weights saved in ./distilbert_clf_dietary_new_data/results/tmp-checkpoint-23/model.safetensors\n",
      "The following columns in the evaluation set don't have a corresponding argument in `DistilBertForSequenceClassification.forward` and have been ignored: utterance, label_txt. If utterance, label_txt are not expected by `DistilBertForSequenceClassification.forward`,  you can safely ignore this message.\n",
      "***** Running Evaluation *****\n",
      "  Num examples = 82\n",
      "  Batch size = 1024\n"
     ]
    },
    {
     "name": "stdout",
     "output_type": "stream",
     "text": [
      "{'loss': 0.0792, 'grad_norm': 1.7301015853881836, 'learning_rate': 1e-05, 'epoch': 24.0}\n"
     ]
    },
    {
     "data": {
      "application/vnd.jupyter.widget-view+json": {
       "model_id": "deeafea53afa4541988b1ac468ded46e",
       "version_major": 2,
       "version_minor": 0
      },
      "text/plain": [
       "  0%|          | 0/1 [00:00<?, ?it/s]"
      ]
     },
     "metadata": {},
     "output_type": "display_data"
    },
    {
     "name": "stderr",
     "output_type": "stream",
     "text": [
      "Saving model checkpoint to ./distilbert_clf_dietary_new_data/results/tmp-checkpoint-24\n",
      "Configuration saved in ./distilbert_clf_dietary_new_data/results/tmp-checkpoint-24/config.json\n"
     ]
    },
    {
     "name": "stdout",
     "output_type": "stream",
     "text": [
      "{'eval_loss': 0.27078598737716675, 'eval_accuracy': 0.9146341463414634, 'eval_runtime': 0.0994, 'eval_samples_per_second': 825.032, 'eval_steps_per_second': 10.061, 'epoch': 24.0}\n"
     ]
    },
    {
     "name": "stderr",
     "output_type": "stream",
     "text": [
      "Model weights saved in ./distilbert_clf_dietary_new_data/results/tmp-checkpoint-24/model.safetensors\n",
      "The following columns in the evaluation set don't have a corresponding argument in `DistilBertForSequenceClassification.forward` and have been ignored: utterance, label_txt. If utterance, label_txt are not expected by `DistilBertForSequenceClassification.forward`,  you can safely ignore this message.\n",
      "***** Running Evaluation *****\n",
      "  Num examples = 82\n",
      "  Batch size = 1024\n"
     ]
    },
    {
     "name": "stdout",
     "output_type": "stream",
     "text": [
      "{'loss': 0.0639, 'grad_norm': 0.7805399894714355, 'learning_rate': 8.333333333333334e-06, 'epoch': 25.0}\n"
     ]
    },
    {
     "data": {
      "application/vnd.jupyter.widget-view+json": {
       "model_id": "2dd0487e0f7141b5aaf194e52ddc7846",
       "version_major": 2,
       "version_minor": 0
      },
      "text/plain": [
       "  0%|          | 0/1 [00:00<?, ?it/s]"
      ]
     },
     "metadata": {},
     "output_type": "display_data"
    },
    {
     "name": "stderr",
     "output_type": "stream",
     "text": [
      "Saving model checkpoint to ./distilbert_clf_dietary_new_data/results/tmp-checkpoint-25\n",
      "Configuration saved in ./distilbert_clf_dietary_new_data/results/tmp-checkpoint-25/config.json\n"
     ]
    },
    {
     "name": "stdout",
     "output_type": "stream",
     "text": [
      "{'eval_loss': 0.2752014100551605, 'eval_accuracy': 0.9024390243902439, 'eval_runtime': 0.1033, 'eval_samples_per_second': 793.567, 'eval_steps_per_second': 9.678, 'epoch': 25.0}\n"
     ]
    },
    {
     "name": "stderr",
     "output_type": "stream",
     "text": [
      "Model weights saved in ./distilbert_clf_dietary_new_data/results/tmp-checkpoint-25/model.safetensors\n",
      "The following columns in the evaluation set don't have a corresponding argument in `DistilBertForSequenceClassification.forward` and have been ignored: utterance, label_txt. If utterance, label_txt are not expected by `DistilBertForSequenceClassification.forward`,  you can safely ignore this message.\n",
      "***** Running Evaluation *****\n",
      "  Num examples = 82\n",
      "  Batch size = 1024\n"
     ]
    },
    {
     "name": "stdout",
     "output_type": "stream",
     "text": [
      "{'loss': 0.0749, 'grad_norm': 2.186218738555908, 'learning_rate': 6.666666666666667e-06, 'epoch': 26.0}\n"
     ]
    },
    {
     "data": {
      "application/vnd.jupyter.widget-view+json": {
       "model_id": "a76b2fd9e9da4871a450fb747180735a",
       "version_major": 2,
       "version_minor": 0
      },
      "text/plain": [
       "  0%|          | 0/1 [00:00<?, ?it/s]"
      ]
     },
     "metadata": {},
     "output_type": "display_data"
    },
    {
     "name": "stderr",
     "output_type": "stream",
     "text": [
      "Saving model checkpoint to ./distilbert_clf_dietary_new_data/results/tmp-checkpoint-26\n",
      "Configuration saved in ./distilbert_clf_dietary_new_data/results/tmp-checkpoint-26/config.json\n"
     ]
    },
    {
     "name": "stdout",
     "output_type": "stream",
     "text": [
      "{'eval_loss': 0.28000378608703613, 'eval_accuracy': 0.9024390243902439, 'eval_runtime': 0.0993, 'eval_samples_per_second': 825.581, 'eval_steps_per_second': 10.068, 'epoch': 26.0}\n"
     ]
    },
    {
     "name": "stderr",
     "output_type": "stream",
     "text": [
      "Model weights saved in ./distilbert_clf_dietary_new_data/results/tmp-checkpoint-26/model.safetensors\n",
      "The following columns in the evaluation set don't have a corresponding argument in `DistilBertForSequenceClassification.forward` and have been ignored: utterance, label_txt. If utterance, label_txt are not expected by `DistilBertForSequenceClassification.forward`,  you can safely ignore this message.\n",
      "***** Running Evaluation *****\n",
      "  Num examples = 82\n",
      "  Batch size = 1024\n"
     ]
    },
    {
     "name": "stdout",
     "output_type": "stream",
     "text": [
      "{'loss': 0.0914, 'grad_norm': 4.3136162757873535, 'learning_rate': 5e-06, 'epoch': 27.0}\n"
     ]
    },
    {
     "data": {
      "application/vnd.jupyter.widget-view+json": {
       "model_id": "198949b1e9144b5fa31b82745b7d6937",
       "version_major": 2,
       "version_minor": 0
      },
      "text/plain": [
       "  0%|          | 0/1 [00:00<?, ?it/s]"
      ]
     },
     "metadata": {},
     "output_type": "display_data"
    },
    {
     "name": "stderr",
     "output_type": "stream",
     "text": [
      "Saving model checkpoint to ./distilbert_clf_dietary_new_data/results/tmp-checkpoint-27\n",
      "Configuration saved in ./distilbert_clf_dietary_new_data/results/tmp-checkpoint-27/config.json\n"
     ]
    },
    {
     "name": "stdout",
     "output_type": "stream",
     "text": [
      "{'eval_loss': 0.2806924879550934, 'eval_accuracy': 0.9024390243902439, 'eval_runtime': 0.1002, 'eval_samples_per_second': 818.699, 'eval_steps_per_second': 9.984, 'epoch': 27.0}\n"
     ]
    },
    {
     "name": "stderr",
     "output_type": "stream",
     "text": [
      "Model weights saved in ./distilbert_clf_dietary_new_data/results/tmp-checkpoint-27/model.safetensors\n",
      "The following columns in the evaluation set don't have a corresponding argument in `DistilBertForSequenceClassification.forward` and have been ignored: utterance, label_txt. If utterance, label_txt are not expected by `DistilBertForSequenceClassification.forward`,  you can safely ignore this message.\n",
      "***** Running Evaluation *****\n",
      "  Num examples = 82\n",
      "  Batch size = 1024\n"
     ]
    },
    {
     "name": "stdout",
     "output_type": "stream",
     "text": [
      "{'loss': 0.0637, 'grad_norm': 1.687484860420227, 'learning_rate': 3.3333333333333333e-06, 'epoch': 28.0}\n"
     ]
    },
    {
     "data": {
      "application/vnd.jupyter.widget-view+json": {
       "model_id": "70a2f84432ff41c681ae2ed0f467340f",
       "version_major": 2,
       "version_minor": 0
      },
      "text/plain": [
       "  0%|          | 0/1 [00:00<?, ?it/s]"
      ]
     },
     "metadata": {},
     "output_type": "display_data"
    },
    {
     "name": "stderr",
     "output_type": "stream",
     "text": [
      "Saving model checkpoint to ./distilbert_clf_dietary_new_data/results/tmp-checkpoint-28\n",
      "Configuration saved in ./distilbert_clf_dietary_new_data/results/tmp-checkpoint-28/config.json\n"
     ]
    },
    {
     "name": "stdout",
     "output_type": "stream",
     "text": [
      "{'eval_loss': 0.2804952561855316, 'eval_accuracy': 0.9024390243902439, 'eval_runtime': 0.1029, 'eval_samples_per_second': 796.944, 'eval_steps_per_second': 9.719, 'epoch': 28.0}\n"
     ]
    },
    {
     "name": "stderr",
     "output_type": "stream",
     "text": [
      "Model weights saved in ./distilbert_clf_dietary_new_data/results/tmp-checkpoint-28/model.safetensors\n",
      "The following columns in the evaluation set don't have a corresponding argument in `DistilBertForSequenceClassification.forward` and have been ignored: utterance, label_txt. If utterance, label_txt are not expected by `DistilBertForSequenceClassification.forward`,  you can safely ignore this message.\n",
      "***** Running Evaluation *****\n",
      "  Num examples = 82\n",
      "  Batch size = 1024\n"
     ]
    },
    {
     "name": "stdout",
     "output_type": "stream",
     "text": [
      "{'loss': 0.067, 'grad_norm': 1.687299132347107, 'learning_rate': 1.6666666666666667e-06, 'epoch': 29.0}\n"
     ]
    },
    {
     "data": {
      "application/vnd.jupyter.widget-view+json": {
       "model_id": "f462c075db044350a5ba5a696a45fc2e",
       "version_major": 2,
       "version_minor": 0
      },
      "text/plain": [
       "  0%|          | 0/1 [00:00<?, ?it/s]"
      ]
     },
     "metadata": {},
     "output_type": "display_data"
    },
    {
     "name": "stderr",
     "output_type": "stream",
     "text": [
      "Saving model checkpoint to ./distilbert_clf_dietary_new_data/results/tmp-checkpoint-29\n",
      "Configuration saved in ./distilbert_clf_dietary_new_data/results/tmp-checkpoint-29/config.json\n"
     ]
    },
    {
     "name": "stdout",
     "output_type": "stream",
     "text": [
      "{'eval_loss': 0.280972421169281, 'eval_accuracy': 0.9146341463414634, 'eval_runtime': 0.0998, 'eval_samples_per_second': 821.998, 'eval_steps_per_second': 10.024, 'epoch': 29.0}\n"
     ]
    },
    {
     "name": "stderr",
     "output_type": "stream",
     "text": [
      "Model weights saved in ./distilbert_clf_dietary_new_data/results/tmp-checkpoint-29/model.safetensors\n",
      "The following columns in the evaluation set don't have a corresponding argument in `DistilBertForSequenceClassification.forward` and have been ignored: utterance, label_txt. If utterance, label_txt are not expected by `DistilBertForSequenceClassification.forward`,  you can safely ignore this message.\n",
      "***** Running Evaluation *****\n",
      "  Num examples = 82\n",
      "  Batch size = 1024\n"
     ]
    },
    {
     "name": "stdout",
     "output_type": "stream",
     "text": [
      "{'loss': 0.0637, 'grad_norm': 1.0627294778823853, 'learning_rate': 0.0, 'epoch': 30.0}\n"
     ]
    },
    {
     "data": {
      "application/vnd.jupyter.widget-view+json": {
       "model_id": "28c134220f5445abaefbf79b9a349539",
       "version_major": 2,
       "version_minor": 0
      },
      "text/plain": [
       "  0%|          | 0/1 [00:00<?, ?it/s]"
      ]
     },
     "metadata": {},
     "output_type": "display_data"
    },
    {
     "name": "stderr",
     "output_type": "stream",
     "text": [
      "Saving model checkpoint to ./distilbert_clf_dietary_new_data/results/tmp-checkpoint-30\n",
      "Configuration saved in ./distilbert_clf_dietary_new_data/results/tmp-checkpoint-30/config.json\n"
     ]
    },
    {
     "name": "stdout",
     "output_type": "stream",
     "text": [
      "{'eval_loss': 0.2817882299423218, 'eval_accuracy': 0.9146341463414634, 'eval_runtime': 0.1056, 'eval_samples_per_second': 776.521, 'eval_steps_per_second': 9.47, 'epoch': 30.0}\n"
     ]
    },
    {
     "name": "stderr",
     "output_type": "stream",
     "text": [
      "Model weights saved in ./distilbert_clf_dietary_new_data/results/tmp-checkpoint-30/model.safetensors\n",
      "\n",
      "\n",
      "Training completed. Do not forget to share your model on huggingface.co/models =)\n",
      "\n",
      "\n",
      "Loading best model from ./distilbert_clf_dietary_new_data/results/checkpoint-19 (score: 0.26180559396743774).\n"
     ]
    },
    {
     "name": "stdout",
     "output_type": "stream",
     "text": [
      "{'train_runtime': 85.9399, 'train_samples_per_second': 114.149, 'train_steps_per_second': 0.349, 'train_loss': 0.2352274959286054, 'epoch': 30.0}\n"
     ]
    },
    {
     "data": {
      "text/plain": [
       "TrainOutput(global_step=30, training_loss=0.2352274959286054, metrics={'train_runtime': 85.9399, 'train_samples_per_second': 114.149, 'train_steps_per_second': 0.349, 'train_loss': 0.2352274959286054, 'epoch': 30.0})"
      ]
     },
     "execution_count": 66,
     "metadata": {},
     "output_type": "execute_result"
    }
   ],
   "source": [
    "trainer.train()"
   ]
  },
  {
   "cell_type": "code",
   "execution_count": 67,
   "metadata": {},
   "outputs": [
    {
     "name": "stderr",
     "output_type": "stream",
     "text": [
      "The following columns in the evaluation set don't have a corresponding argument in `DistilBertForSequenceClassification.forward` and have been ignored: utterance, label_txt. If utterance, label_txt are not expected by `DistilBertForSequenceClassification.forward`,  you can safely ignore this message.\n",
      "***** Running Evaluation *****\n",
      "  Num examples = 82\n",
      "  Batch size = 1024\n"
     ]
    },
    {
     "data": {
      "application/vnd.jupyter.widget-view+json": {
       "model_id": "1a1264eb9c544a75b9deec69404a516a",
       "version_major": 2,
       "version_minor": 0
      },
      "text/plain": [
       "  0%|          | 0/1 [00:00<?, ?it/s]"
      ]
     },
     "metadata": {},
     "output_type": "display_data"
    },
    {
     "data": {
      "text/plain": [
       "{'eval_loss': 0.26180559396743774,\n",
       " 'eval_accuracy': 0.9146341463414634,\n",
       " 'eval_runtime': 0.2586,\n",
       " 'eval_samples_per_second': 317.127,\n",
       " 'eval_steps_per_second': 3.867,\n",
       " 'epoch': 30.0}"
      ]
     },
     "execution_count": 67,
     "metadata": {},
     "output_type": "execute_result"
    }
   ],
   "source": [
    "trainer.evaluate()"
   ]
  },
  {
   "cell_type": "code",
   "execution_count": 68,
   "metadata": {},
   "outputs": [
    {
     "name": "stderr",
     "output_type": "stream",
     "text": [
      "Saving model checkpoint to ./distilbert_clf_dietary_new_data/results\n",
      "Configuration saved in ./distilbert_clf_dietary_new_data/results/config.json\n",
      "Model weights saved in ./distilbert_clf_dietary_new_data/results/model.safetensors\n"
     ]
    }
   ],
   "source": [
    "trainer.save_model()"
   ]
  },
  {
   "cell_type": "code",
   "execution_count": 69,
   "metadata": {},
   "outputs": [
    {
     "data": {
      "text/plain": [
       "[{'label': 'Non-Veg', 'score': 0.9453746676445007}]"
      ]
     },
     "execution_count": 69,
     "metadata": {},
     "output_type": "execute_result"
    }
   ],
   "source": [
    "pipe = pipeline(\"text-classification\", seq_clf_mdl, tokenizer=tokenizer)\n",
    "pipe(\"Chicken 65 is a popular Indian dish known for its distinct flavor and unique preparation method. Originating from Chennai, this spicy and deep-fried chicken dish is a favorite among food enthusiasts. The dish gets its intriguing name from the year it was introduced at the famous Buhari Hotel in Chennai. The exact recipe for Chicken 65 can vary depending on the region and the chef, but typically involves marinating bite-sized chicken pieces in a blend of spices, including red chili powder, turmeric, ginger, garlic, and curry leaves. The marinated chicken is then deep-fried to achieve a crispy texture on the outside while remaining tender and juicy on the inside. Some variations of Chicken 65 may include the addition of yogurt or vinegar to enhance the tangy flavor. Once fried to perfection, the chicken is often garnished with fresh cilantro, onion slices, and lemon wedges before serving. The combination of spicy, tangy, and flavorful elements makes Chicken 65 a beloved dish that is commonly enjoyed as a starter or appetizer. It pairs well with refreshing beverages like lemonade or a cold beer. Whether served at a casual gathering or a festive celebration, Chicken 65 never fails to impress with its bold flavors and tantalizing aroma. Despite its fiery reputation, this dish continues to captivate food lovers with its perfect balance of heat and taste. Chicken 65 has even inspired variations such as paneer 65 for vegetarians, further cementing its legacy as a must-try dish in Indian cuisine.\")"
   ]
  },
  {
   "cell_type": "code",
   "execution_count": 71,
   "metadata": {},
   "outputs": [
    {
     "data": {
      "text/plain": [
       "(82, 3)"
      ]
     },
     "execution_count": 71,
     "metadata": {},
     "output_type": "execute_result"
    }
   ],
   "source": [
    "pred_df = pd.DataFrame(myData['test'], columns=['utterance', 'input_ids', 'attention_mask', 'label_txt', 'label'])\n",
    "pred_df.drop(columns=['input_ids', 'attention_mask'], inplace=True)\n",
    "pred_df.shape"
   ]
  },
  {
   "cell_type": "code",
   "execution_count": 72,
   "metadata": {},
   "outputs": [
    {
     "data": {
      "application/vnd.jupyter.widget-view+json": {
       "model_id": "9444ad76e99c476fb2f56ebd3ba15d0f",
       "version_major": 2,
       "version_minor": 0
      },
      "text/plain": [
       "  0%|          | 0/30 [00:00<?, ?it/s]"
      ]
     },
     "metadata": {},
     "output_type": "display_data"
    },
    {
     "name": "stderr",
     "output_type": "stream",
     "text": [
      "loading configuration file ./distilbert_clf_dietary_new_data/results/checkpoint-1/config.json\n",
      "Model config DistilBertConfig {\n",
      "  \"_name_or_path\": \"new_distilbert_clf_dietary/results/checkpoint-11/\",\n",
      "  \"activation\": \"gelu\",\n",
      "  \"architectures\": [\n",
      "    \"DistilBertForSequenceClassification\"\n",
      "  ],\n",
      "  \"attention_dropout\": 0.1,\n",
      "  \"dim\": 768,\n",
      "  \"dropout\": 0.1,\n",
      "  \"hidden_dim\": 3072,\n",
      "  \"id2label\": {\n",
      "    \"0\": \"Veg\",\n",
      "    \"1\": \"Non-Veg\"\n",
      "  },\n",
      "  \"initializer_range\": 0.02,\n",
      "  \"label2id\": null,\n",
      "  \"max_position_embeddings\": 512,\n",
      "  \"model_type\": \"distilbert\",\n",
      "  \"n_heads\": 12,\n",
      "  \"n_layers\": 6,\n",
      "  \"pad_token_id\": 0,\n",
      "  \"problem_type\": \"single_label_classification\",\n",
      "  \"qa_dropout\": 0.1,\n",
      "  \"seq_classif_dropout\": 0.2,\n",
      "  \"sinusoidal_pos_embds\": false,\n",
      "  \"tie_weights_\": true,\n",
      "  \"torch_dtype\": \"float32\",\n",
      "  \"transformers_version\": \"4.38.2\",\n",
      "  \"vocab_size\": 30522\n",
      "}\n",
      "\n",
      "loading weights file ./distilbert_clf_dietary_new_data/results/checkpoint-1/model.safetensors\n",
      "All model checkpoint weights were used when initializing DistilBertForSequenceClassification.\n",
      "\n",
      "All the weights of DistilBertForSequenceClassification were initialized from the model checkpoint at ./distilbert_clf_dietary_new_data/results/checkpoint-1/.\n",
      "If your task is similar to the task the model of the checkpoint was trained on, you can already use DistilBertForSequenceClassification for predictions without further training.\n",
      "loading configuration file ./distilbert_clf_dietary_new_data/results/checkpoint-2/config.json\n",
      "Model config DistilBertConfig {\n",
      "  \"_name_or_path\": \"new_distilbert_clf_dietary/results/checkpoint-11/\",\n",
      "  \"activation\": \"gelu\",\n",
      "  \"architectures\": [\n",
      "    \"DistilBertForSequenceClassification\"\n",
      "  ],\n",
      "  \"attention_dropout\": 0.1,\n",
      "  \"dim\": 768,\n",
      "  \"dropout\": 0.1,\n",
      "  \"hidden_dim\": 3072,\n",
      "  \"id2label\": {\n",
      "    \"0\": \"Veg\",\n",
      "    \"1\": \"Non-Veg\"\n",
      "  },\n",
      "  \"initializer_range\": 0.02,\n",
      "  \"label2id\": null,\n",
      "  \"max_position_embeddings\": 512,\n",
      "  \"model_type\": \"distilbert\",\n",
      "  \"n_heads\": 12,\n",
      "  \"n_layers\": 6,\n",
      "  \"pad_token_id\": 0,\n",
      "  \"problem_type\": \"single_label_classification\",\n",
      "  \"qa_dropout\": 0.1,\n",
      "  \"seq_classif_dropout\": 0.2,\n",
      "  \"sinusoidal_pos_embds\": false,\n",
      "  \"tie_weights_\": true,\n",
      "  \"torch_dtype\": \"float32\",\n",
      "  \"transformers_version\": \"4.38.2\",\n",
      "  \"vocab_size\": 30522\n",
      "}\n",
      "\n",
      "loading weights file ./distilbert_clf_dietary_new_data/results/checkpoint-2/model.safetensors\n",
      "All model checkpoint weights were used when initializing DistilBertForSequenceClassification.\n",
      "\n",
      "All the weights of DistilBertForSequenceClassification were initialized from the model checkpoint at ./distilbert_clf_dietary_new_data/results/checkpoint-2/.\n",
      "If your task is similar to the task the model of the checkpoint was trained on, you can already use DistilBertForSequenceClassification for predictions without further training.\n",
      "loading configuration file ./distilbert_clf_dietary_new_data/results/checkpoint-3/config.json\n",
      "Model config DistilBertConfig {\n",
      "  \"_name_or_path\": \"new_distilbert_clf_dietary/results/checkpoint-11/\",\n",
      "  \"activation\": \"gelu\",\n",
      "  \"architectures\": [\n",
      "    \"DistilBertForSequenceClassification\"\n",
      "  ],\n",
      "  \"attention_dropout\": 0.1,\n",
      "  \"dim\": 768,\n",
      "  \"dropout\": 0.1,\n",
      "  \"hidden_dim\": 3072,\n",
      "  \"id2label\": {\n",
      "    \"0\": \"Veg\",\n",
      "    \"1\": \"Non-Veg\"\n",
      "  },\n",
      "  \"initializer_range\": 0.02,\n",
      "  \"label2id\": null,\n",
      "  \"max_position_embeddings\": 512,\n",
      "  \"model_type\": \"distilbert\",\n",
      "  \"n_heads\": 12,\n",
      "  \"n_layers\": 6,\n",
      "  \"pad_token_id\": 0,\n",
      "  \"problem_type\": \"single_label_classification\",\n",
      "  \"qa_dropout\": 0.1,\n",
      "  \"seq_classif_dropout\": 0.2,\n",
      "  \"sinusoidal_pos_embds\": false,\n",
      "  \"tie_weights_\": true,\n",
      "  \"torch_dtype\": \"float32\",\n",
      "  \"transformers_version\": \"4.38.2\",\n",
      "  \"vocab_size\": 30522\n",
      "}\n",
      "\n",
      "loading weights file ./distilbert_clf_dietary_new_data/results/checkpoint-3/model.safetensors\n",
      "All model checkpoint weights were used when initializing DistilBertForSequenceClassification.\n",
      "\n",
      "All the weights of DistilBertForSequenceClassification were initialized from the model checkpoint at ./distilbert_clf_dietary_new_data/results/checkpoint-3/.\n",
      "If your task is similar to the task the model of the checkpoint was trained on, you can already use DistilBertForSequenceClassification for predictions without further training.\n",
      "loading configuration file ./distilbert_clf_dietary_new_data/results/checkpoint-4/config.json\n",
      "Model config DistilBertConfig {\n",
      "  \"_name_or_path\": \"new_distilbert_clf_dietary/results/checkpoint-11/\",\n",
      "  \"activation\": \"gelu\",\n",
      "  \"architectures\": [\n",
      "    \"DistilBertForSequenceClassification\"\n",
      "  ],\n",
      "  \"attention_dropout\": 0.1,\n",
      "  \"dim\": 768,\n",
      "  \"dropout\": 0.1,\n",
      "  \"hidden_dim\": 3072,\n",
      "  \"id2label\": {\n",
      "    \"0\": \"Veg\",\n",
      "    \"1\": \"Non-Veg\"\n",
      "  },\n",
      "  \"initializer_range\": 0.02,\n",
      "  \"label2id\": null,\n",
      "  \"max_position_embeddings\": 512,\n",
      "  \"model_type\": \"distilbert\",\n",
      "  \"n_heads\": 12,\n",
      "  \"n_layers\": 6,\n",
      "  \"pad_token_id\": 0,\n",
      "  \"problem_type\": \"single_label_classification\",\n",
      "  \"qa_dropout\": 0.1,\n",
      "  \"seq_classif_dropout\": 0.2,\n",
      "  \"sinusoidal_pos_embds\": false,\n",
      "  \"tie_weights_\": true,\n",
      "  \"torch_dtype\": \"float32\",\n",
      "  \"transformers_version\": \"4.38.2\",\n",
      "  \"vocab_size\": 30522\n",
      "}\n",
      "\n",
      "loading weights file ./distilbert_clf_dietary_new_data/results/checkpoint-4/model.safetensors\n",
      "All model checkpoint weights were used when initializing DistilBertForSequenceClassification.\n",
      "\n",
      "All the weights of DistilBertForSequenceClassification were initialized from the model checkpoint at ./distilbert_clf_dietary_new_data/results/checkpoint-4/.\n",
      "If your task is similar to the task the model of the checkpoint was trained on, you can already use DistilBertForSequenceClassification for predictions without further training.\n",
      "loading configuration file ./distilbert_clf_dietary_new_data/results/checkpoint-5/config.json\n",
      "Model config DistilBertConfig {\n",
      "  \"_name_or_path\": \"new_distilbert_clf_dietary/results/checkpoint-11/\",\n",
      "  \"activation\": \"gelu\",\n",
      "  \"architectures\": [\n",
      "    \"DistilBertForSequenceClassification\"\n",
      "  ],\n",
      "  \"attention_dropout\": 0.1,\n",
      "  \"dim\": 768,\n",
      "  \"dropout\": 0.1,\n",
      "  \"hidden_dim\": 3072,\n",
      "  \"id2label\": {\n",
      "    \"0\": \"Veg\",\n",
      "    \"1\": \"Non-Veg\"\n",
      "  },\n",
      "  \"initializer_range\": 0.02,\n",
      "  \"label2id\": null,\n",
      "  \"max_position_embeddings\": 512,\n",
      "  \"model_type\": \"distilbert\",\n",
      "  \"n_heads\": 12,\n",
      "  \"n_layers\": 6,\n",
      "  \"pad_token_id\": 0,\n",
      "  \"problem_type\": \"single_label_classification\",\n",
      "  \"qa_dropout\": 0.1,\n",
      "  \"seq_classif_dropout\": 0.2,\n",
      "  \"sinusoidal_pos_embds\": false,\n",
      "  \"tie_weights_\": true,\n",
      "  \"torch_dtype\": \"float32\",\n",
      "  \"transformers_version\": \"4.38.2\",\n",
      "  \"vocab_size\": 30522\n",
      "}\n",
      "\n",
      "loading weights file ./distilbert_clf_dietary_new_data/results/checkpoint-5/model.safetensors\n",
      "All model checkpoint weights were used when initializing DistilBertForSequenceClassification.\n",
      "\n",
      "All the weights of DistilBertForSequenceClassification were initialized from the model checkpoint at ./distilbert_clf_dietary_new_data/results/checkpoint-5/.\n",
      "If your task is similar to the task the model of the checkpoint was trained on, you can already use DistilBertForSequenceClassification for predictions without further training.\n",
      "loading configuration file ./distilbert_clf_dietary_new_data/results/checkpoint-6/config.json\n",
      "Model config DistilBertConfig {\n",
      "  \"_name_or_path\": \"new_distilbert_clf_dietary/results/checkpoint-11/\",\n",
      "  \"activation\": \"gelu\",\n",
      "  \"architectures\": [\n",
      "    \"DistilBertForSequenceClassification\"\n",
      "  ],\n",
      "  \"attention_dropout\": 0.1,\n",
      "  \"dim\": 768,\n",
      "  \"dropout\": 0.1,\n",
      "  \"hidden_dim\": 3072,\n",
      "  \"id2label\": {\n",
      "    \"0\": \"Veg\",\n",
      "    \"1\": \"Non-Veg\"\n",
      "  },\n",
      "  \"initializer_range\": 0.02,\n",
      "  \"label2id\": null,\n",
      "  \"max_position_embeddings\": 512,\n",
      "  \"model_type\": \"distilbert\",\n",
      "  \"n_heads\": 12,\n",
      "  \"n_layers\": 6,\n",
      "  \"pad_token_id\": 0,\n",
      "  \"problem_type\": \"single_label_classification\",\n",
      "  \"qa_dropout\": 0.1,\n",
      "  \"seq_classif_dropout\": 0.2,\n",
      "  \"sinusoidal_pos_embds\": false,\n",
      "  \"tie_weights_\": true,\n",
      "  \"torch_dtype\": \"float32\",\n",
      "  \"transformers_version\": \"4.38.2\",\n",
      "  \"vocab_size\": 30522\n",
      "}\n",
      "\n",
      "loading weights file ./distilbert_clf_dietary_new_data/results/checkpoint-6/model.safetensors\n",
      "All model checkpoint weights were used when initializing DistilBertForSequenceClassification.\n",
      "\n",
      "All the weights of DistilBertForSequenceClassification were initialized from the model checkpoint at ./distilbert_clf_dietary_new_data/results/checkpoint-6/.\n",
      "If your task is similar to the task the model of the checkpoint was trained on, you can already use DistilBertForSequenceClassification for predictions without further training.\n",
      "loading configuration file ./distilbert_clf_dietary_new_data/results/checkpoint-7/config.json\n",
      "Model config DistilBertConfig {\n",
      "  \"_name_or_path\": \"new_distilbert_clf_dietary/results/checkpoint-11/\",\n",
      "  \"activation\": \"gelu\",\n",
      "  \"architectures\": [\n",
      "    \"DistilBertForSequenceClassification\"\n",
      "  ],\n",
      "  \"attention_dropout\": 0.1,\n",
      "  \"dim\": 768,\n",
      "  \"dropout\": 0.1,\n",
      "  \"hidden_dim\": 3072,\n",
      "  \"id2label\": {\n",
      "    \"0\": \"Veg\",\n",
      "    \"1\": \"Non-Veg\"\n",
      "  },\n",
      "  \"initializer_range\": 0.02,\n",
      "  \"label2id\": null,\n",
      "  \"max_position_embeddings\": 512,\n",
      "  \"model_type\": \"distilbert\",\n",
      "  \"n_heads\": 12,\n",
      "  \"n_layers\": 6,\n",
      "  \"pad_token_id\": 0,\n",
      "  \"problem_type\": \"single_label_classification\",\n",
      "  \"qa_dropout\": 0.1,\n",
      "  \"seq_classif_dropout\": 0.2,\n",
      "  \"sinusoidal_pos_embds\": false,\n",
      "  \"tie_weights_\": true,\n",
      "  \"torch_dtype\": \"float32\",\n",
      "  \"transformers_version\": \"4.38.2\",\n",
      "  \"vocab_size\": 30522\n",
      "}\n",
      "\n",
      "loading weights file ./distilbert_clf_dietary_new_data/results/checkpoint-7/model.safetensors\n",
      "All model checkpoint weights were used when initializing DistilBertForSequenceClassification.\n",
      "\n",
      "All the weights of DistilBertForSequenceClassification were initialized from the model checkpoint at ./distilbert_clf_dietary_new_data/results/checkpoint-7/.\n",
      "If your task is similar to the task the model of the checkpoint was trained on, you can already use DistilBertForSequenceClassification for predictions without further training.\n",
      "loading configuration file ./distilbert_clf_dietary_new_data/results/checkpoint-8/config.json\n",
      "Model config DistilBertConfig {\n",
      "  \"_name_or_path\": \"new_distilbert_clf_dietary/results/checkpoint-11/\",\n",
      "  \"activation\": \"gelu\",\n",
      "  \"architectures\": [\n",
      "    \"DistilBertForSequenceClassification\"\n",
      "  ],\n",
      "  \"attention_dropout\": 0.1,\n",
      "  \"dim\": 768,\n",
      "  \"dropout\": 0.1,\n",
      "  \"hidden_dim\": 3072,\n",
      "  \"id2label\": {\n",
      "    \"0\": \"Veg\",\n",
      "    \"1\": \"Non-Veg\"\n",
      "  },\n",
      "  \"initializer_range\": 0.02,\n",
      "  \"label2id\": null,\n",
      "  \"max_position_embeddings\": 512,\n",
      "  \"model_type\": \"distilbert\",\n",
      "  \"n_heads\": 12,\n",
      "  \"n_layers\": 6,\n",
      "  \"pad_token_id\": 0,\n",
      "  \"problem_type\": \"single_label_classification\",\n",
      "  \"qa_dropout\": 0.1,\n",
      "  \"seq_classif_dropout\": 0.2,\n",
      "  \"sinusoidal_pos_embds\": false,\n",
      "  \"tie_weights_\": true,\n",
      "  \"torch_dtype\": \"float32\",\n",
      "  \"transformers_version\": \"4.38.2\",\n",
      "  \"vocab_size\": 30522\n",
      "}\n",
      "\n",
      "loading weights file ./distilbert_clf_dietary_new_data/results/checkpoint-8/model.safetensors\n",
      "All model checkpoint weights were used when initializing DistilBertForSequenceClassification.\n",
      "\n",
      "All the weights of DistilBertForSequenceClassification were initialized from the model checkpoint at ./distilbert_clf_dietary_new_data/results/checkpoint-8/.\n",
      "If your task is similar to the task the model of the checkpoint was trained on, you can already use DistilBertForSequenceClassification for predictions without further training.\n",
      "loading configuration file ./distilbert_clf_dietary_new_data/results/checkpoint-9/config.json\n",
      "Model config DistilBertConfig {\n",
      "  \"_name_or_path\": \"new_distilbert_clf_dietary/results/checkpoint-11/\",\n",
      "  \"activation\": \"gelu\",\n",
      "  \"architectures\": [\n",
      "    \"DistilBertForSequenceClassification\"\n",
      "  ],\n",
      "  \"attention_dropout\": 0.1,\n",
      "  \"dim\": 768,\n",
      "  \"dropout\": 0.1,\n",
      "  \"hidden_dim\": 3072,\n",
      "  \"id2label\": {\n",
      "    \"0\": \"Veg\",\n",
      "    \"1\": \"Non-Veg\"\n",
      "  },\n",
      "  \"initializer_range\": 0.02,\n",
      "  \"label2id\": null,\n",
      "  \"max_position_embeddings\": 512,\n",
      "  \"model_type\": \"distilbert\",\n",
      "  \"n_heads\": 12,\n",
      "  \"n_layers\": 6,\n",
      "  \"pad_token_id\": 0,\n",
      "  \"problem_type\": \"single_label_classification\",\n",
      "  \"qa_dropout\": 0.1,\n",
      "  \"seq_classif_dropout\": 0.2,\n",
      "  \"sinusoidal_pos_embds\": false,\n",
      "  \"tie_weights_\": true,\n",
      "  \"torch_dtype\": \"float32\",\n",
      "  \"transformers_version\": \"4.38.2\",\n",
      "  \"vocab_size\": 30522\n",
      "}\n",
      "\n",
      "loading weights file ./distilbert_clf_dietary_new_data/results/checkpoint-9/model.safetensors\n",
      "All model checkpoint weights were used when initializing DistilBertForSequenceClassification.\n",
      "\n",
      "All the weights of DistilBertForSequenceClassification were initialized from the model checkpoint at ./distilbert_clf_dietary_new_data/results/checkpoint-9/.\n",
      "If your task is similar to the task the model of the checkpoint was trained on, you can already use DistilBertForSequenceClassification for predictions without further training.\n",
      "loading configuration file ./distilbert_clf_dietary_new_data/results/checkpoint-10/config.json\n",
      "Model config DistilBertConfig {\n",
      "  \"_name_or_path\": \"new_distilbert_clf_dietary/results/checkpoint-11/\",\n",
      "  \"activation\": \"gelu\",\n",
      "  \"architectures\": [\n",
      "    \"DistilBertForSequenceClassification\"\n",
      "  ],\n",
      "  \"attention_dropout\": 0.1,\n",
      "  \"dim\": 768,\n",
      "  \"dropout\": 0.1,\n",
      "  \"hidden_dim\": 3072,\n",
      "  \"id2label\": {\n",
      "    \"0\": \"Veg\",\n",
      "    \"1\": \"Non-Veg\"\n",
      "  },\n",
      "  \"initializer_range\": 0.02,\n",
      "  \"label2id\": null,\n",
      "  \"max_position_embeddings\": 512,\n",
      "  \"model_type\": \"distilbert\",\n",
      "  \"n_heads\": 12,\n",
      "  \"n_layers\": 6,\n",
      "  \"pad_token_id\": 0,\n",
      "  \"problem_type\": \"single_label_classification\",\n",
      "  \"qa_dropout\": 0.1,\n",
      "  \"seq_classif_dropout\": 0.2,\n",
      "  \"sinusoidal_pos_embds\": false,\n",
      "  \"tie_weights_\": true,\n",
      "  \"torch_dtype\": \"float32\",\n",
      "  \"transformers_version\": \"4.38.2\",\n",
      "  \"vocab_size\": 30522\n",
      "}\n",
      "\n",
      "loading weights file ./distilbert_clf_dietary_new_data/results/checkpoint-10/model.safetensors\n",
      "All model checkpoint weights were used when initializing DistilBertForSequenceClassification.\n",
      "\n",
      "All the weights of DistilBertForSequenceClassification were initialized from the model checkpoint at ./distilbert_clf_dietary_new_data/results/checkpoint-10/.\n",
      "If your task is similar to the task the model of the checkpoint was trained on, you can already use DistilBertForSequenceClassification for predictions without further training.\n",
      "loading configuration file ./distilbert_clf_dietary_new_data/results/checkpoint-11/config.json\n",
      "Model config DistilBertConfig {\n",
      "  \"_name_or_path\": \"new_distilbert_clf_dietary/results/checkpoint-11/\",\n",
      "  \"activation\": \"gelu\",\n",
      "  \"architectures\": [\n",
      "    \"DistilBertForSequenceClassification\"\n",
      "  ],\n",
      "  \"attention_dropout\": 0.1,\n",
      "  \"dim\": 768,\n",
      "  \"dropout\": 0.1,\n",
      "  \"hidden_dim\": 3072,\n",
      "  \"id2label\": {\n",
      "    \"0\": \"Veg\",\n",
      "    \"1\": \"Non-Veg\"\n",
      "  },\n",
      "  \"initializer_range\": 0.02,\n",
      "  \"label2id\": null,\n",
      "  \"max_position_embeddings\": 512,\n",
      "  \"model_type\": \"distilbert\",\n",
      "  \"n_heads\": 12,\n",
      "  \"n_layers\": 6,\n",
      "  \"pad_token_id\": 0,\n",
      "  \"problem_type\": \"single_label_classification\",\n",
      "  \"qa_dropout\": 0.1,\n",
      "  \"seq_classif_dropout\": 0.2,\n",
      "  \"sinusoidal_pos_embds\": false,\n",
      "  \"tie_weights_\": true,\n",
      "  \"torch_dtype\": \"float32\",\n",
      "  \"transformers_version\": \"4.38.2\",\n",
      "  \"vocab_size\": 30522\n",
      "}\n",
      "\n",
      "loading weights file ./distilbert_clf_dietary_new_data/results/checkpoint-11/model.safetensors\n",
      "All model checkpoint weights were used when initializing DistilBertForSequenceClassification.\n",
      "\n",
      "All the weights of DistilBertForSequenceClassification were initialized from the model checkpoint at ./distilbert_clf_dietary_new_data/results/checkpoint-11/.\n",
      "If your task is similar to the task the model of the checkpoint was trained on, you can already use DistilBertForSequenceClassification for predictions without further training.\n",
      "loading configuration file ./distilbert_clf_dietary_new_data/results/checkpoint-12/config.json\n",
      "Model config DistilBertConfig {\n",
      "  \"_name_or_path\": \"new_distilbert_clf_dietary/results/checkpoint-11/\",\n",
      "  \"activation\": \"gelu\",\n",
      "  \"architectures\": [\n",
      "    \"DistilBertForSequenceClassification\"\n",
      "  ],\n",
      "  \"attention_dropout\": 0.1,\n",
      "  \"dim\": 768,\n",
      "  \"dropout\": 0.1,\n",
      "  \"hidden_dim\": 3072,\n",
      "  \"id2label\": {\n",
      "    \"0\": \"Veg\",\n",
      "    \"1\": \"Non-Veg\"\n",
      "  },\n",
      "  \"initializer_range\": 0.02,\n",
      "  \"label2id\": null,\n",
      "  \"max_position_embeddings\": 512,\n",
      "  \"model_type\": \"distilbert\",\n",
      "  \"n_heads\": 12,\n",
      "  \"n_layers\": 6,\n",
      "  \"pad_token_id\": 0,\n",
      "  \"problem_type\": \"single_label_classification\",\n",
      "  \"qa_dropout\": 0.1,\n",
      "  \"seq_classif_dropout\": 0.2,\n",
      "  \"sinusoidal_pos_embds\": false,\n",
      "  \"tie_weights_\": true,\n",
      "  \"torch_dtype\": \"float32\",\n",
      "  \"transformers_version\": \"4.38.2\",\n",
      "  \"vocab_size\": 30522\n",
      "}\n",
      "\n",
      "loading weights file ./distilbert_clf_dietary_new_data/results/checkpoint-12/model.safetensors\n",
      "All model checkpoint weights were used when initializing DistilBertForSequenceClassification.\n",
      "\n",
      "All the weights of DistilBertForSequenceClassification were initialized from the model checkpoint at ./distilbert_clf_dietary_new_data/results/checkpoint-12/.\n",
      "If your task is similar to the task the model of the checkpoint was trained on, you can already use DistilBertForSequenceClassification for predictions without further training.\n",
      "loading configuration file ./distilbert_clf_dietary_new_data/results/checkpoint-13/config.json\n",
      "Model config DistilBertConfig {\n",
      "  \"_name_or_path\": \"new_distilbert_clf_dietary/results/checkpoint-11/\",\n",
      "  \"activation\": \"gelu\",\n",
      "  \"architectures\": [\n",
      "    \"DistilBertForSequenceClassification\"\n",
      "  ],\n",
      "  \"attention_dropout\": 0.1,\n",
      "  \"dim\": 768,\n",
      "  \"dropout\": 0.1,\n",
      "  \"hidden_dim\": 3072,\n",
      "  \"id2label\": {\n",
      "    \"0\": \"Veg\",\n",
      "    \"1\": \"Non-Veg\"\n",
      "  },\n",
      "  \"initializer_range\": 0.02,\n",
      "  \"label2id\": null,\n",
      "  \"max_position_embeddings\": 512,\n",
      "  \"model_type\": \"distilbert\",\n",
      "  \"n_heads\": 12,\n",
      "  \"n_layers\": 6,\n",
      "  \"pad_token_id\": 0,\n",
      "  \"problem_type\": \"single_label_classification\",\n",
      "  \"qa_dropout\": 0.1,\n",
      "  \"seq_classif_dropout\": 0.2,\n",
      "  \"sinusoidal_pos_embds\": false,\n",
      "  \"tie_weights_\": true,\n",
      "  \"torch_dtype\": \"float32\",\n",
      "  \"transformers_version\": \"4.38.2\",\n",
      "  \"vocab_size\": 30522\n",
      "}\n",
      "\n",
      "loading weights file ./distilbert_clf_dietary_new_data/results/checkpoint-13/model.safetensors\n",
      "All model checkpoint weights were used when initializing DistilBertForSequenceClassification.\n",
      "\n",
      "All the weights of DistilBertForSequenceClassification were initialized from the model checkpoint at ./distilbert_clf_dietary_new_data/results/checkpoint-13/.\n",
      "If your task is similar to the task the model of the checkpoint was trained on, you can already use DistilBertForSequenceClassification for predictions without further training.\n",
      "loading configuration file ./distilbert_clf_dietary_new_data/results/checkpoint-14/config.json\n",
      "Model config DistilBertConfig {\n",
      "  \"_name_or_path\": \"new_distilbert_clf_dietary/results/checkpoint-11/\",\n",
      "  \"activation\": \"gelu\",\n",
      "  \"architectures\": [\n",
      "    \"DistilBertForSequenceClassification\"\n",
      "  ],\n",
      "  \"attention_dropout\": 0.1,\n",
      "  \"dim\": 768,\n",
      "  \"dropout\": 0.1,\n",
      "  \"hidden_dim\": 3072,\n",
      "  \"id2label\": {\n",
      "    \"0\": \"Veg\",\n",
      "    \"1\": \"Non-Veg\"\n",
      "  },\n",
      "  \"initializer_range\": 0.02,\n",
      "  \"label2id\": null,\n",
      "  \"max_position_embeddings\": 512,\n",
      "  \"model_type\": \"distilbert\",\n",
      "  \"n_heads\": 12,\n",
      "  \"n_layers\": 6,\n",
      "  \"pad_token_id\": 0,\n",
      "  \"problem_type\": \"single_label_classification\",\n",
      "  \"qa_dropout\": 0.1,\n",
      "  \"seq_classif_dropout\": 0.2,\n",
      "  \"sinusoidal_pos_embds\": false,\n",
      "  \"tie_weights_\": true,\n",
      "  \"torch_dtype\": \"float32\",\n",
      "  \"transformers_version\": \"4.38.2\",\n",
      "  \"vocab_size\": 30522\n",
      "}\n",
      "\n",
      "loading weights file ./distilbert_clf_dietary_new_data/results/checkpoint-14/model.safetensors\n",
      "All model checkpoint weights were used when initializing DistilBertForSequenceClassification.\n",
      "\n",
      "All the weights of DistilBertForSequenceClassification were initialized from the model checkpoint at ./distilbert_clf_dietary_new_data/results/checkpoint-14/.\n",
      "If your task is similar to the task the model of the checkpoint was trained on, you can already use DistilBertForSequenceClassification for predictions without further training.\n",
      "loading configuration file ./distilbert_clf_dietary_new_data/results/checkpoint-15/config.json\n",
      "Model config DistilBertConfig {\n",
      "  \"_name_or_path\": \"new_distilbert_clf_dietary/results/checkpoint-11/\",\n",
      "  \"activation\": \"gelu\",\n",
      "  \"architectures\": [\n",
      "    \"DistilBertForSequenceClassification\"\n",
      "  ],\n",
      "  \"attention_dropout\": 0.1,\n",
      "  \"dim\": 768,\n",
      "  \"dropout\": 0.1,\n",
      "  \"hidden_dim\": 3072,\n",
      "  \"id2label\": {\n",
      "    \"0\": \"Veg\",\n",
      "    \"1\": \"Non-Veg\"\n",
      "  },\n",
      "  \"initializer_range\": 0.02,\n",
      "  \"label2id\": null,\n",
      "  \"max_position_embeddings\": 512,\n",
      "  \"model_type\": \"distilbert\",\n",
      "  \"n_heads\": 12,\n",
      "  \"n_layers\": 6,\n",
      "  \"pad_token_id\": 0,\n",
      "  \"problem_type\": \"single_label_classification\",\n",
      "  \"qa_dropout\": 0.1,\n",
      "  \"seq_classif_dropout\": 0.2,\n",
      "  \"sinusoidal_pos_embds\": false,\n",
      "  \"tie_weights_\": true,\n",
      "  \"torch_dtype\": \"float32\",\n",
      "  \"transformers_version\": \"4.38.2\",\n",
      "  \"vocab_size\": 30522\n",
      "}\n",
      "\n",
      "loading weights file ./distilbert_clf_dietary_new_data/results/checkpoint-15/model.safetensors\n",
      "All model checkpoint weights were used when initializing DistilBertForSequenceClassification.\n",
      "\n",
      "All the weights of DistilBertForSequenceClassification were initialized from the model checkpoint at ./distilbert_clf_dietary_new_data/results/checkpoint-15/.\n",
      "If your task is similar to the task the model of the checkpoint was trained on, you can already use DistilBertForSequenceClassification for predictions without further training.\n",
      "loading configuration file ./distilbert_clf_dietary_new_data/results/checkpoint-16/config.json\n",
      "Model config DistilBertConfig {\n",
      "  \"_name_or_path\": \"new_distilbert_clf_dietary/results/checkpoint-11/\",\n",
      "  \"activation\": \"gelu\",\n",
      "  \"architectures\": [\n",
      "    \"DistilBertForSequenceClassification\"\n",
      "  ],\n",
      "  \"attention_dropout\": 0.1,\n",
      "  \"dim\": 768,\n",
      "  \"dropout\": 0.1,\n",
      "  \"hidden_dim\": 3072,\n",
      "  \"id2label\": {\n",
      "    \"0\": \"Veg\",\n",
      "    \"1\": \"Non-Veg\"\n",
      "  },\n",
      "  \"initializer_range\": 0.02,\n",
      "  \"label2id\": null,\n",
      "  \"max_position_embeddings\": 512,\n",
      "  \"model_type\": \"distilbert\",\n",
      "  \"n_heads\": 12,\n",
      "  \"n_layers\": 6,\n",
      "  \"pad_token_id\": 0,\n",
      "  \"problem_type\": \"single_label_classification\",\n",
      "  \"qa_dropout\": 0.1,\n",
      "  \"seq_classif_dropout\": 0.2,\n",
      "  \"sinusoidal_pos_embds\": false,\n",
      "  \"tie_weights_\": true,\n",
      "  \"torch_dtype\": \"float32\",\n",
      "  \"transformers_version\": \"4.38.2\",\n",
      "  \"vocab_size\": 30522\n",
      "}\n",
      "\n",
      "loading weights file ./distilbert_clf_dietary_new_data/results/checkpoint-16/model.safetensors\n",
      "All model checkpoint weights were used when initializing DistilBertForSequenceClassification.\n",
      "\n",
      "All the weights of DistilBertForSequenceClassification were initialized from the model checkpoint at ./distilbert_clf_dietary_new_data/results/checkpoint-16/.\n",
      "If your task is similar to the task the model of the checkpoint was trained on, you can already use DistilBertForSequenceClassification for predictions without further training.\n",
      "loading configuration file ./distilbert_clf_dietary_new_data/results/checkpoint-17/config.json\n",
      "Model config DistilBertConfig {\n",
      "  \"_name_or_path\": \"new_distilbert_clf_dietary/results/checkpoint-11/\",\n",
      "  \"activation\": \"gelu\",\n",
      "  \"architectures\": [\n",
      "    \"DistilBertForSequenceClassification\"\n",
      "  ],\n",
      "  \"attention_dropout\": 0.1,\n",
      "  \"dim\": 768,\n",
      "  \"dropout\": 0.1,\n",
      "  \"hidden_dim\": 3072,\n",
      "  \"id2label\": {\n",
      "    \"0\": \"Veg\",\n",
      "    \"1\": \"Non-Veg\"\n",
      "  },\n",
      "  \"initializer_range\": 0.02,\n",
      "  \"label2id\": null,\n",
      "  \"max_position_embeddings\": 512,\n",
      "  \"model_type\": \"distilbert\",\n",
      "  \"n_heads\": 12,\n",
      "  \"n_layers\": 6,\n",
      "  \"pad_token_id\": 0,\n",
      "  \"problem_type\": \"single_label_classification\",\n",
      "  \"qa_dropout\": 0.1,\n",
      "  \"seq_classif_dropout\": 0.2,\n",
      "  \"sinusoidal_pos_embds\": false,\n",
      "  \"tie_weights_\": true,\n",
      "  \"torch_dtype\": \"float32\",\n",
      "  \"transformers_version\": \"4.38.2\",\n",
      "  \"vocab_size\": 30522\n",
      "}\n",
      "\n",
      "loading weights file ./distilbert_clf_dietary_new_data/results/checkpoint-17/model.safetensors\n",
      "All model checkpoint weights were used when initializing DistilBertForSequenceClassification.\n",
      "\n",
      "All the weights of DistilBertForSequenceClassification were initialized from the model checkpoint at ./distilbert_clf_dietary_new_data/results/checkpoint-17/.\n",
      "If your task is similar to the task the model of the checkpoint was trained on, you can already use DistilBertForSequenceClassification for predictions without further training.\n",
      "loading configuration file ./distilbert_clf_dietary_new_data/results/checkpoint-18/config.json\n",
      "Model config DistilBertConfig {\n",
      "  \"_name_or_path\": \"new_distilbert_clf_dietary/results/checkpoint-11/\",\n",
      "  \"activation\": \"gelu\",\n",
      "  \"architectures\": [\n",
      "    \"DistilBertForSequenceClassification\"\n",
      "  ],\n",
      "  \"attention_dropout\": 0.1,\n",
      "  \"dim\": 768,\n",
      "  \"dropout\": 0.1,\n",
      "  \"hidden_dim\": 3072,\n",
      "  \"id2label\": {\n",
      "    \"0\": \"Veg\",\n",
      "    \"1\": \"Non-Veg\"\n",
      "  },\n",
      "  \"initializer_range\": 0.02,\n",
      "  \"label2id\": null,\n",
      "  \"max_position_embeddings\": 512,\n",
      "  \"model_type\": \"distilbert\",\n",
      "  \"n_heads\": 12,\n",
      "  \"n_layers\": 6,\n",
      "  \"pad_token_id\": 0,\n",
      "  \"problem_type\": \"single_label_classification\",\n",
      "  \"qa_dropout\": 0.1,\n",
      "  \"seq_classif_dropout\": 0.2,\n",
      "  \"sinusoidal_pos_embds\": false,\n",
      "  \"tie_weights_\": true,\n",
      "  \"torch_dtype\": \"float32\",\n",
      "  \"transformers_version\": \"4.38.2\",\n",
      "  \"vocab_size\": 30522\n",
      "}\n",
      "\n",
      "loading weights file ./distilbert_clf_dietary_new_data/results/checkpoint-18/model.safetensors\n",
      "All model checkpoint weights were used when initializing DistilBertForSequenceClassification.\n",
      "\n",
      "All the weights of DistilBertForSequenceClassification were initialized from the model checkpoint at ./distilbert_clf_dietary_new_data/results/checkpoint-18/.\n",
      "If your task is similar to the task the model of the checkpoint was trained on, you can already use DistilBertForSequenceClassification for predictions without further training.\n",
      "loading configuration file ./distilbert_clf_dietary_new_data/results/checkpoint-19/config.json\n",
      "Model config DistilBertConfig {\n",
      "  \"_name_or_path\": \"new_distilbert_clf_dietary/results/checkpoint-11/\",\n",
      "  \"activation\": \"gelu\",\n",
      "  \"architectures\": [\n",
      "    \"DistilBertForSequenceClassification\"\n",
      "  ],\n",
      "  \"attention_dropout\": 0.1,\n",
      "  \"dim\": 768,\n",
      "  \"dropout\": 0.1,\n",
      "  \"hidden_dim\": 3072,\n",
      "  \"id2label\": {\n",
      "    \"0\": \"Veg\",\n",
      "    \"1\": \"Non-Veg\"\n",
      "  },\n",
      "  \"initializer_range\": 0.02,\n",
      "  \"label2id\": null,\n",
      "  \"max_position_embeddings\": 512,\n",
      "  \"model_type\": \"distilbert\",\n",
      "  \"n_heads\": 12,\n",
      "  \"n_layers\": 6,\n",
      "  \"pad_token_id\": 0,\n",
      "  \"problem_type\": \"single_label_classification\",\n",
      "  \"qa_dropout\": 0.1,\n",
      "  \"seq_classif_dropout\": 0.2,\n",
      "  \"sinusoidal_pos_embds\": false,\n",
      "  \"tie_weights_\": true,\n",
      "  \"torch_dtype\": \"float32\",\n",
      "  \"transformers_version\": \"4.38.2\",\n",
      "  \"vocab_size\": 30522\n",
      "}\n",
      "\n",
      "loading weights file ./distilbert_clf_dietary_new_data/results/checkpoint-19/model.safetensors\n",
      "All model checkpoint weights were used when initializing DistilBertForSequenceClassification.\n",
      "\n",
      "All the weights of DistilBertForSequenceClassification were initialized from the model checkpoint at ./distilbert_clf_dietary_new_data/results/checkpoint-19/.\n",
      "If your task is similar to the task the model of the checkpoint was trained on, you can already use DistilBertForSequenceClassification for predictions without further training.\n",
      "loading configuration file ./distilbert_clf_dietary_new_data/results/checkpoint-20/config.json\n",
      "Model config DistilBertConfig {\n",
      "  \"_name_or_path\": \"new_distilbert_clf_dietary/results/checkpoint-11/\",\n",
      "  \"activation\": \"gelu\",\n",
      "  \"architectures\": [\n",
      "    \"DistilBertForSequenceClassification\"\n",
      "  ],\n",
      "  \"attention_dropout\": 0.1,\n",
      "  \"dim\": 768,\n",
      "  \"dropout\": 0.1,\n",
      "  \"hidden_dim\": 3072,\n",
      "  \"id2label\": {\n",
      "    \"0\": \"Veg\",\n",
      "    \"1\": \"Non-Veg\"\n",
      "  },\n",
      "  \"initializer_range\": 0.02,\n",
      "  \"label2id\": null,\n",
      "  \"max_position_embeddings\": 512,\n",
      "  \"model_type\": \"distilbert\",\n",
      "  \"n_heads\": 12,\n",
      "  \"n_layers\": 6,\n",
      "  \"pad_token_id\": 0,\n",
      "  \"problem_type\": \"single_label_classification\",\n",
      "  \"qa_dropout\": 0.1,\n",
      "  \"seq_classif_dropout\": 0.2,\n",
      "  \"sinusoidal_pos_embds\": false,\n",
      "  \"tie_weights_\": true,\n",
      "  \"torch_dtype\": \"float32\",\n",
      "  \"transformers_version\": \"4.38.2\",\n",
      "  \"vocab_size\": 30522\n",
      "}\n",
      "\n",
      "loading weights file ./distilbert_clf_dietary_new_data/results/checkpoint-20/model.safetensors\n",
      "All model checkpoint weights were used when initializing DistilBertForSequenceClassification.\n",
      "\n",
      "All the weights of DistilBertForSequenceClassification were initialized from the model checkpoint at ./distilbert_clf_dietary_new_data/results/checkpoint-20/.\n",
      "If your task is similar to the task the model of the checkpoint was trained on, you can already use DistilBertForSequenceClassification for predictions without further training.\n",
      "loading configuration file ./distilbert_clf_dietary_new_data/results/checkpoint-21/config.json\n",
      "Model config DistilBertConfig {\n",
      "  \"_name_or_path\": \"new_distilbert_clf_dietary/results/checkpoint-11/\",\n",
      "  \"activation\": \"gelu\",\n",
      "  \"architectures\": [\n",
      "    \"DistilBertForSequenceClassification\"\n",
      "  ],\n",
      "  \"attention_dropout\": 0.1,\n",
      "  \"dim\": 768,\n",
      "  \"dropout\": 0.1,\n",
      "  \"hidden_dim\": 3072,\n",
      "  \"id2label\": {\n",
      "    \"0\": \"Veg\",\n",
      "    \"1\": \"Non-Veg\"\n",
      "  },\n",
      "  \"initializer_range\": 0.02,\n",
      "  \"label2id\": null,\n",
      "  \"max_position_embeddings\": 512,\n",
      "  \"model_type\": \"distilbert\",\n",
      "  \"n_heads\": 12,\n",
      "  \"n_layers\": 6,\n",
      "  \"pad_token_id\": 0,\n",
      "  \"problem_type\": \"single_label_classification\",\n",
      "  \"qa_dropout\": 0.1,\n",
      "  \"seq_classif_dropout\": 0.2,\n",
      "  \"sinusoidal_pos_embds\": false,\n",
      "  \"tie_weights_\": true,\n",
      "  \"torch_dtype\": \"float32\",\n",
      "  \"transformers_version\": \"4.38.2\",\n",
      "  \"vocab_size\": 30522\n",
      "}\n",
      "\n",
      "loading weights file ./distilbert_clf_dietary_new_data/results/checkpoint-21/model.safetensors\n",
      "All model checkpoint weights were used when initializing DistilBertForSequenceClassification.\n",
      "\n",
      "All the weights of DistilBertForSequenceClassification were initialized from the model checkpoint at ./distilbert_clf_dietary_new_data/results/checkpoint-21/.\n",
      "If your task is similar to the task the model of the checkpoint was trained on, you can already use DistilBertForSequenceClassification for predictions without further training.\n",
      "loading configuration file ./distilbert_clf_dietary_new_data/results/checkpoint-22/config.json\n",
      "Model config DistilBertConfig {\n",
      "  \"_name_or_path\": \"new_distilbert_clf_dietary/results/checkpoint-11/\",\n",
      "  \"activation\": \"gelu\",\n",
      "  \"architectures\": [\n",
      "    \"DistilBertForSequenceClassification\"\n",
      "  ],\n",
      "  \"attention_dropout\": 0.1,\n",
      "  \"dim\": 768,\n",
      "  \"dropout\": 0.1,\n",
      "  \"hidden_dim\": 3072,\n",
      "  \"id2label\": {\n",
      "    \"0\": \"Veg\",\n",
      "    \"1\": \"Non-Veg\"\n",
      "  },\n",
      "  \"initializer_range\": 0.02,\n",
      "  \"label2id\": null,\n",
      "  \"max_position_embeddings\": 512,\n",
      "  \"model_type\": \"distilbert\",\n",
      "  \"n_heads\": 12,\n",
      "  \"n_layers\": 6,\n",
      "  \"pad_token_id\": 0,\n",
      "  \"problem_type\": \"single_label_classification\",\n",
      "  \"qa_dropout\": 0.1,\n",
      "  \"seq_classif_dropout\": 0.2,\n",
      "  \"sinusoidal_pos_embds\": false,\n",
      "  \"tie_weights_\": true,\n",
      "  \"torch_dtype\": \"float32\",\n",
      "  \"transformers_version\": \"4.38.2\",\n",
      "  \"vocab_size\": 30522\n",
      "}\n",
      "\n",
      "loading weights file ./distilbert_clf_dietary_new_data/results/checkpoint-22/model.safetensors\n",
      "All model checkpoint weights were used when initializing DistilBertForSequenceClassification.\n",
      "\n",
      "All the weights of DistilBertForSequenceClassification were initialized from the model checkpoint at ./distilbert_clf_dietary_new_data/results/checkpoint-22/.\n",
      "If your task is similar to the task the model of the checkpoint was trained on, you can already use DistilBertForSequenceClassification for predictions without further training.\n",
      "loading configuration file ./distilbert_clf_dietary_new_data/results/checkpoint-23/config.json\n",
      "Model config DistilBertConfig {\n",
      "  \"_name_or_path\": \"new_distilbert_clf_dietary/results/checkpoint-11/\",\n",
      "  \"activation\": \"gelu\",\n",
      "  \"architectures\": [\n",
      "    \"DistilBertForSequenceClassification\"\n",
      "  ],\n",
      "  \"attention_dropout\": 0.1,\n",
      "  \"dim\": 768,\n",
      "  \"dropout\": 0.1,\n",
      "  \"hidden_dim\": 3072,\n",
      "  \"id2label\": {\n",
      "    \"0\": \"Veg\",\n",
      "    \"1\": \"Non-Veg\"\n",
      "  },\n",
      "  \"initializer_range\": 0.02,\n",
      "  \"label2id\": null,\n",
      "  \"max_position_embeddings\": 512,\n",
      "  \"model_type\": \"distilbert\",\n",
      "  \"n_heads\": 12,\n",
      "  \"n_layers\": 6,\n",
      "  \"pad_token_id\": 0,\n",
      "  \"problem_type\": \"single_label_classification\",\n",
      "  \"qa_dropout\": 0.1,\n",
      "  \"seq_classif_dropout\": 0.2,\n",
      "  \"sinusoidal_pos_embds\": false,\n",
      "  \"tie_weights_\": true,\n",
      "  \"torch_dtype\": \"float32\",\n",
      "  \"transformers_version\": \"4.38.2\",\n",
      "  \"vocab_size\": 30522\n",
      "}\n",
      "\n",
      "loading weights file ./distilbert_clf_dietary_new_data/results/checkpoint-23/model.safetensors\n",
      "All model checkpoint weights were used when initializing DistilBertForSequenceClassification.\n",
      "\n",
      "All the weights of DistilBertForSequenceClassification were initialized from the model checkpoint at ./distilbert_clf_dietary_new_data/results/checkpoint-23/.\n",
      "If your task is similar to the task the model of the checkpoint was trained on, you can already use DistilBertForSequenceClassification for predictions without further training.\n",
      "loading configuration file ./distilbert_clf_dietary_new_data/results/checkpoint-24/config.json\n",
      "Model config DistilBertConfig {\n",
      "  \"_name_or_path\": \"new_distilbert_clf_dietary/results/checkpoint-11/\",\n",
      "  \"activation\": \"gelu\",\n",
      "  \"architectures\": [\n",
      "    \"DistilBertForSequenceClassification\"\n",
      "  ],\n",
      "  \"attention_dropout\": 0.1,\n",
      "  \"dim\": 768,\n",
      "  \"dropout\": 0.1,\n",
      "  \"hidden_dim\": 3072,\n",
      "  \"id2label\": {\n",
      "    \"0\": \"Veg\",\n",
      "    \"1\": \"Non-Veg\"\n",
      "  },\n",
      "  \"initializer_range\": 0.02,\n",
      "  \"label2id\": null,\n",
      "  \"max_position_embeddings\": 512,\n",
      "  \"model_type\": \"distilbert\",\n",
      "  \"n_heads\": 12,\n",
      "  \"n_layers\": 6,\n",
      "  \"pad_token_id\": 0,\n",
      "  \"problem_type\": \"single_label_classification\",\n",
      "  \"qa_dropout\": 0.1,\n",
      "  \"seq_classif_dropout\": 0.2,\n",
      "  \"sinusoidal_pos_embds\": false,\n",
      "  \"tie_weights_\": true,\n",
      "  \"torch_dtype\": \"float32\",\n",
      "  \"transformers_version\": \"4.38.2\",\n",
      "  \"vocab_size\": 30522\n",
      "}\n",
      "\n",
      "loading weights file ./distilbert_clf_dietary_new_data/results/checkpoint-24/model.safetensors\n",
      "All model checkpoint weights were used when initializing DistilBertForSequenceClassification.\n",
      "\n",
      "All the weights of DistilBertForSequenceClassification were initialized from the model checkpoint at ./distilbert_clf_dietary_new_data/results/checkpoint-24/.\n",
      "If your task is similar to the task the model of the checkpoint was trained on, you can already use DistilBertForSequenceClassification for predictions without further training.\n",
      "loading configuration file ./distilbert_clf_dietary_new_data/results/checkpoint-25/config.json\n",
      "Model config DistilBertConfig {\n",
      "  \"_name_or_path\": \"new_distilbert_clf_dietary/results/checkpoint-11/\",\n",
      "  \"activation\": \"gelu\",\n",
      "  \"architectures\": [\n",
      "    \"DistilBertForSequenceClassification\"\n",
      "  ],\n",
      "  \"attention_dropout\": 0.1,\n",
      "  \"dim\": 768,\n",
      "  \"dropout\": 0.1,\n",
      "  \"hidden_dim\": 3072,\n",
      "  \"id2label\": {\n",
      "    \"0\": \"Veg\",\n",
      "    \"1\": \"Non-Veg\"\n",
      "  },\n",
      "  \"initializer_range\": 0.02,\n",
      "  \"label2id\": null,\n",
      "  \"max_position_embeddings\": 512,\n",
      "  \"model_type\": \"distilbert\",\n",
      "  \"n_heads\": 12,\n",
      "  \"n_layers\": 6,\n",
      "  \"pad_token_id\": 0,\n",
      "  \"problem_type\": \"single_label_classification\",\n",
      "  \"qa_dropout\": 0.1,\n",
      "  \"seq_classif_dropout\": 0.2,\n",
      "  \"sinusoidal_pos_embds\": false,\n",
      "  \"tie_weights_\": true,\n",
      "  \"torch_dtype\": \"float32\",\n",
      "  \"transformers_version\": \"4.38.2\",\n",
      "  \"vocab_size\": 30522\n",
      "}\n",
      "\n",
      "loading weights file ./distilbert_clf_dietary_new_data/results/checkpoint-25/model.safetensors\n",
      "All model checkpoint weights were used when initializing DistilBertForSequenceClassification.\n",
      "\n",
      "All the weights of DistilBertForSequenceClassification were initialized from the model checkpoint at ./distilbert_clf_dietary_new_data/results/checkpoint-25/.\n",
      "If your task is similar to the task the model of the checkpoint was trained on, you can already use DistilBertForSequenceClassification for predictions without further training.\n",
      "loading configuration file ./distilbert_clf_dietary_new_data/results/checkpoint-26/config.json\n",
      "Model config DistilBertConfig {\n",
      "  \"_name_or_path\": \"new_distilbert_clf_dietary/results/checkpoint-11/\",\n",
      "  \"activation\": \"gelu\",\n",
      "  \"architectures\": [\n",
      "    \"DistilBertForSequenceClassification\"\n",
      "  ],\n",
      "  \"attention_dropout\": 0.1,\n",
      "  \"dim\": 768,\n",
      "  \"dropout\": 0.1,\n",
      "  \"hidden_dim\": 3072,\n",
      "  \"id2label\": {\n",
      "    \"0\": \"Veg\",\n",
      "    \"1\": \"Non-Veg\"\n",
      "  },\n",
      "  \"initializer_range\": 0.02,\n",
      "  \"label2id\": null,\n",
      "  \"max_position_embeddings\": 512,\n",
      "  \"model_type\": \"distilbert\",\n",
      "  \"n_heads\": 12,\n",
      "  \"n_layers\": 6,\n",
      "  \"pad_token_id\": 0,\n",
      "  \"problem_type\": \"single_label_classification\",\n",
      "  \"qa_dropout\": 0.1,\n",
      "  \"seq_classif_dropout\": 0.2,\n",
      "  \"sinusoidal_pos_embds\": false,\n",
      "  \"tie_weights_\": true,\n",
      "  \"torch_dtype\": \"float32\",\n",
      "  \"transformers_version\": \"4.38.2\",\n",
      "  \"vocab_size\": 30522\n",
      "}\n",
      "\n",
      "loading weights file ./distilbert_clf_dietary_new_data/results/checkpoint-26/model.safetensors\n",
      "All model checkpoint weights were used when initializing DistilBertForSequenceClassification.\n",
      "\n",
      "All the weights of DistilBertForSequenceClassification were initialized from the model checkpoint at ./distilbert_clf_dietary_new_data/results/checkpoint-26/.\n",
      "If your task is similar to the task the model of the checkpoint was trained on, you can already use DistilBertForSequenceClassification for predictions without further training.\n",
      "loading configuration file ./distilbert_clf_dietary_new_data/results/checkpoint-27/config.json\n",
      "Model config DistilBertConfig {\n",
      "  \"_name_or_path\": \"new_distilbert_clf_dietary/results/checkpoint-11/\",\n",
      "  \"activation\": \"gelu\",\n",
      "  \"architectures\": [\n",
      "    \"DistilBertForSequenceClassification\"\n",
      "  ],\n",
      "  \"attention_dropout\": 0.1,\n",
      "  \"dim\": 768,\n",
      "  \"dropout\": 0.1,\n",
      "  \"hidden_dim\": 3072,\n",
      "  \"id2label\": {\n",
      "    \"0\": \"Veg\",\n",
      "    \"1\": \"Non-Veg\"\n",
      "  },\n",
      "  \"initializer_range\": 0.02,\n",
      "  \"label2id\": null,\n",
      "  \"max_position_embeddings\": 512,\n",
      "  \"model_type\": \"distilbert\",\n",
      "  \"n_heads\": 12,\n",
      "  \"n_layers\": 6,\n",
      "  \"pad_token_id\": 0,\n",
      "  \"problem_type\": \"single_label_classification\",\n",
      "  \"qa_dropout\": 0.1,\n",
      "  \"seq_classif_dropout\": 0.2,\n",
      "  \"sinusoidal_pos_embds\": false,\n",
      "  \"tie_weights_\": true,\n",
      "  \"torch_dtype\": \"float32\",\n",
      "  \"transformers_version\": \"4.38.2\",\n",
      "  \"vocab_size\": 30522\n",
      "}\n",
      "\n",
      "loading weights file ./distilbert_clf_dietary_new_data/results/checkpoint-27/model.safetensors\n",
      "All model checkpoint weights were used when initializing DistilBertForSequenceClassification.\n",
      "\n",
      "All the weights of DistilBertForSequenceClassification were initialized from the model checkpoint at ./distilbert_clf_dietary_new_data/results/checkpoint-27/.\n",
      "If your task is similar to the task the model of the checkpoint was trained on, you can already use DistilBertForSequenceClassification for predictions without further training.\n",
      "loading configuration file ./distilbert_clf_dietary_new_data/results/checkpoint-28/config.json\n",
      "Model config DistilBertConfig {\n",
      "  \"_name_or_path\": \"new_distilbert_clf_dietary/results/checkpoint-11/\",\n",
      "  \"activation\": \"gelu\",\n",
      "  \"architectures\": [\n",
      "    \"DistilBertForSequenceClassification\"\n",
      "  ],\n",
      "  \"attention_dropout\": 0.1,\n",
      "  \"dim\": 768,\n",
      "  \"dropout\": 0.1,\n",
      "  \"hidden_dim\": 3072,\n",
      "  \"id2label\": {\n",
      "    \"0\": \"Veg\",\n",
      "    \"1\": \"Non-Veg\"\n",
      "  },\n",
      "  \"initializer_range\": 0.02,\n",
      "  \"label2id\": null,\n",
      "  \"max_position_embeddings\": 512,\n",
      "  \"model_type\": \"distilbert\",\n",
      "  \"n_heads\": 12,\n",
      "  \"n_layers\": 6,\n",
      "  \"pad_token_id\": 0,\n",
      "  \"problem_type\": \"single_label_classification\",\n",
      "  \"qa_dropout\": 0.1,\n",
      "  \"seq_classif_dropout\": 0.2,\n",
      "  \"sinusoidal_pos_embds\": false,\n",
      "  \"tie_weights_\": true,\n",
      "  \"torch_dtype\": \"float32\",\n",
      "  \"transformers_version\": \"4.38.2\",\n",
      "  \"vocab_size\": 30522\n",
      "}\n",
      "\n",
      "loading weights file ./distilbert_clf_dietary_new_data/results/checkpoint-28/model.safetensors\n",
      "All model checkpoint weights were used when initializing DistilBertForSequenceClassification.\n",
      "\n",
      "All the weights of DistilBertForSequenceClassification were initialized from the model checkpoint at ./distilbert_clf_dietary_new_data/results/checkpoint-28/.\n",
      "If your task is similar to the task the model of the checkpoint was trained on, you can already use DistilBertForSequenceClassification for predictions without further training.\n",
      "loading configuration file ./distilbert_clf_dietary_new_data/results/checkpoint-29/config.json\n",
      "Model config DistilBertConfig {\n",
      "  \"_name_or_path\": \"new_distilbert_clf_dietary/results/checkpoint-11/\",\n",
      "  \"activation\": \"gelu\",\n",
      "  \"architectures\": [\n",
      "    \"DistilBertForSequenceClassification\"\n",
      "  ],\n",
      "  \"attention_dropout\": 0.1,\n",
      "  \"dim\": 768,\n",
      "  \"dropout\": 0.1,\n",
      "  \"hidden_dim\": 3072,\n",
      "  \"id2label\": {\n",
      "    \"0\": \"Veg\",\n",
      "    \"1\": \"Non-Veg\"\n",
      "  },\n",
      "  \"initializer_range\": 0.02,\n",
      "  \"label2id\": null,\n",
      "  \"max_position_embeddings\": 512,\n",
      "  \"model_type\": \"distilbert\",\n",
      "  \"n_heads\": 12,\n",
      "  \"n_layers\": 6,\n",
      "  \"pad_token_id\": 0,\n",
      "  \"problem_type\": \"single_label_classification\",\n",
      "  \"qa_dropout\": 0.1,\n",
      "  \"seq_classif_dropout\": 0.2,\n",
      "  \"sinusoidal_pos_embds\": false,\n",
      "  \"tie_weights_\": true,\n",
      "  \"torch_dtype\": \"float32\",\n",
      "  \"transformers_version\": \"4.38.2\",\n",
      "  \"vocab_size\": 30522\n",
      "}\n",
      "\n",
      "loading weights file ./distilbert_clf_dietary_new_data/results/checkpoint-29/model.safetensors\n",
      "All model checkpoint weights were used when initializing DistilBertForSequenceClassification.\n",
      "\n",
      "All the weights of DistilBertForSequenceClassification were initialized from the model checkpoint at ./distilbert_clf_dietary_new_data/results/checkpoint-29/.\n",
      "If your task is similar to the task the model of the checkpoint was trained on, you can already use DistilBertForSequenceClassification for predictions without further training.\n",
      "loading configuration file ./distilbert_clf_dietary_new_data/results/checkpoint-30/config.json\n",
      "Model config DistilBertConfig {\n",
      "  \"_name_or_path\": \"new_distilbert_clf_dietary/results/checkpoint-11/\",\n",
      "  \"activation\": \"gelu\",\n",
      "  \"architectures\": [\n",
      "    \"DistilBertForSequenceClassification\"\n",
      "  ],\n",
      "  \"attention_dropout\": 0.1,\n",
      "  \"dim\": 768,\n",
      "  \"dropout\": 0.1,\n",
      "  \"hidden_dim\": 3072,\n",
      "  \"id2label\": {\n",
      "    \"0\": \"Veg\",\n",
      "    \"1\": \"Non-Veg\"\n",
      "  },\n",
      "  \"initializer_range\": 0.02,\n",
      "  \"label2id\": null,\n",
      "  \"max_position_embeddings\": 512,\n",
      "  \"model_type\": \"distilbert\",\n",
      "  \"n_heads\": 12,\n",
      "  \"n_layers\": 6,\n",
      "  \"pad_token_id\": 0,\n",
      "  \"problem_type\": \"single_label_classification\",\n",
      "  \"qa_dropout\": 0.1,\n",
      "  \"seq_classif_dropout\": 0.2,\n",
      "  \"sinusoidal_pos_embds\": false,\n",
      "  \"tie_weights_\": true,\n",
      "  \"torch_dtype\": \"float32\",\n",
      "  \"transformers_version\": \"4.38.2\",\n",
      "  \"vocab_size\": 30522\n",
      "}\n",
      "\n",
      "loading weights file ./distilbert_clf_dietary_new_data/results/checkpoint-30/model.safetensors\n",
      "All model checkpoint weights were used when initializing DistilBertForSequenceClassification.\n",
      "\n",
      "All the weights of DistilBertForSequenceClassification were initialized from the model checkpoint at ./distilbert_clf_dietary_new_data/results/checkpoint-30/.\n",
      "If your task is similar to the task the model of the checkpoint was trained on, you can already use DistilBertForSequenceClassification for predictions without further training.\n"
     ]
    }
   ],
   "source": [
    "from sklearn.metrics import f1_score\n",
    "\n",
    "new_f1_scores=[]\n",
    "\n",
    "for i in tqdm(range(1,31)):\n",
    "    pdf = pred_df[['utterance', 'label_txt', 'label']\n",
    "                ].rename(columns={'utterance': 'Description', 'label_txt': 'y_true', 'label': 'y_true_id'})\n",
    "\n",
    "    pipe = pipeline(\"text-classification\", DistilBertForSequenceClassification.from_pretrained('./distilbert_clf_dietary_new_data/results/checkpoint-'+str(i)+'/'), tokenizer=tokenizer)\n",
    "    pdf[\"pred\"] = pdf.Description.apply(lambda x: pipe(x))\n",
    "\n",
    "    pdf[\"pred_label\"] = pdf.pred.apply(lambda x: x[0]['label'])\n",
    "    pdf[\"pred_score\"] = pdf.pred.apply(lambda x: x[0]['score'])\n",
    "\n",
    "    pdf.rename(columns={'pred_label': 'y_pred'}, inplace=True)\n",
    "    pdf[\"y_pred_id\"] = pdf.y_pred.apply(lambda x: unique_seq_labels.index(x))\n",
    "\n",
    "\n",
    "    new_f1_scores.append(f1_score(pdf['y_true_id'],pdf['y_pred_id']))"
   ]
  },
  {
   "cell_type": "code",
   "execution_count": 73,
   "metadata": {},
   "outputs": [
    {
     "data": {
      "text/plain": [
       "[0.09302325581395349,\n",
       " 0.689075630252101,\n",
       " 0.6451612903225806,\n",
       " 0.5614035087719299,\n",
       " 0.7522935779816513,\n",
       " 0.8421052631578947,\n",
       " 0.7428571428571429,\n",
       " 0.7733333333333334,\n",
       " 0.8723404255319149,\n",
       " 0.8039215686274509,\n",
       " 0.888888888888889,\n",
       " 0.888888888888889,\n",
       " 0.860215053763441,\n",
       " 0.851063829787234,\n",
       " 0.8453608247422679,\n",
       " 0.8571428571428571,\n",
       " 0.8421052631578947,\n",
       " 0.8247422680412371,\n",
       " 0.8421052631578947,\n",
       " 0.8333333333333334,\n",
       " 0.8163265306122448,\n",
       " 0.8421052631578947,\n",
       " 0.8695652173913043,\n",
       " 0.8695652173913043,\n",
       " 0.860215053763441,\n",
       " 0.8421052631578947,\n",
       " 0.8333333333333334,\n",
       " 0.8333333333333334,\n",
       " 0.8421052631578947,\n",
       " 0.8421052631578947]"
      ]
     },
     "execution_count": 73,
     "metadata": {},
     "output_type": "execute_result"
    }
   ],
   "source": [
    "f1_scores"
   ]
  },
  {
   "cell_type": "code",
   "execution_count": 81,
   "metadata": {},
   "outputs": [
    {
     "data": {
      "text/plain": [
       "4"
      ]
     },
     "execution_count": 81,
     "metadata": {},
     "output_type": "execute_result"
    }
   ],
   "source": [
    "best_version=np.array(new_f1_scores).argmax()+1\n",
    "best_version"
   ]
  },
  {
   "cell_type": "code",
   "execution_count": 82,
   "metadata": {},
   "outputs": [
    {
     "name": "stderr",
     "output_type": "stream",
     "text": [
      "loading configuration file new_distilbert_clf_dietary/results/checkpoint-4/config.json\n",
      "Model config DistilBertConfig {\n",
      "  \"_name_or_path\": \"distilbert-base-uncased\",\n",
      "  \"activation\": \"gelu\",\n",
      "  \"architectures\": [\n",
      "    \"DistilBertForSequenceClassification\"\n",
      "  ],\n",
      "  \"attention_dropout\": 0.1,\n",
      "  \"dim\": 768,\n",
      "  \"dropout\": 0.1,\n",
      "  \"hidden_dim\": 3072,\n",
      "  \"id2label\": {\n",
      "    \"0\": \"Veg\",\n",
      "    \"1\": \"Non-Veg\"\n",
      "  },\n",
      "  \"initializer_range\": 0.02,\n",
      "  \"label2id\": null,\n",
      "  \"max_position_embeddings\": 512,\n",
      "  \"model_type\": \"distilbert\",\n",
      "  \"n_heads\": 12,\n",
      "  \"n_layers\": 6,\n",
      "  \"pad_token_id\": 0,\n",
      "  \"problem_type\": \"single_label_classification\",\n",
      "  \"qa_dropout\": 0.1,\n",
      "  \"seq_classif_dropout\": 0.2,\n",
      "  \"sinusoidal_pos_embds\": false,\n",
      "  \"tie_weights_\": true,\n",
      "  \"torch_dtype\": \"float32\",\n",
      "  \"transformers_version\": \"4.38.2\",\n",
      "  \"vocab_size\": 30522\n",
      "}\n",
      "\n",
      "loading weights file new_distilbert_clf_dietary/results/checkpoint-4/model.safetensors\n",
      "All model checkpoint weights were used when initializing DistilBertForSequenceClassification.\n",
      "\n",
      "All the weights of DistilBertForSequenceClassification were initialized from the model checkpoint at new_distilbert_clf_dietary/results/checkpoint-4/.\n",
      "If your task is similar to the task the model of the checkpoint was trained on, you can already use DistilBertForSequenceClassification for predictions without further training.\n"
     ]
    }
   ],
   "source": [
    "pdf = pred_df[['utterance', 'label_txt', 'label']\n",
    "             ].rename(columns={'utterance': 'Description', 'label_txt': 'y_true', 'label': 'y_true_id'})\n",
    "\n",
    "\n",
    "pipe = pipeline(\"text-classification\", DistilBertForSequenceClassification.from_pretrained('new_distilbert_clf_dietary/results/checkpoint-'+str(best_version)+'/'), tokenizer=tokenizer)\n",
    "pdf[\"pred\"] = pdf.Description.apply(lambda x: pipe(x))"
   ]
  },
  {
   "cell_type": "code",
   "execution_count": 83,
   "metadata": {},
   "outputs": [],
   "source": [
    "pdf[\"pred_label\"] = pdf.pred.apply(lambda x: x[0]['label'])\n",
    "pdf[\"pred_score\"] = pdf.pred.apply(lambda x: x[0]['score'])"
   ]
  },
  {
   "cell_type": "code",
   "execution_count": 84,
   "metadata": {},
   "outputs": [],
   "source": [
    "pdf.rename(columns={'pred_label': 'y_pred'}, inplace=True)\n",
    "pdf[\"y_pred_id\"] = pdf.y_pred.apply(lambda x: unique_seq_labels.index(x))"
   ]
  },
  {
   "cell_type": "code",
   "execution_count": 85,
   "metadata": {},
   "outputs": [
    {
     "name": "stderr",
     "output_type": "stream",
     "text": [
      "/var/folders/2p/d_5l4xlj7ygbv8ldw505sjnr0000gn/T/ipykernel_10422/2770615981.py:76: UserWarning: This figure includes Axes that are not compatible with tight_layout, so results might be incorrect.\n",
      "  plt.tight_layout()\n"
     ]
    },
    {
     "data": {
      "image/png": "[encoded data removed]",
      "text/plain": [
       "<Figure size 1000x1000 with 2 Axes>"
      ]
     },
     "metadata": {},
     "output_type": "display_data"
    }
   ],
   "source": [
    "import numpy as np\n",
    "import matplotlib.pyplot as plt\n",
    "from sklearn.metrics import confusion_matrix\n",
    "\n",
    "# Sample data\n",
    "y_true = pdf.y_true.to_list()\n",
    "y_pred = pdf.y_pred.to_list()\n",
    "\n",
    "# Compute the confusion matrix\n",
    "cm = confusion_matrix(y_true, y_pred)\n",
    "classes = np.unique(y_true)\n",
    "n_classes = len(classes)\n",
    "\n",
    "# Compute accuracy percentages for each class\n",
    "cm_normalized = cm.astype('float') / cm.sum(axis=1)[:, np.newaxis] * 100\n",
    "\n",
    "# Create the expanded confusion matrix with sum rows and columns\n",
    "cm_perc = np.zeros((n_classes+1, n_classes+1), dtype=float)\n",
    "cm_perc[:n_classes, :n_classes] = cm_normalized\n",
    "\n",
    "# Compute the sum values for the last row/column\n",
    "cm_with_sum = np.vstack([cm, cm.sum(axis=0)])\n",
    "cm_with_sum = np.hstack([cm_with_sum, cm_with_sum.sum(axis=1)[:, np.newaxis]])\n",
    "\n",
    "total_predictions = cm.sum()\n",
    "\n",
    "fig, ax = plt.subplots(figsize=(10,10))\n",
    "\n",
    "# Use cm_perc for shading\n",
    "im = ax.imshow(cm_perc, interpolation='nearest', cmap=\"Blues\", vmin=0, vmax=100)\n",
    "\n",
    "# Color bar settings\n",
    "left = ax.get_position().x1 + 0.2\n",
    "bottom = ax.get_position().y0 +0.2\n",
    "width = 0.05\n",
    "height = ax.get_position().height -0.3\n",
    "cbar_ax = fig.add_axes([left, bottom, width, height])\n",
    "cbar = fig.colorbar(im, cax=cbar_ax)\n",
    "cbar.ax.set_ylabel('Accuracy Percentage', rotation=270, va='bottom')\n",
    "\n",
    "# Ticks, grid and gridlines\n",
    "ax.set(xticks=np.arange(cm_perc.shape[1])-0.5, \n",
    "       yticks=np.arange(cm_perc.shape[0])-0.5, \n",
    "       xticklabels=list(classes)+['Sum'], yticklabels=list(classes)+['No of Samples'],\n",
    "       ylabel='True label',\n",
    "       xlabel='Predicted label',\n",
    "       title='FoodDescriptionTags - First Stage Classifier')\n",
    "\n",
    "# Rotate xticks\n",
    "ax.set_xticklabels(list(classes)+['No of Samples'], rotation=45)\n",
    "\n",
    "# Creating a white grid to separate each cell\n",
    "ax.set_xticks(np.arange(cm_perc.shape[1]), minor=True)\n",
    "ax.set_yticks(np.arange(cm_perc.shape[0]), minor=True)\n",
    "ax.grid(which='major', color='w', linestyle='-', linewidth=2)\n",
    "\n",
    "# Text annotations\n",
    "thresh = cm_perc.max() / 2.\n",
    "for i in range(cm_perc.shape[0]):\n",
    "    for j in range(cm_perc.shape[1]):\n",
    "        if i < n_classes and j < n_classes:\n",
    "            text = f\"{cm[i, j]}\\n({cm_normalized[i, j]:.2f}%)\"\n",
    "        elif i == n_classes or j == n_classes:  # Sum row/column\n",
    "            percent = cm_with_sum[i, j] / total_predictions * 100\n",
    "            text = f\"{cm_with_sum[i, j]}\\n({percent:.2f}%)\"\n",
    "        ax.text(j, i, text, ha=\"center\", va=\"center\", color=\"white\" if cm_perc[i, j] > thresh else \"black\", fontsize=10)\n",
    "\n",
    "# Remove spines and adjust ticks\n",
    "ax.spines['top'].set_visible(False)\n",
    "ax.spines['right'].set_visible(False)\n",
    "ax.spines['bottom'].set_visible(False)\n",
    "ax.spines['left'].set_visible(False)\n",
    "ax.tick_params(axis='x', which='both', bottom=False, top=False)\n",
    "ax.tick_params(axis='y', which='both', left=False, right=False)\n",
    "\n",
    "plt.tight_layout()\n",
    "plt.show()"
   ]
  },
  {
   "cell_type": "code",
   "execution_count": 86,
   "metadata": {},
   "outputs": [
    {
     "data": {
      "text/html": [
       "<div>\n",
       "<style scoped>\n",
       "    .dataframe tbody tr th:only-of-type {\n",
       "        vertical-align: middle;\n",
       "    }\n",
       "\n",
       "    .dataframe tbody tr th {\n",
       "        vertical-align: top;\n",
       "    }\n",
       "\n",
       "    .dataframe thead th {\n",
       "        text-align: right;\n",
       "    }\n",
       "</style>\n",
       "<table border=\"1\" class=\"dataframe\">\n",
       "  <thead>\n",
       "    <tr style=\"text-align: right;\">\n",
       "      <th></th>\n",
       "      <th>Description</th>\n",
       "      <th>y_true</th>\n",
       "      <th>y_true_id</th>\n",
       "      <th>pred</th>\n",
       "      <th>y_pred</th>\n",
       "      <th>pred_score</th>\n",
       "      <th>y_pred_id</th>\n",
       "    </tr>\n",
       "  </thead>\n",
       "  <tbody>\n",
       "    <tr>\n",
       "      <th>0</th>\n",
       "      <td>Tortellini in Brodo is a classic Italian dish ...</td>\n",
       "      <td>Non-Veg</td>\n",
       "      <td>1</td>\n",
       "      <td>[{'label': 'Non-Veg', 'score': 0.5672301650047...</td>\n",
       "      <td>Non-Veg</td>\n",
       "      <td>0.567230</td>\n",
       "      <td>1</td>\n",
       "    </tr>\n",
       "    <tr>\n",
       "      <th>1</th>\n",
       "      <td>Prosciutto is a dry-cured ham that is thinly s...</td>\n",
       "      <td>Non-Veg</td>\n",
       "      <td>1</td>\n",
       "      <td>[{'label': 'Veg', 'score': 0.5460101366043091}]</td>\n",
       "      <td>Veg</td>\n",
       "      <td>0.546010</td>\n",
       "      <td>0</td>\n",
       "    </tr>\n",
       "    <tr>\n",
       "      <th>2</th>\n",
       "      <td>Goan Prawn Curry is a flavorful seafood dish f...</td>\n",
       "      <td>Non-Veg</td>\n",
       "      <td>1</td>\n",
       "      <td>[{'label': 'Non-Veg', 'score': 0.5356796383857...</td>\n",
       "      <td>Non-Veg</td>\n",
       "      <td>0.535680</td>\n",
       "      <td>1</td>\n",
       "    </tr>\n",
       "    <tr>\n",
       "      <th>3</th>\n",
       "      <td>Honey Walnut Shrimp is a popular Chinese-Ameri...</td>\n",
       "      <td>Non-Veg</td>\n",
       "      <td>1</td>\n",
       "      <td>[{'label': 'Non-Veg', 'score': 0.5318763256072...</td>\n",
       "      <td>Non-Veg</td>\n",
       "      <td>0.531876</td>\n",
       "      <td>1</td>\n",
       "    </tr>\n",
       "    <tr>\n",
       "      <th>4</th>\n",
       "      <td>Soy Sauce Chicken is a classic Chinese dish wh...</td>\n",
       "      <td>Non-Veg</td>\n",
       "      <td>1</td>\n",
       "      <td>[{'label': 'Non-Veg', 'score': 0.5061180591583...</td>\n",
       "      <td>Non-Veg</td>\n",
       "      <td>0.506118</td>\n",
       "      <td>1</td>\n",
       "    </tr>\n",
       "    <tr>\n",
       "      <th>...</th>\n",
       "      <td>...</td>\n",
       "      <td>...</td>\n",
       "      <td>...</td>\n",
       "      <td>...</td>\n",
       "      <td>...</td>\n",
       "      <td>...</td>\n",
       "      <td>...</td>\n",
       "    </tr>\n",
       "    <tr>\n",
       "      <th>77</th>\n",
       "      <td>Methi Thepla is a popular flatbread from the s...</td>\n",
       "      <td>Veg</td>\n",
       "      <td>0</td>\n",
       "      <td>[{'label': 'Veg', 'score': 0.5764021873474121}]</td>\n",
       "      <td>Veg</td>\n",
       "      <td>0.576402</td>\n",
       "      <td>0</td>\n",
       "    </tr>\n",
       "    <tr>\n",
       "      <th>78</th>\n",
       "      <td>Lamb Saag is a traditional South Asian dish ma...</td>\n",
       "      <td>Non-Veg</td>\n",
       "      <td>1</td>\n",
       "      <td>[{'label': 'Non-Veg', 'score': 0.5131606459617...</td>\n",
       "      <td>Non-Veg</td>\n",
       "      <td>0.513161</td>\n",
       "      <td>1</td>\n",
       "    </tr>\n",
       "    <tr>\n",
       "      <th>79</th>\n",
       "      <td>Kongunadu Chicken Curry is a flavorful South I...</td>\n",
       "      <td>Non-Veg</td>\n",
       "      <td>1</td>\n",
       "      <td>[{'label': 'Non-Veg', 'score': 0.5199657678604...</td>\n",
       "      <td>Non-Veg</td>\n",
       "      <td>0.519966</td>\n",
       "      <td>1</td>\n",
       "    </tr>\n",
       "    <tr>\n",
       "      <th>80</th>\n",
       "      <td>Osso Buco is a traditional Italian dish featur...</td>\n",
       "      <td>Non-Veg</td>\n",
       "      <td>1</td>\n",
       "      <td>[{'label': 'Veg', 'score': 0.5065984129905701}]</td>\n",
       "      <td>Veg</td>\n",
       "      <td>0.506598</td>\n",
       "      <td>0</td>\n",
       "    </tr>\n",
       "    <tr>\n",
       "      <th>81</th>\n",
       "      <td>Vendakkai Puli Kuzhambu is a tangy South India...</td>\n",
       "      <td>Veg</td>\n",
       "      <td>0</td>\n",
       "      <td>[{'label': 'Veg', 'score': 0.5056825280189514}]</td>\n",
       "      <td>Veg</td>\n",
       "      <td>0.505683</td>\n",
       "      <td>0</td>\n",
       "    </tr>\n",
       "  </tbody>\n",
       "</table>\n",
       "<p>82 rows × 7 columns</p>\n",
       "</div>"
      ],
      "text/plain": [
       "                                          Description   y_true  y_true_id  \\\n",
       "0   Tortellini in Brodo is a classic Italian dish ...  Non-Veg          1   \n",
       "1   Prosciutto is a dry-cured ham that is thinly s...  Non-Veg          1   \n",
       "2   Goan Prawn Curry is a flavorful seafood dish f...  Non-Veg          1   \n",
       "3   Honey Walnut Shrimp is a popular Chinese-Ameri...  Non-Veg          1   \n",
       "4   Soy Sauce Chicken is a classic Chinese dish wh...  Non-Veg          1   \n",
       "..                                                ...      ...        ...   \n",
       "77  Methi Thepla is a popular flatbread from the s...      Veg          0   \n",
       "78  Lamb Saag is a traditional South Asian dish ma...  Non-Veg          1   \n",
       "79  Kongunadu Chicken Curry is a flavorful South I...  Non-Veg          1   \n",
       "80  Osso Buco is a traditional Italian dish featur...  Non-Veg          1   \n",
       "81  Vendakkai Puli Kuzhambu is a tangy South India...      Veg          0   \n",
       "\n",
       "                                                 pred   y_pred  pred_score  \\\n",
       "0   [{'label': 'Non-Veg', 'score': 0.5672301650047...  Non-Veg    0.567230   \n",
       "1     [{'label': 'Veg', 'score': 0.5460101366043091}]      Veg    0.546010   \n",
       "2   [{'label': 'Non-Veg', 'score': 0.5356796383857...  Non-Veg    0.535680   \n",
       "3   [{'label': 'Non-Veg', 'score': 0.5318763256072...  Non-Veg    0.531876   \n",
       "4   [{'label': 'Non-Veg', 'score': 0.5061180591583...  Non-Veg    0.506118   \n",
       "..                                                ...      ...         ...   \n",
       "77    [{'label': 'Veg', 'score': 0.5764021873474121}]      Veg    0.576402   \n",
       "78  [{'label': 'Non-Veg', 'score': 0.5131606459617...  Non-Veg    0.513161   \n",
       "79  [{'label': 'Non-Veg', 'score': 0.5199657678604...  Non-Veg    0.519966   \n",
       "80    [{'label': 'Veg', 'score': 0.5065984129905701}]      Veg    0.506598   \n",
       "81    [{'label': 'Veg', 'score': 0.5056825280189514}]      Veg    0.505683   \n",
       "\n",
       "    y_pred_id  \n",
       "0           1  \n",
       "1           0  \n",
       "2           1  \n",
       "3           1  \n",
       "4           1  \n",
       "..        ...  \n",
       "77          0  \n",
       "78          1  \n",
       "79          1  \n",
       "80          0  \n",
       "81          0  \n",
       "\n",
       "[82 rows x 7 columns]"
      ]
     },
     "execution_count": 86,
     "metadata": {},
     "output_type": "execute_result"
    }
   ],
   "source": [
    "pdf"
   ]
  },
  {
   "cell_type": "code",
   "execution_count": 87,
   "metadata": {},
   "outputs": [
    {
     "name": "stdout",
     "output_type": "stream",
     "text": [
      "\n",
      "Accuracy:  0.7560975609756098 \n",
      "Precision:  0.8387096774193549 \n",
      "Recall:  0.6341463414634146 \n",
      "f1_score:  0.7222222222222222\n"
     ]
    }
   ],
   "source": [
    "from sklearn.metrics import accuracy_score,precision_score,recall_score,f1_score\n",
    "\n",
    "# Sample data\n",
    "y_true = pdf.y_true_id.to_list()\n",
    "y_pred = pdf.y_pred_id.to_list()\n",
    "\n",
    "acc=accuracy_score(y_true,y_pred)\n",
    "precision = precision_score(y_true, y_pred)\n",
    "recall=recall_score(y_true,y_pred)\n",
    "f1score=f1_score(y_true,y_pred)\n",
    "\n",
    "print(\"\\nAccuracy: \",acc,\"\\nPrecision: \",precision,\"\\nRecall: \",recall,\"\\nf1_score: \",f1score)"
   ]
  },
  {
   "cell_type": "markdown",
   "metadata": {},
   "source": [
    "The previous classifier performs better"
   ]
  },
  {
   "cell_type": "code",
   "execution_count": null,
   "metadata": {},
   "outputs": [],
   "source": []
  }
 ],
 "metadata": {
  "kernelspec": {
   "display_name": "Python 3",
   "language": "python",
   "name": "python3"
  },
  "language_info": {
   "codemirror_mode": {
    "name": "ipython",
    "version": 3
   },
   "file_extension": ".py",
   "mimetype": "text/x-python",
   "name": "python",
   "nbconvert_exporter": "python",
   "pygments_lexer": "ipython3",
   "version": "3.9.6"
  }
 },
 "nbformat": 4,
 "nbformat_minor": 2
}
